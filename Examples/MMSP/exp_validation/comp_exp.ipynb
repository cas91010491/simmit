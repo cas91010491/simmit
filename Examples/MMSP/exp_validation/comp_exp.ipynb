{
 "cells": [
  {
   "cell_type": "markdown",
   "metadata": {},
   "source": [
    "# Composites simulation :  Experimental validation"
   ]
  },
  {
   "cell_type": "code",
   "execution_count": 1,
   "metadata": {
    "collapsed": false
   },
   "outputs": [],
   "source": [
    "%matplotlib inline\n",
    "\n",
    "import numpy as np\n",
    "import pandas as pd\n",
    "import matplotlib.pyplot as plt\n",
    "from simmit import smartplus as sim\n",
    "from simmit import identify as iden\n",
    "import os\n",
    "import itertools\n",
    "\n",
    "dir = os.path.dirname(os.path.realpath('__file__'))"
   ]
  },
  {
   "cell_type": "markdown",
   "metadata": {},
   "source": [
    "We need to import here the data, modify them if needed and proceed"
   ]
  },
  {
   "cell_type": "code",
   "execution_count": 2,
   "metadata": {
    "collapsed": false
   },
   "outputs": [
    {
     "data": {
      "text/html": [
       "<div>\n",
       "<table border=\"1\" class=\"dataframe\">\n",
       "  <thead>\n",
       "    <tr style=\"text-align: right;\">\n",
       "      <th></th>\n",
       "      <th>Number</th>\n",
       "      <th>Coatingof</th>\n",
       "      <th>umat</th>\n",
       "      <th>save</th>\n",
       "      <th>c</th>\n",
       "      <th>psi_mat</th>\n",
       "      <th>theta_mat</th>\n",
       "      <th>phi_mat</th>\n",
       "      <th>a1</th>\n",
       "      <th>a2</th>\n",
       "      <th>a3</th>\n",
       "      <th>psi_geom</th>\n",
       "      <th>theta_geom</th>\n",
       "      <th>phi_geom</th>\n",
       "      <th>nprops</th>\n",
       "      <th>nstatev</th>\n",
       "      <th>props</th>\n",
       "    </tr>\n",
       "  </thead>\n",
       "  <tbody>\n",
       "    <tr>\n",
       "      <th>0</th>\n",
       "      <td>0</td>\n",
       "      <td>0</td>\n",
       "      <td>ELISO</td>\n",
       "      <td>1</td>\n",
       "      <td>@0p</td>\n",
       "      <td>0.0</td>\n",
       "      <td>0.0</td>\n",
       "      <td>0.0</td>\n",
       "      <td>1</td>\n",
       "      <td>1</td>\n",
       "      <td>1</td>\n",
       "      <td>0.0</td>\n",
       "      <td>0.0</td>\n",
       "      <td>0.0</td>\n",
       "      <td>3</td>\n",
       "      <td>1</td>\n",
       "      <td>2250</td>\n",
       "    </tr>\n",
       "    <tr>\n",
       "      <th>1</th>\n",
       "      <td>1</td>\n",
       "      <td>0</td>\n",
       "      <td>ELISO</td>\n",
       "      <td>1</td>\n",
       "      <td>@1p</td>\n",
       "      <td>0.0</td>\n",
       "      <td>0.0</td>\n",
       "      <td>0.0</td>\n",
       "      <td>1</td>\n",
       "      <td>1</td>\n",
       "      <td>1</td>\n",
       "      <td>0.0</td>\n",
       "      <td>0.0</td>\n",
       "      <td>0.0</td>\n",
       "      <td>3</td>\n",
       "      <td>1</td>\n",
       "      <td>73000</td>\n",
       "    </tr>\n",
       "  </tbody>\n",
       "</table>\n",
       "</div>"
      ],
      "text/plain": [
       "   Number  Coatingof   umat  save    c  psi_mat  theta_mat  phi_mat  a1  a2  \\\n",
       "0       0          0  ELISO     1  @0p      0.0        0.0      0.0   1   1   \n",
       "1       1          0  ELISO     1  @1p      0.0        0.0      0.0   1   1   \n",
       "\n",
       "   a3  psi_geom  theta_geom  phi_geom  nprops  nstatev  props  \n",
       "0   1       0.0         0.0       0.0       3        1   2250  \n",
       "1   1       0.0         0.0       0.0       3        1  73000  "
      ]
     },
     "execution_count": 2,
     "metadata": {},
     "output_type": "execute_result"
    }
   ],
   "source": [
    "nstatev = 0\n",
    "\n",
    "nphases = 2 #The number of phases\n",
    "num_file = 0 #The num of the file that contains the subphases\n",
    "int1 = 50\n",
    "int2 = 50\n",
    "n_matrix = 0\n",
    "\n",
    "props = np.array([nphases, num_file, int1, int2, n_matrix])\n",
    "\n",
    "NPhases_file = dir + '/keys/Nellipsoids0.dat'\n",
    "NPhases = pd.read_csv(NPhases_file, delimiter=r'\\s+', index_col=False, engine='python')\n",
    "NPhases[::]\n"
   ]
  },
  {
   "cell_type": "code",
   "execution_count": 5,
   "metadata": {
    "collapsed": false,
    "scrolled": true
   },
   "outputs": [],
   "source": [
    "path_data = dir + '/data'\n",
    "path_keys = dir + '/keys'\n",
    "pathfile = 'path.txt'\n",
    "\n",
    "nparams = 4\n",
    "param_list = iden.read_parameters(nparams)\n",
    "\n",
    "psi_rve = 0.\n",
    "theta_rve = 0.\n",
    "phi_rve = 0.\n",
    "\n",
    "concentration = np.arange(0.,0.51,0.01)\n",
    "\n",
    "E_MT = np.zeros(len(concentration))\n",
    "umat_name = 'MIMTN'\n",
    "for i, x in enumerate (concentration):\n",
    " \n",
    "    param_list[1].value = x\n",
    "    param_list[0].value = 1.-x\n",
    "    \n",
    "    iden.copy_parameters(param_list, path_keys, path_data)\n",
    "    iden.apply_parameters(param_list, path_data)\n",
    "\n",
    "    L = sim.L_eff(umat_name, props, nstatev, psi_rve, theta_rve, phi_rve, path_data)\n",
    "    p = sim.L_iso_props(L)\n",
    "    E_MT[i] = p[0]\n",
    "\n",
    "    \n",
    "E_SC = np.zeros(len(concentration))\n",
    "umat_name = 'MISCN'\n",
    "for i, x in enumerate (concentration):\n",
    " \n",
    "    param_list[1].value = x\n",
    "    param_list[0].value = 1.-x\n",
    "    \n",
    "    iden.copy_parameters(param_list, path_keys, path_data)\n",
    "    iden.apply_parameters(param_list, path_data)\n",
    "\n",
    "    L = sim.L_eff(umat_name, props, nstatev, psi_rve, theta_rve, phi_rve, path_data)\n",
    "    p = sim.L_iso_props(L)\n",
    "    E_SC[i] = p[0]\n"
   ]
  },
  {
   "cell_type": "code",
   "execution_count": 4,
   "metadata": {
    "collapsed": false,
    "scrolled": true
   },
   "outputs": [
    {
     "data": {
      "image/png": "[encoded data removed]",
      "text/plain": [
       "<matplotlib.figure.Figure at 0x1091245d0>"
      ]
     },
     "metadata": {},
     "output_type": "display_data"
    }
   ],
   "source": [
    "fig = plt.figure()\n",
    "plt.plot(concentration,E_MT, c='blue')\n",
    "plt.plot(concentration,E_SC, c='red')\n",
    "expfile = path_data + '/' + 'E_exp.txt'\n",
    "c,E = np.loadtxt(expfile, usecols=(0,1), unpack=True)\n",
    "plt.plot(c,E,linestyle='None', marker='x', color='black', markersize=10)\n",
    "plt.show()"
   ]
  }
 ],
 "metadata": {
  "kernelspec": {
   "display_name": "Python 2",
   "language": "python",
   "name": "python2"
  },
  "language_info": {
   "codemirror_mode": {
    "name": "ipython",
    "version": 2
   },
   "file_extension": ".py",
   "mimetype": "text/x-python",
   "name": "python",
   "nbconvert_exporter": "python",
   "pygments_lexer": "ipython2",
   "version": "2.7.11"
  }
 },
 "nbformat": 4,
 "nbformat_minor": 0
}
