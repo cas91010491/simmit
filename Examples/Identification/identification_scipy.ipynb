{
 "cells": [
  {
   "cell_type": "code",
   "execution_count": 1,
   "metadata": {
    "collapsed": false
   },
   "outputs": [],
   "source": [
    "%matplotlib inline\n",
    "\n",
    "import numpy as np\n",
    "import matplotlib.pyplot as plt\n",
    "from simmit import smartplus as sim\n",
    "from simmit import identify as iden\n",
    "import pandas as pd\n",
    "import os\n",
    "from shutil import copyfile\n",
    "\n",
    "from scipy.optimize import minimize\n",
    "\n",
    "dir = os.path.dirname(os.path.realpath('__file__'))"
   ]
  },
  {
   "cell_type": "markdown",
   "metadata": {},
   "source": [
    "    number = mnumber;\n",
    "    value = mvalue;\n",
    "    input_values = arma2numpy::array2vec(minput_values);\n",
    "    key = mkey;\n",
    "    ninput_files = mninput_files;\n",
    "    input_files = arma2numpy::py_list_to_std_vector_string(minput_files);"
   ]
  },
  {
   "cell_type": "code",
   "execution_count": 2,
   "metadata": {
    "collapsed": false
   },
   "outputs": [],
   "source": [
    "umat_name = 'MIPLN' #This is the 5 character code for the periodic homogenization for multlayered composite\n",
    "nstatev = 0 #The number of scalar variables required, everything is stored in sub-phases statevs\n",
    "\n",
    "rho = 1.12 #The density of the material (overall)\n",
    "c_p = 1.64 #The specific heat capacity (overall)\n",
    "\n",
    "nphases = 2 #The number of phases\n",
    "num_file = 0 #The num of the file that contains the subphases\n",
    "\n",
    "psi_rve = 0.\n",
    "theta_rve = 0.\n",
    "phi_rve = 0.\n",
    "\n",
    "props = np.array([nphases, num_file])\n",
    "\n",
    "#NPhases_file = dir + '/data/Nlayers0.dat'\n",
    "#NPhases = pd.read_csv(NPhases_file, delimiter=r'\\s+', index_col=False, engine='python')\n",
    "#NPhases[::]"
   ]
  },
  {
   "cell_type": "code",
   "execution_count": 3,
   "metadata": {
    "collapsed": false
   },
   "outputs": [
    {
     "name": "stdout",
     "output_type": "stream",
     "text": [
      "Optimization terminated successfully.\n",
      "         Current function value: 0.000000\n",
      "         Iterations: 16\n",
      "         Function evaluations: 111\n",
      " final_simplex: (array([[  0.00000000e+00,   0.00000000e+00,   0.00000000e+00,\n",
      "          0.00000000e+00,   0.00000000e+00],\n",
      "       [  7.62939453e-09,   0.00000000e+00,   0.00000000e+00,\n",
      "          0.00000000e+00,   0.00000000e+00],\n",
      "       [  0.00000000e+00,   7.62939453e-09,   0.00000000e+00,\n",
      "          0.00000000e+00,   0.00000000e+00],\n",
      "       [  0.00000000e+00,   0.00000000e+00,   7.62939453e-09,\n",
      "          0.00000000e+00,   0.00000000e+00],\n",
      "       [  0.00000000e+00,   0.00000000e+00,   0.00000000e+00,\n",
      "          7.62939453e-09,   0.00000000e+00],\n",
      "       [  0.00000000e+00,   0.00000000e+00,   0.00000000e+00,\n",
      "          0.00000000e+00,   7.62939453e-09]]), array([ 0.,  0.,  0.,  0.,  0.,  0.]))\n",
      "           fun: 0.0\n",
      "       message: 'Optimization terminated successfully.'\n",
      "          nfev: 111\n",
      "           nit: 16\n",
      "        status: 0\n",
      "       success: True\n",
      "             x: array([ 0.,  0.,  0.,  0.,  0.])\n"
     ]
    }
   ],
   "source": [
    "#The array of parameters\n",
    "p = np.zeros(5)\n",
    "\n",
    "#Replace the constants\n",
    "res = minimize(iden.cost_solver, p,  method='nelder-mead', options={'xtol': 1e-8, 'disp': True})\n",
    "#res = minimize(sim_solver, p,  method='Powell', options={'xtol': 1e-8, 'disp': True})\n",
    "#res = minimize(iden.cost_solver, p, method='CG')\n",
    "#res = minimize(sim_solver, p,  jac=None, hess=None, method='BFGS', options={'disp': True})\n",
    "\n",
    "print(res)\n"
   ]
  },
  {
   "cell_type": "code",
   "execution_count": null,
   "metadata": {
    "collapsed": false
   },
   "outputs": [],
   "source": [
    "print(const_list[0].number)\n",
    "print(const_list[1].number)\n",
    "\n",
    "print(param_list[0].value)\n",
    "print(param_list[1].value)\n",
    "print(param_list[2].value)\n",
    "print(param_list[3].value)\n",
    "print(param_list[4].value)"
   ]
  },
  {
   "cell_type": "code",
   "execution_count": null,
   "metadata": {
    "collapsed": true
   },
   "outputs": [],
   "source": []
  }
 ],
 "metadata": {
  "kernelspec": {
   "display_name": "Python 2",
   "language": "python",
   "name": "python2"
  },
  "language_info": {
   "codemirror_mode": {
    "name": "ipython",
    "version": 2
   },
   "file_extension": ".py",
   "mimetype": "text/x-python",
   "name": "python",
   "nbconvert_exporter": "python",
   "pygments_lexer": "ipython2",
   "version": "2.7.11"
  }
 },
 "nbformat": 4,
 "nbformat_minor": 0
}
