{
 "cells": [
  {
   "cell_type": "markdown",
   "metadata": {},
   "source": [
    "# Composites simulation :  plastic plies"
   ]
  },
  {
   "cell_type": "code",
   "execution_count": 1,
   "metadata": {
    "collapsed": false
   },
   "outputs": [],
   "source": [
    "%matplotlib inline\n",
    "\n",
    "import numpy as np\n",
    "import pandas as pd\n",
    "import matplotlib.pyplot as plt\n",
    "from simmit import smartplus as sim\n",
    "import os\n",
    "\n",
    "dir = os.path.dirname(os.path.realpath('__file__'))"
   ]
  },
  {
   "cell_type": "markdown",
   "metadata": {},
   "source": [
    "We need to import here the data, modify them if needed and proceed"
   ]
  },
  {
   "cell_type": "code",
   "execution_count": 2,
   "metadata": {
    "collapsed": false
   },
   "outputs": [
    {
     "data": {
      "text/html": [
       "<div>\n",
       "<table border=\"1\" class=\"dataframe\">\n",
       "  <thead>\n",
       "    <tr style=\"text-align: right;\">\n",
       "      <th></th>\n",
       "      <th>Number</th>\n",
       "      <th>umat</th>\n",
       "      <th>save</th>\n",
       "      <th>c</th>\n",
       "      <th>psi_mat</th>\n",
       "      <th>theta_mat</th>\n",
       "      <th>phi_mat</th>\n",
       "      <th>psi_geom</th>\n",
       "      <th>theta_geom</th>\n",
       "      <th>phi_geom</th>\n",
       "      <th>nprops</th>\n",
       "      <th>nstatev</th>\n",
       "      <th>props</th>\n",
       "    </tr>\n",
       "  </thead>\n",
       "  <tbody>\n",
       "    <tr>\n",
       "      <th>0</th>\n",
       "      <td>0</td>\n",
       "      <td>EPICP</td>\n",
       "      <td>1</td>\n",
       "      <td>0.5</td>\n",
       "      <td>0</td>\n",
       "      <td>0</td>\n",
       "      <td>0</td>\n",
       "      <td>0.0</td>\n",
       "      <td>0.0</td>\n",
       "      <td>0.0</td>\n",
       "      <td>6</td>\n",
       "      <td>8</td>\n",
       "      <td>31034</td>\n",
       "    </tr>\n",
       "    <tr>\n",
       "      <th>1</th>\n",
       "      <td>1</td>\n",
       "      <td>EPICP</td>\n",
       "      <td>1</td>\n",
       "      <td>0.5</td>\n",
       "      <td>0</td>\n",
       "      <td>0</td>\n",
       "      <td>0</td>\n",
       "      <td>0.0</td>\n",
       "      <td>0.0</td>\n",
       "      <td>0.0</td>\n",
       "      <td>6</td>\n",
       "      <td>8</td>\n",
       "      <td>3034</td>\n",
       "    </tr>\n",
       "  </tbody>\n",
       "</table>\n",
       "</div>"
      ],
      "text/plain": [
       "   Number   umat  save    c  psi_mat  theta_mat  phi_mat  psi_geom  \\\n",
       "0       0  EPICP     1  0.5        0          0        0       0.0   \n",
       "1       1  EPICP     1  0.5        0          0        0       0.0   \n",
       "\n",
       "   theta_geom  phi_geom  nprops  nstatev  props  \n",
       "0         0.0       0.0       6        8  31034  \n",
       "1         0.0       0.0       6        8   3034  "
      ]
     },
     "execution_count": 2,
     "metadata": {},
     "output_type": "execute_result"
    }
   ],
   "source": [
    "umat_name = 'MIPLN' #This is the 5 character code for the periodic homogenization for multlayered composite\n",
    "nstatev = 0 #The number of scalar variables required, everything is stored in sub-phases statevs\n",
    "\n",
    "rho = 1.12 #The density of the material (overall)\n",
    "c_p = 1.64 #The specific heat capacity (overall)\n",
    "\n",
    "nphases = 2 #The number of phases\n",
    "num_file = 0 #The num of the file that contains the subphases\n",
    "\n",
    "psi_rve = 0.\n",
    "theta_rve = 0.\n",
    "phi_rve = 0.\n",
    "\n",
    "props = np.array([nphases, num_file])\n",
    "\n",
    "NPhases_file = dir + '/data/Nlayers0.dat'\n",
    "NPhases = pd.read_csv(NPhases_file, delimiter=r'\\s+', index_col=False, engine='python')\n",
    "NPhases[::]\n"
   ]
  },
  {
   "cell_type": "code",
   "execution_count": 3,
   "metadata": {
    "collapsed": false,
    "scrolled": false
   },
   "outputs": [
    {
     "data": {
      "image/png": "[encoded data removed]",
      "text/plain": [
       "<matplotlib.figure.Figure at 0x10543e4d0>"
      ]
     },
     "metadata": {},
     "output_type": "display_data"
    }
   ],
   "source": [
    "path_data = 'data'\n",
    "path_results = 'results'\n",
    "pathfile = 'path.txt'\n",
    "outputfile = 'results_PLN.txt'\n",
    "sim.solver(umat_name, props, nstatev, psi_rve, theta_rve, phi_rve, rho, c_p, path_data, path_results, pathfile, outputfile)\n",
    "\n",
    "outputfile_macro =  dir + '/' + path_results + '/results_PLN_global-0.txt'\n",
    "outputfile_micro1 =  dir + '/' + path_results + '/results_PLN_global-0-0.txt'\n",
    "outputfile_micro2 =  dir + '/' + path_results + '/results_PLN_global-0-1.txt'\n",
    "\n",
    "fig = plt.figure()\n",
    "\n",
    "e11, e22, e33, e12, e13, e23, s11, s22, s33, s12, s13, s23 = np.loadtxt(outputfile_macro, usecols=(8,9,10,11,12,13,14,15,16,17,18,19), unpack=True)\n",
    "plt.grid(True)\n",
    "plt.plot(e11,s11, c='black')\n",
    "\n",
    "e11, e22, e33, e12, e13, e23, s11, s22, s33, s12, s13, s23 = np.loadtxt(outputfile_micro1, usecols=(8,9,10,11,12,13,14,15,16,17,18,19), unpack=True)\n",
    "plt.grid(True)\n",
    "plt.plot(e11,s11, c='red')\n",
    "\n",
    "e11, e22, e33, e12, e13, e23, s11, s22, s33, s12, s13, s23 = np.loadtxt(outputfile_micro2, usecols=(8,9,10,11,12,13,14,15,16,17,18,19), unpack=True)\n",
    "plt.grid(True)\n",
    "plt.plot(e11,s11, c='blue')\n",
    "\n",
    "plt.xlabel('Strain')\n",
    "plt.ylabel('Stress (MPa)')\n",
    "\n",
    "\n",
    "plt.show()\n"
   ]
  },
  {
   "cell_type": "markdown",
   "metadata": {
    "collapsed": false
   },
   "source": [
    "Quick verification, we will take the slope of the stress-strain curve and find out if it does correspond to E. For that one can take the last value of s11 and e11"
   ]
  },
  {
   "cell_type": "markdown",
   "metadata": {},
   "source": []
  }
 ],
 "metadata": {
  "kernelspec": {
   "display_name": "Python 2",
   "language": "python",
   "name": "python2"
  },
  "language_info": {
   "codemirror_mode": {
    "name": "ipython",
    "version": 2
   },
   "file_extension": ".py",
   "mimetype": "text/x-python",
   "name": "python",
   "nbconvert_exporter": "python",
   "pygments_lexer": "ipython2",
   "version": "2.7.11"
  }
 },
 "nbformat": 4,
 "nbformat_minor": 0
}
