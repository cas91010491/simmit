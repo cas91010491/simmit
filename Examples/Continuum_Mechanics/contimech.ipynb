{
 "cells": [
  {
   "cell_type": "markdown",
   "metadata": {},
   "source": [
    "# contimech : tools and functions useful in Continuum Mechanics"
   ]
  },
  {
   "cell_type": "code",
   "execution_count": 1,
   "metadata": {
    "collapsed": false
   },
   "outputs": [],
   "source": [
    "%matplotlib inline\n",
    "\n",
    "import numpy as np\n",
    "import matplotlib.pyplot as plt\n",
    "from simmit import smartplus as sim\n",
    "import os"
   ]
  },
  {
   "cell_type": "markdown",
   "metadata": {},
   "source": [
    "## tr(vec)\n",
    "\n",
    "Provides the trace of a second order tensor written as a vector v in the SMART+ formalism. Return a double. Example:"
   ]
  },
  {
   "cell_type": "code",
   "execution_count": 2,
   "metadata": {
    "collapsed": false
   },
   "outputs": [
    {
     "name": "stdout",
     "output_type": "stream",
     "text": [
      "[ 0.50424105  0.94972348  0.9643845   0.79954931  0.27782655  0.98372605]\n",
      "2.41834903318\n"
     ]
    }
   ],
   "source": [
    "v = np.random.rand(6)\n",
    "trace = sim.tr(v)\n",
    "print v\n",
    "print trace"
   ]
  },
  {
   "cell_type": "markdown",
   "metadata": {},
   "source": [
    "## dev(vec)\n",
    "  \n",
    "Provides the deviatoric part of a second order tensor written as a vector v in the SMART+ formalism. Return a vec. Example: "
   ]
  },
  {
   "cell_type": "code",
   "execution_count": 3,
   "metadata": {
    "collapsed": false
   },
   "outputs": [
    {
     "name": "stdout",
     "output_type": "stream",
     "text": [
      "[ 0.90437124  0.69797433  0.2711766   0.70762105  0.97792633  0.33721511]\n",
      "[ 0.27986385  0.07346694 -0.35333079  0.70762105  0.97792633  0.33721511]\n"
     ]
    }
   ],
   "source": [
    "v = np.random.rand(6)\n",
    "v_dev = sim.dev(v)\n",
    "print v\n",
    "print v_dev"
   ]
  },
  {
   "cell_type": "markdown",
   "metadata": {},
   "source": [
    "## Mises_stress(vec)\n",
    "\n",
    "Provides the Von Mises stress $\\sigma^{Mises}$ of a second order stress tensor written as a vector v in the SMART+ formalism. Return a double. "
   ]
  },
  {
   "cell_type": "code",
   "execution_count": 4,
   "metadata": {
    "collapsed": false
   },
   "outputs": [
    {
     "name": "stdout",
     "output_type": "stream",
     "text": [
      "[ 0.45006445  0.45214929  0.42454694  0.30577849  0.8169376   0.14676202]\n",
      "1.53231477222\n"
     ]
    }
   ],
   "source": [
    "v = np.random.rand(6)\n",
    "Mises_sig = sim.Mises_stress(v)\n",
    "print v\n",
    "print Mises_sig"
   ]
  },
  {
   "cell_type": "markdown",
   "metadata": {},
   "source": [
    "## Mises_strain(vec)\n",
    "Provides the Von Mises strain $\\varepsilon^{Mises}$ of a second order stress tensor written as a vector v in the SMART+ formalism. Return a double. "
   ]
  },
  {
   "cell_type": "code",
   "execution_count": 5,
   "metadata": {
    "collapsed": false
   },
   "outputs": [
    {
     "name": "stdout",
     "output_type": "stream",
     "text": [
      "[ 0.14339767  0.63494515  0.84302872  0.99943675  0.29472903  0.61356514]\n",
      "0.812089634277\n"
     ]
    }
   ],
   "source": [
    "v = np.random.rand(6)\n",
    "Mises_eps = sim.Mises_strain(v)\n",
    "print v\n",
    "print Mises_eps"
   ]
  },
  {
   "cell_type": "markdown",
   "metadata": {},
   "source": [
    "## eta_stress(vec)\n",
    "Provides the stress flow:\n",
    "    \n",
    "$$\\eta_{stress}=\\frac{3/2\\sigma_{dev}}{\\sigma_{Mises}}$$\n",
    "\n",
    "from a second order stress tensor written as a vector v in the SMART+ formalism (i.e. the shear terms are multiplied by 2, providing shear angles). Return a vec. \n",
    "  "
   ]
  },
  {
   "cell_type": "code",
   "execution_count": 6,
   "metadata": {
    "collapsed": false
   },
   "outputs": [
    {
     "name": "stdout",
     "output_type": "stream",
     "text": [
      "[ 0.85109342  0.54556831  0.62364928  0.72843676  0.10464335  0.00396312]\n",
      "[ 0.20436366 -0.14709131 -0.05727235  1.67588659  0.24074895  0.0091178 ]\n"
     ]
    }
   ],
   "source": [
    "v = np.random.rand(6)\n",
    "sigma_f = sim.eta_stress(v)\n",
    "print v\n",
    "print sigma_f"
   ]
  },
  {
   "cell_type": "markdown",
   "metadata": {
    "collapsed": true
   },
   "source": [
    "## eta_strain(vec)\n",
    "Provides the strain flow \n",
    "\n",
    "$$\\eta_{strain}=\\frac{2/3\\varepsilon_{dev}}{\\varepsilon_{Mises}}$$\n",
    "\n",
    "from a second order strain tensor written as a vector v in the SMART+ formalism (i.e. the shear terms are multiplied by 2, providing shear angles). Return a vec. "
   ]
  },
  {
   "cell_type": "code",
   "execution_count": 7,
   "metadata": {
    "collapsed": false
   },
   "outputs": [
    {
     "name": "stdout",
     "output_type": "stream",
     "text": [
      "[ 0.09574442  0.81844191  0.30311511  0.86643954  0.32036989  0.6841309 ]\n",
      "[-0.26141367  0.34797069 -0.08655703  0.73058881  0.27013848  0.57686469]\n"
     ]
    }
   ],
   "source": [
    "v = np.random.rand(6)\n",
    "eps_f = sim.eta_strain(v)\n",
    "print v\n",
    "print eps_f"
   ]
  },
  {
   "cell_type": "markdown",
   "metadata": {},
   "source": [
    "## v2t_stress(vec)\n",
    "Converts a second order stress tensor written as a vector v in the SMART+ formalism into a second order stress tensor written as a matrix m. Return a mat. "
   ]
  },
  {
   "cell_type": "code",
   "execution_count": 8,
   "metadata": {
    "collapsed": false
   },
   "outputs": [
    {
     "name": "stdout",
     "output_type": "stream",
     "text": [
      "[ 0.20388968  0.8602739   0.43087816  0.38692008  0.9734405   0.94324457]\n",
      "[[ 0.20388968  0.38692008  0.9734405 ]\n",
      " [ 0.38692008  0.8602739   0.94324457]\n",
      " [ 0.9734405   0.94324457  0.43087816]]\n"
     ]
    }
   ],
   "source": [
    "v = np.random.rand(6)\n",
    "m = sim.v2t_stress(v);\n",
    "print v\n",
    "print m"
   ]
  },
  {
   "cell_type": "markdown",
   "metadata": {},
   "source": [
    "## t2v_stress(vec)\n",
    "Converts a second order stress tensor written as a matrix m in the SMART+ formalism into a second order stress tensor written as a vector v. Return a vec. "
   ]
  },
  {
   "cell_type": "code",
   "execution_count": 9,
   "metadata": {
    "collapsed": false
   },
   "outputs": [
    {
     "name": "stdout",
     "output_type": "stream",
     "text": [
      "[[ 0.21305822  0.41832992  0.60118161]\n",
      " [ 0.41832992  0.85758129  0.26746683]\n",
      " [ 0.60118161  0.26746683  0.89601423]]\n",
      "[ 0.21305822  0.85758129  0.89601423  0.41832992  0.60118161  0.26746683]\n"
     ]
    }
   ],
   "source": [
    "m = np.random.rand(3,3)\n",
    "m_symm = (m + m.T)/2\n",
    "v = sim.t2v_stress(m_symm);\n",
    "print m_symm\n",
    "print v"
   ]
  },
  {
   "cell_type": "markdown",
   "metadata": {},
   "source": [
    "## v2t_strain(vec)\n",
    "Converts a second order strain tensor written as a vector v in the SMART+ formalism into a second order strain tensor written as a matrix m. Return a mat. "
   ]
  },
  {
   "cell_type": "code",
   "execution_count": 10,
   "metadata": {
    "collapsed": false
   },
   "outputs": [
    {
     "name": "stdout",
     "output_type": "stream",
     "text": [
      "[ 0.66060514  0.5493198   0.12385499  0.78964374  0.78583183  0.3187543 ]\n",
      "[[ 0.66060514  0.39482187  0.39291591]\n",
      " [ 0.39482187  0.5493198   0.15937715]\n",
      " [ 0.39291591  0.15937715  0.12385499]]\n"
     ]
    }
   ],
   "source": [
    "v = np.random.rand(6)\n",
    "m = sim.v2t_strain(v);\n",
    "print v\n",
    "print m"
   ]
  },
  {
   "cell_type": "markdown",
   "metadata": {},
   "source": [
    "## t2v_strain(vec)\n",
    "\n",
    "Converts a second order strain tensor written as a matrix m in the SMART+ formalism into a second order strain tensor written as a vector v. Return a vec. "
   ]
  },
  {
   "cell_type": "code",
   "execution_count": 11,
   "metadata": {
    "collapsed": false
   },
   "outputs": [
    {
     "name": "stdout",
     "output_type": "stream",
     "text": [
      "[[ 0.86092754  0.15230484  0.63427964]\n",
      " [ 0.15230484  0.37029279  0.71479089]\n",
      " [ 0.63427964  0.71479089  0.3609774 ]]\n",
      "[ 0.86092754  0.37029279  0.3609774   0.30460968  1.26855929  1.42958177]\n"
     ]
    }
   ],
   "source": [
    "m = np.random.rand(3,3)\n",
    "m_symm = (m + m.T)/2\n",
    "v = sim.t2v_strain(m_symm);\n",
    "print m_symm\n",
    "print v"
   ]
  },
  {
   "cell_type": "markdown",
   "metadata": {},
   "source": [
    "## J2_stress(vec)\n",
    "\n",
    "Provides the second invariant of a second order stress tensor written as a vector v in the SMART+ formalism. Return a double. \n",
    "\n",
    "$$ J_2 (\\boldsymbol{\\sigma}) = \\frac{1}{2} \\sigma_{ij} \\sigma_{ij} $$"
   ]
  },
  {
   "cell_type": "code",
   "execution_count": 12,
   "metadata": {
    "collapsed": false
   },
   "outputs": [
    {
     "name": "stdout",
     "output_type": "stream",
     "text": [
      "[ 0.47948547  0.11648965  0.15540006  0.87070977  0.8978231   0.94260142]\n",
      "2.49243780525\n"
     ]
    }
   ],
   "source": [
    "v = np.random.rand(6)\n",
    "J2 = sim.J2_stress(v)\n",
    "print v\n",
    "print J2"
   ]
  },
  {
   "cell_type": "markdown",
   "metadata": {},
   "source": [
    "## J2_strain(vec)\n",
    "Provides the second invariant of a second order strain tensor written as a vector v in the SMART+ formalism. Return a vec. \n",
    "\n",
    "$$ J_2 (\\boldsymbol{\\varepsilon}) = \\frac{1}{2} \\varepsilon_{ij} \\varepsilon_{ij} $$"
   ]
  },
  {
   "cell_type": "code",
   "execution_count": 13,
   "metadata": {
    "collapsed": false
   },
   "outputs": [
    {
     "name": "stdout",
     "output_type": "stream",
     "text": [
      "[ 0.84619915  0.90714003  0.00968792  0.34789138  0.31604571  0.13443645]\n",
      "0.311227468978\n"
     ]
    }
   ],
   "source": [
    "v = np.random.rand(6)\n",
    "J2 = sim.J2_strain(v)\n",
    "print v\n",
    "print J2"
   ]
  },
  {
   "cell_type": "markdown",
   "metadata": {},
   "source": [
    "## J3_stress(vec)\n",
    "Provides the third invariant of a second order stress tensor written as a vector v in the SMART+ formalism. Return a double. \n",
    "\n",
    "$$ J_3 (\\boldsymbol{\\sigma}) = \\frac{1}{2} \\sigma_{ij} \\sigma_{jk} \\sigma_{ki} $$"
   ]
  },
  {
   "cell_type": "code",
   "execution_count": 14,
   "metadata": {
    "collapsed": false
   },
   "outputs": [
    {
     "name": "stdout",
     "output_type": "stream",
     "text": [
      "[ 0.85667831  0.43643232  0.99738465  0.46799781  0.7950665   0.91710972]\n",
      "0.752515292143\n"
     ]
    }
   ],
   "source": [
    "v = np.random.rand(6)\n",
    "J3 = sim.J3_stress(v)\n",
    "print v\n",
    "print J3"
   ]
  },
  {
   "cell_type": "markdown",
   "metadata": {},
   "source": [
    "## J3_strain(vec)\n",
    "Provides the third invariant of a second order strain tensor written as a vector v in the SMART+ formalism. Return a vec. \n",
    "\n",
    "$$ J_3 (\\boldsymbol{\\varepsilon}) = \\frac{1}{2} \\varepsilon_{ij} \\varepsilon_{jk} \\varepsilon_{ki} $$\n"
   ]
  },
  {
   "cell_type": "code",
   "execution_count": 15,
   "metadata": {
    "collapsed": false
   },
   "outputs": [
    {
     "name": "stdout",
     "output_type": "stream",
     "text": [
      "[ 0.47697657  0.74346495  0.30771762  0.94938295  0.82129204  0.25953858]\n",
      "0.0586373502057\n"
     ]
    }
   ],
   "source": [
    "v = np.random.rand(6)\n",
    "J3 = sim.J3_strain(v)\n",
    "print v\n",
    "print J3"
   ]
  },
  {
   "cell_type": "code",
   "execution_count": null,
   "metadata": {
    "collapsed": true
   },
   "outputs": [],
   "source": []
  }
 ],
 "metadata": {
  "kernelspec": {
   "display_name": "Python 2",
   "language": "python",
   "name": "python2"
  },
  "language_info": {
   "codemirror_mode": {
    "name": "ipython",
    "version": 2
   },
   "file_extension": ".py",
   "mimetype": "text/x-python",
   "name": "python",
   "nbconvert_exporter": "python",
   "pygments_lexer": "ipython2",
   "version": "2.7.11"
  }
 },
 "nbformat": 4,
 "nbformat_minor": 0
}
