{
 "cells": [
  {
   "cell_type": "markdown",
   "metadata": {},
   "source": [
    "# Identification of a Model"
   ]
  },
  {
   "cell_type": "code",
   "execution_count": 1,
   "metadata": {
    "collapsed": false
   },
   "outputs": [],
   "source": [
    "%matplotlib inline\n",
    "\n",
    "import numpy as np\n",
    "import matplotlib.pyplot as plt\n",
    "from simmit import smartplus as sim\n",
    "from simmit import identify as iden\n",
    "import os\n",
    "\n",
    "dir = os.path.dirname(os.path.realpath('__file__'))"
   ]
  },
  {
   "cell_type": "markdown",
   "metadata": {},
   "source": [
    "In this Python Notebook we will show how to properly identify the material properties of a composite based on experimental data\n",
    "\n",
    "Such identification procedure require:\n",
    "1. Proper experimental data\n",
    "2. A proper numerical model (here a composite model for laminate constitutive model)\n",
    "3. An identification strategy\n",
    "\n",
    "The simmit library provide a convenient list of constitutive models, and identification strategies.\n",
    "\n",
    "Such identification strategy contains the definition of a cost function (based on square root difference in control variables (stress or strain)). Such cost function, especially weights, can be tuned. There is a by default option that normalize the control variables coming from different tests so except some specific identification procedure is intented, the by-default option is a good start.\n"
   ]
  },
  {
   "cell_type": "code",
   "execution_count": 2,
   "metadata": {
    "collapsed": false
   },
   "outputs": [],
   "source": [
    "#Number_of_parameters\n",
    "n_param = 5\n",
    "#Number_of_consts\n",
    "n_consts = 2\n",
    "#Number_of_files\n",
    "nfiles = 3\n",
    "\n",
    "#Number_of_generations\n",
    "ngen =  20\n",
    "#Aleatory/Mesh space population : 0=mesh 1=meshlimit 2=random 3=defined\n",
    "aleaspace = 2\n",
    "#Space or aleatory population : apop in case of aleatory, spop in case of mesh\n",
    "apop = 20\n",
    "#Number of \"doped\" individual\n",
    "ngboys = 1\n",
    "#Max population per subgeneration\n",
    "maxpop = 10\n",
    "\n",
    "path_data = dir + '/data'\n",
    "path_keys = dir + '/keys'\n",
    "path_results = dir + '/results'\n",
    "outputfile = 'id_params.txt'\n",
    "materialfile = 'material.dat'\n",
    "simul_type = 'SOLVE'\n",
    "\n",
    "iden.identification_solver(simul_type,n_param,n_consts,nfiles,ngen,aleaspace,apop,ngboys,maxpop,path_data,path_keys,path_results,materialfile,outputfile)\n"
   ]
  },
  {
   "cell_type": "code",
   "execution_count": null,
   "metadata": {
    "collapsed": true
   },
   "outputs": [],
   "source": []
  },
  {
   "cell_type": "code",
   "execution_count": null,
   "metadata": {
    "collapsed": true
   },
   "outputs": [],
   "source": []
  }
 ],
 "metadata": {
  "kernelspec": {
   "display_name": "Python 2",
   "language": "python",
   "name": "python2"
  },
  "language_info": {
   "codemirror_mode": {
    "name": "ipython",
    "version": 2
   },
   "file_extension": ".py",
   "mimetype": "text/x-python",
   "name": "python",
   "nbconvert_exporter": "python",
   "pygments_lexer": "ipython2",
   "version": "2.7.11"
  }
 },
 "nbformat": 4,
 "nbformat_minor": 0
}
