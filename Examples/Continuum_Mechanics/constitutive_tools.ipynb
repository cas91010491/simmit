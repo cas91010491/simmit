{
 "cells": [
  {
   "cell_type": "markdown",
   "metadata": {},
   "source": [
    "# constitutive : The Constitutive Library"
   ]
  },
  {
   "cell_type": "code",
   "execution_count": 1,
   "metadata": {
    "collapsed": false
   },
   "outputs": [],
   "source": [
    "%matplotlib inline\n",
    "\n",
    "import numpy as np\n",
    "import matplotlib.pyplot as plt\n",
    "from simmit import smartplus as sim\n",
    "import os"
   ]
  },
  {
   "cell_type": "markdown",
   "metadata": {},
   "source": [
    "## Ireal()\n",
    "\n",
    "Provides the fourth order identity tensor written in Voigt notation $I_{real}$, where : $$I_{real} = \\left( \\begin{array}{cccccc} 1 & 0 & 0 & 0 & 0 & 0 \\\\ 0 & 1 & 0 & 0 & 0 & 0 \\\\ 0 & 0 & 1 & 0 & 0 & 0 \\\\ 0 & 0 & 0 & 0.5 & 0 & 0 \\\\ 0 & 0 & 0 & 0 & 0.5 & 0 \\\\ 0 & 0 & 0 & 0 & 0 & 0.5 \\end{array} \\right)$$\n",
    "Return a mat. Example: "
   ]
  },
  {
   "cell_type": "code",
   "execution_count": 2,
   "metadata": {
    "collapsed": false
   },
   "outputs": [
    {
     "name": "stdout",
     "output_type": "stream",
     "text": [
      "[[ 1.   0.   0.   0.   0.   0. ]\n",
      " [ 0.   1.   0.   0.   0.   0. ]\n",
      " [ 0.   0.   1.   0.   0.   0. ]\n",
      " [ 0.   0.   0.   0.5  0.   0. ]\n",
      " [ 0.   0.   0.   0.   0.5  0. ]\n",
      " [ 0.   0.   0.   0.   0.   0.5]]\n"
     ]
    }
   ],
   "source": [
    "m = sim.Ireal()\n",
    "print m"
   ]
  },
  {
   "cell_type": "markdown",
   "metadata": {},
   "source": [
    "## Ivol()\n",
    "\n",
    "Provides the volumic of the identity tensor $I_{vol}$ written in the SMART+ formalism. So : $$I_{vol} = \\left( \\begin{array}{ccc} 1/3 & 1/3 & 1/3 & 0 & 0 & 0 \\\\ 1/3 & 1/3 & 1/3 & 0 & 0 & 0 \\\\ 1/3 & 1/3 & 1/3 & 0 & 0 & 0 \\\\ 0 & 0 & 0 & 0 & 0 & 0 \\\\ 0 & 0 & 0 & 0 & 0 & 0 \\\\ 0 & 0 & 0 & 0 & 0 & 0 \\end{array} \\right)$$ Return a mat. Example: "
   ]
  },
  {
   "cell_type": "code",
   "execution_count": 3,
   "metadata": {
    "collapsed": false
   },
   "outputs": [
    {
     "name": "stdout",
     "output_type": "stream",
     "text": [
      "[[ 0.33333333  0.33333333  0.33333333  0.          0.          0.        ]\n",
      " [ 0.33333333  0.33333333  0.33333333  0.          0.          0.        ]\n",
      " [ 0.33333333  0.33333333  0.33333333  0.          0.          0.        ]\n",
      " [ 0.          0.          0.          0.          0.          0.        ]\n",
      " [ 0.          0.          0.          0.          0.          0.        ]\n",
      " [ 0.          0.          0.          0.          0.          0.        ]]\n"
     ]
    }
   ],
   "source": [
    "m = sim.Ivol()\n",
    "print m"
   ]
  },
  {
   "cell_type": "markdown",
   "metadata": {},
   "source": [
    "## Idev()\n",
    "\n",
    "Provides the deviatoric of the identity tensor $I_{dev}$ written in the SMART+ formalism. So : $$I_{dev} = \\left( \\begin{array}{ccc} 2/3 & -1/3 & -1/3 & 0 & 0 & 0 \\\\ -1/3 & 2/3 & -1/3 & 0 & 0 & 0 \\\\ -1/3 & -1/3 & 2/3 & 0 & 0 & 0 \\\\ 0 & 0 & 0 & 0.5 & 0 & 0 \\\\ 0 & 0 & 0 & 0 & 0.5 & 0 \\\\ 0 & 0 & 0 & 0 & 0 & 0.5 \\end{array} \\right)$$ Return a mat. Example: "
   ]
  },
  {
   "cell_type": "code",
   "execution_count": 4,
   "metadata": {
    "collapsed": false
   },
   "outputs": [
    {
     "name": "stdout",
     "output_type": "stream",
     "text": [
      "[[ 0.66666667 -0.33333333 -0.33333333  0.          0.          0.        ]\n",
      " [-0.33333333  0.66666667 -0.33333333  0.          0.          0.        ]\n",
      " [-0.33333333 -0.33333333  0.66666667  0.          0.          0.        ]\n",
      " [ 0.          0.          0.          0.5         0.          0.        ]\n",
      " [ 0.          0.          0.          0.          0.5         0.        ]\n",
      " [ 0.          0.          0.          0.          0.          0.5       ]]\n",
      "[[ 0.66666667 -0.33333333 -0.33333333  0.          0.          0.        ]\n",
      " [-0.33333333  0.66666667 -0.33333333  0.          0.          0.        ]\n",
      " [-0.33333333 -0.33333333  0.66666667  0.          0.          0.        ]\n",
      " [ 0.          0.          0.          0.5         0.          0.        ]\n",
      " [ 0.          0.          0.          0.          0.5         0.        ]\n",
      " [ 0.          0.          0.          0.          0.          0.5       ]]\n"
     ]
    }
   ],
   "source": [
    "m1 = sim.Ireal()\n",
    "m2 = sim.Ivol()\n",
    "m = sim.Idev()\n",
    "print m1 - m2\n",
    "print m\n"
   ]
  },
  {
   "cell_type": "markdown",
   "metadata": {},
   "source": [
    "## Ireal2()\n",
    "  \n",
    "Provides the fourth order identity tensor $\\widehat{I}$ written in the form. So : $$\\widehat{I} = \\left( \\begin{array}{ccc} 1 & 0 & 0 & 0 & 0 & 0 \\\\ 0 & 1 & 0 & 0 & 0 & 0 \\\\ 0 & 0 & 1 & 0 & 0 & 0 \\\\ 0 & 0 & 0 & 2 & 0 & 0 \\\\ 0 & 0 & 0 & 0 & 2 & 0 \\\\ 0 & 0 & 0 & 0 & 0 & 2 \\end{array} \\right)$$ For example, this tensor allows to obtain : $L*\\widehat{M}=I$ or $\\widehat{L}*M=I$, where a matrix $\\widehat{A}$ is set by $\\widehat{A}=\\widehat{I}A\\widehat{I}$ Return a mat. Example: "
   ]
  },
  {
   "cell_type": "code",
   "execution_count": 5,
   "metadata": {
    "collapsed": false
   },
   "outputs": [
    {
     "name": "stdout",
     "output_type": "stream",
     "text": [
      "[[ 1.  0.  0.  0.  0.  0.]\n",
      " [ 0.  1.  0.  0.  0.  0.]\n",
      " [ 0.  0.  1.  0.  0.  0.]\n",
      " [ 0.  0.  0.  2.  0.  0.]\n",
      " [ 0.  0.  0.  0.  2.  0.]\n",
      " [ 0.  0.  0.  0.  0.  2.]]\n"
     ]
    }
   ],
   "source": [
    "m = sim.Ireal2()\n",
    "print m"
   ]
  },
  {
   "cell_type": "markdown",
   "metadata": {},
   "source": [
    "## Idev2(vec)\n",
    "\n",
    "Provides the deviatoric of the identity tensor $\\widehat{I}$ written in the SMART+ formalism. So : $$I_{dev2} = \\left( \\begin{array}{ccc} 2/3 & -1/3 & -1/3 & 0 & 0 & 0 \\\\ -1/3 & 2/3 & -1/3 & 0 & 0 & 0 \\\\ -1/3 & -1/3 & 2/3 & 0 & 0 & 0 \\\\ 0 & 0 & 0 & 2 & 0 & 0 \\\\ 0 & 0 & 0 & 0 & 2 & 0 \\\\ 0 & 0 & 0 & 0 & 0 & 2 \\end{array} \\right)$$ Return a mat. Example:"
   ]
  },
  {
   "cell_type": "code",
   "execution_count": 6,
   "metadata": {
    "collapsed": false
   },
   "outputs": [
    {
     "name": "stdout",
     "output_type": "stream",
     "text": [
      "[[ 0.66666667 -0.33333333 -0.33333333  0.          0.          0.        ]\n",
      " [-0.33333333  0.66666667 -0.33333333  0.          0.          0.        ]\n",
      " [-0.33333333 -0.33333333  0.66666667  0.          0.          0.        ]\n",
      " [ 0.          0.          0.          2.          0.          0.        ]\n",
      " [ 0.          0.          0.          0.          2.          0.        ]\n",
      " [ 0.          0.          0.          0.          0.          2.        ]]\n",
      "[[ 0.66666667 -0.33333333 -0.33333333  0.          0.          0.        ]\n",
      " [-0.33333333  0.66666667 -0.33333333  0.          0.          0.        ]\n",
      " [-0.33333333 -0.33333333  0.66666667  0.          0.          0.        ]\n",
      " [ 0.          0.          0.          2.          0.          0.        ]\n",
      " [ 0.          0.          0.          0.          2.          0.        ]\n",
      " [ 0.          0.          0.          0.          0.          2.        ]]\n"
     ]
    }
   ],
   "source": [
    "m1 = sim.Ireal2()\n",
    "m2 = sim.Ivol()\n",
    "m = sim.Idev2()\n",
    "print m1 - m2\n",
    "print m"
   ]
  },
  {
   "cell_type": "markdown",
   "metadata": {},
   "source": [
    "## Ith()\n",
    "\n",
    "Provides the vector $I_{th} = \\left( \\begin{array}{ccc} 1 \\\\ 1 \\\\ 1 \\\\ 0 \\\\ 0 \\\\ 0 \\end{array} \\right)$. Return a vec. Example: "
   ]
  },
  {
   "cell_type": "code",
   "execution_count": 7,
   "metadata": {
    "collapsed": false
   },
   "outputs": [
    {
     "name": "stdout",
     "output_type": "stream",
     "text": [
      "[ 1.  1.  1.  0.  0.  0.]\n"
     ]
    }
   ],
   "source": [
    "v = sim.Ith()\n",
    "print v"
   ]
  },
  {
   "cell_type": "markdown",
   "metadata": {},
   "source": [
    "## Ir2()\n",
    "\n",
    "Provides the vector $I_{r2} = \\left( \\begin{array}{ccc} 1 \\\\ 1 \\\\ 1 \\\\ 2 \\\\ 2 \\\\ 2 \\end{array} \\right)$. Return a vec.\n",
    "This vector is usefull when transferring from \"stress\"-type Voigt conventions to \"strain\"-type.\n",
    "Example:"
   ]
  },
  {
   "cell_type": "code",
   "execution_count": 8,
   "metadata": {
    "collapsed": false
   },
   "outputs": [
    {
     "name": "stdout",
     "output_type": "stream",
     "text": [
      "[ 1.  1.  1.  2.  2.  2.]\n"
     ]
    }
   ],
   "source": [
    "v = sim.Ir2()\n",
    "print v"
   ]
  },
  {
   "cell_type": "markdown",
   "metadata": {
    "collapsed": true
   },
   "source": [
    "## Ir05()\n",
    "  </h3> Provides the vector $I_{r05} = \\left( \\begin{array}{ccc} 1 \\\\ 1 \\\\ 1 \\\\ 0.5 \\\\ 0.5 \\\\ 0.5 \\end{array} \\right)$. Return a vec. Example: "
   ]
  },
  {
   "cell_type": "code",
   "execution_count": 9,
   "metadata": {
    "collapsed": false
   },
   "outputs": [
    {
     "name": "stdout",
     "output_type": "stream",
     "text": [
      "[ 1.   1.   1.   0.5  0.5  0.5]\n"
     ]
    }
   ],
   "source": [
    "v = sim.Ir05()\n",
    "print v"
   ]
  },
  {
   "cell_type": "code",
   "execution_count": null,
   "metadata": {
    "collapsed": true
   },
   "outputs": [],
   "source": []
  }
 ],
 "metadata": {
  "kernelspec": {
   "display_name": "Python 2",
   "language": "python",
   "name": "python2"
  },
  "language_info": {
   "codemirror_mode": {
    "name": "ipython",
    "version": 2
   },
   "file_extension": ".py",
   "mimetype": "text/x-python",
   "name": "python",
   "nbconvert_exporter": "python",
   "pygments_lexer": "ipython2",
   "version": "2.7.11"
  }
 },
 "nbformat": 4,
 "nbformat_minor": 0
}
