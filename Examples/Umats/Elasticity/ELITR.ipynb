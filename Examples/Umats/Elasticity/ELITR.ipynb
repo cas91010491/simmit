{
 "cells": [
  {
   "cell_type": "markdown",
   "metadata": {},
   "source": [
    "# Transverse isotropy linear elasticity"
   ]
  },
  {
   "cell_type": "code",
   "execution_count": 2,
   "metadata": {
    "collapsed": false
   },
   "outputs": [],
   "source": [
    "%matplotlib inline\n",
    "\n",
    "import pylab\n",
    "import numpy as np\n",
    "import matplotlib.pyplot as plt\n",
    "from simmit import smartplus as sim\n",
    "import os"
   ]
  },
  {
   "cell_type": "markdown",
   "metadata": {},
   "source": [
    "In thermoelastic transversely isotropic materials eight parameters are required: \n",
    "\n",
    "1. The axis of transverse isotropy (1,2 or 3),\n",
    "2. The axial Young modulus $E_L$,\n",
    "3. The transverse Young modulus $E_T$,\n",
    "4. The axial Poisson ratio $\\nu_{TL}$,\n",
    "5. The transverse Poisson ratio $\\nu_{TT}$,\n",
    "6. The axial shear modulus $G_{LT}$,\n",
    "7. The axial coefficient of thermal expansion $\\alpha_L$,\n",
    "8. The transverse coefficient of thermal expansion $\\alpha_T$.\n",
    "\n",
    "When the axis of transverse isotropy is 1, the elastic stiffness tensor and the thermal expansion coefficients tensor are written in SMART+ formalism as\n",
    "\n",
    "$$\\boldsymbol{L}=\\left(\\begin{matrix} L_{1111} & L_{1122} & L_{1122} & 0 & 0 & 0 \\\\ L_{1122} & L_{2222} & L_{2233} & 0 & 0 & 0 \\\\ L_{1122} & L_{2233} & L_{2222} & 0 & 0 & 0 \\\\ 0 & 0 & 0 & L_{1212} & 0 & 0 \\\\ 0 & 0 & 0 & 0 & L_{1212} & 0 \\\\ 0 & 0 & 0 & 0 & 0 & L_{2323} \\end{matrix}\\right), \\quad \\boldsymbol{\\alpha}=\\left(\\begin{matrix} \\alpha_L & 0 & 0 \\\\ 0 & \\alpha_T & 0 \\\\ 0 & 0 & \\alpha_T \\end{matrix}\\right),$$\n",
    "\n",
    "where $$\\begin{array}{c}\\displaystyle{L_{1111}=\\frac{E_L}{\\omega}~(\\nu^2_{TT}-1), \\quad L_{1122}=-\\frac{E_L}{\\omega}~\\nu_{TL}~(1+\\nu_{TT}), \\quad L_{2222}=\\frac{E_L~\\nu^2_{TL}-E_T}{\\omega},} \\\\ \\displaystyle{L_{2233}=-\\frac{E_L~\\nu^2_{TL}+E_T~\\nu_{TT}}{\\omega}, \\quad L_{1212}=G_{LT}, \\quad L_{2323}=\\frac{E_T}{2(1+\\nu_{TT})},}\\\\ \\displaystyle{\\omega=\\frac{1}{E_T}(1+\\nu_{TT})~(2E_L~\\nu^2_{TL}+E_T~(\\nu_{TT}-1)).}\\end{array}$$\n",
    "\n",
    "Details on the elastic stiffness tensor of transversely isotropic media can be found in Christensen (1979). For axis of transverse isotropy being 2 or 3, the above tensors are properly rotated. The tangent stiffness tensor in this case is $\\boldsymbol{L}^t=\\boldsymbol{L}$. Moreover, the increment of the elastic strain is given by \n",
    "\n",
    "$$\\Delta\\varepsilon^{\\textrm{el}}_{ij}=\\Delta\\varepsilon^{\\textrm{tot}}_{ij}-\\alpha_{ij}\\Delta T.$$\n",
    "\n",
    "In the 1D case only one component of stress is computed, through the relation \n",
    "\n",
    "$$\\sigma^{\\textrm{fin}}_{11}=\\sigma^{\\textrm{init}}_{11}+L_{1111}\\Delta\\varepsilon^{\\textrm{el}}_{11}.$$\n",
    "\n",
    "In the plane stress case only three components of stress are computed, through the relations \n",
    "\n",
    "$$\\left(\\begin{matrix} \\sigma^{\\textrm{fin}}_{11} \\\\ \\sigma^{\\textrm{fin}}_{22} \\\\ \\sigma^{\\textrm{fin}}_{12} \\end{matrix}\\right) =\\left(\\begin{matrix} \\sigma^{\\textrm{init}}_{11} \\\\ \\sigma^{\\textrm{init}}_{22} \\\\ \\sigma^{\\textrm{init}}_{12} \\end{matrix}\\right)+\\boldsymbol{K} \\left(\\begin{matrix} \\Delta\\varepsilon^{\\textrm{el}}_{11} \\\\ \\Delta\\varepsilon^{\\textrm{el}}_{22} \\\\ 2\\Delta\\varepsilon^{\\textrm{el}}_{12} \\end{matrix}\\right),$$\n",
    "\n",
    "with $$\\boldsymbol{K}=\\left(\\begin{matrix} \\displaystyle{L_{1111}-\\frac{L_{1133}L_{3311}}{L_{3333}}} & \\displaystyle{L_{1122}-\\frac{L_{1133}L_{3322}}{L_{3333}}} & \\displaystyle{L_{1112}-\\frac{L_{1133}L_{3312}}{L_{3333}}} \\\\ \\displaystyle{L_{2211}-\\frac{L_{2233}L_{3311}}{L_{3333}}} & \\displaystyle{L_{2222}-\\frac{L_{2233}L_{3322}}{L_{3333}}} & \\displaystyle{L_{2212}-\\frac{L_{2233}L_{3312}}{L_{3333}}} \\\\ \\displaystyle{L_{1211}-\\frac{L_{1233}L_{3311}}{L_{3333}}} & \\displaystyle{L_{1222}-\\frac{L_{1233}L_{3322}}{L_{3333}}} & \\displaystyle{L_{1212}-\\frac{L_{1233}L_{3312}}{L_{3333}}} \\end{matrix}\\right).$$\n",
    "\n",
    "In the generalized plane strain/3D analysis case the stress tensor is computed through the relation\n",
    "\n",
    "$$\\sigma^{\\textrm{fin}}_{ij}=\\sigma^{\\textrm{init}}_{ij}+L_{ijkl}~\\Delta\\varepsilon^{\\textrm{el}}_{kl}.$$"
   ]
  },
  {
   "cell_type": "code",
   "execution_count": 3,
   "metadata": {
    "collapsed": false
   },
   "outputs": [
    {
     "data": {
      "image/png": "[encoded data removed]",
      "text/plain": [
       "<matplotlib.figure.Figure at 0x107251d90>"
      ]
     },
     "metadata": {},
     "output_type": "display_data"
    }
   ],
   "source": [
    "umat_name = 'ELIST' #This is the 5 character code for the elastic transversely isotropic subroutine\n",
    "nstatev = 1 #The number of scalar variables required, only the initial temperature is stored here\n",
    "\n",
    "rho = 1.12 #The density of the material \n",
    "c_p = 1.64 #The specific heat capacity\n",
    "\n",
    "axis = 1\n",
    "E_L = 4500\n",
    "E_T = 2300\n",
    "nu_TL = 0.05\n",
    "nu_TT = 0.3\n",
    "G_LT = 2700\n",
    "alpha_L = 1.E-5\n",
    "alpha_T = 2.5E-5\n",
    "\n",
    "props = np.array([axis, E_L, E_T, nu_TL, nu_TT, G_LT, alpha_L, alpha_T])\n",
    "\n",
    "dir = os.path.dirname(os.path.realpath('__file__'))\n",
    "pathfile = dir + '/path_1.txt'\n",
    "outputfile_1 = dir + '/results_ELIST_1.txt'\n",
    "\n",
    "sim.solver(umat_name, props, nstatev, rho, c_p, pathfile, outputfile_1)\n",
    "\n",
    "pathfile = dir + '/path_2.txt'\n",
    "outputfile_2 = dir + '/results_ELIST_2.txt'\n",
    "sim.solver(umat_name, props, nstatev, rho, c_p, pathfile, outputfile_2)\n",
    "\n",
    "fig = plt.figure()\n",
    "pylab.rcParams['figure.figsize'] = (16.0, 5.0) #configure the figure output size\n",
    "\n",
    "ax = fig.add_subplot(1, 3, 1)\n",
    "\n",
    "e11, e22, e33, e12, e13, e23, s11, s22, s33, s12, s13, s23 = np.loadtxt(outputfile_1, usecols=(7,8,9,10,11,12,13,14,15,16,17,18), unpack=True)\n",
    "\n",
    "plt.grid(True)\n",
    "plt.tick_params(axis='both', which='major', labelsize=15)\n",
    "plt.xlabel('Strain', size = 15)\n",
    "plt.ylabel('Stress (MPa)', size = 15)\n",
    "plt.plot(e11,s11, c='black', label='direction 1')\n",
    "plt.legend(loc=2)\n",
    "\n",
    "ax = fig.add_subplot(1, 3, 2)\n",
    "\n",
    "e11, e22, e33, e12, e13, e23, s11, s22, s33, s12, s13, s23 = np.loadtxt(outputfile_2, usecols=(7,8,9,10,11,12,13,14,15,16,17,18), unpack=True)\n",
    "\n",
    "plt.grid(True)\n",
    "plt.tick_params(axis='both', which='major', labelsize=15)\n",
    "plt.xlabel('Strain', size = 15)\n",
    "#plt.ylabel('Stress (MPa)')\n",
    "plt.plot(e22,s22, c='black', label='direction 2')\n",
    "plt.legend(loc=2)\n",
    "\n",
    "plt.show()"
   ]
  },
  {
   "cell_type": "markdown",
   "metadata": {
    "collapsed": false
   },
   "source": [
    "Quick verification, we will take the slope of the stress-strain curve and find out if it does correspond to E_L. For that one can take the last value of s11 and e11. Same for E_T and s22 and e_22 for the second plot."
   ]
  },
  {
   "cell_type": "code",
   "execution_count": 4,
   "metadata": {
    "collapsed": false
   },
   "outputs": [
    {
     "name": "stdout",
     "output_type": "stream",
     "text": [
      "4500.0045\n",
      "2299.99793\n",
      "0.0499998850001\n",
      "0.30000023\n"
     ]
    }
   ],
   "source": [
    "e11, e22, e33, e12, e13, e23, s11, s22, s33, s12, s13, s23 = np.loadtxt(outputfile_1, usecols=(7,8,9,10,11,12,13,14,15,16,17,18), unpack=True)\n",
    "\n",
    "sigma_verif = np.amax(s11)\n",
    "eps_verif1 = np.amax(e11)\n",
    "eps_verif2 = np.amin(e22)\n",
    "\n",
    "E_L_verif = sigma_verif/eps_verif1\n",
    "\n",
    "e11, e22, e33, e12, e13, e23, s11, s22, s33, s12, s13, s23 = np.loadtxt(outputfile_2, usecols=(7,8,9,10,11,12,13,14,15,16,17,18), unpack=True)\n",
    "sigma_verif = np.amax(s22)\n",
    "eps_verif1 = np.amin(e11)\n",
    "eps_verif2 = np.amax(e22)\n",
    "eps_verif3 = np.amin(e33)\n",
    "\n",
    "E_T_verif = sigma_verif/eps_verif2\n",
    "nu_TL_verif = -eps_verif1/eps_verif2\n",
    "nu_TT_verif = -eps_verif3/eps_verif2\n",
    "\n",
    "print(E_L_verif)\n",
    "print(E_T_verif)\n",
    "print(nu_TL_verif)\n",
    "print(nu_TT_verif)"
   ]
  },
  {
   "cell_type": "markdown",
   "metadata": {},
   "source": []
  }
 ],
 "metadata": {
  "kernelspec": {
   "display_name": "Python 2",
   "language": "python",
   "name": "python2"
  },
  "language_info": {
   "codemirror_mode": {
    "name": "ipython",
    "version": 2
   },
   "file_extension": ".py",
   "mimetype": "text/x-python",
   "name": "python",
   "nbconvert_exporter": "python",
   "pygments_lexer": "ipython2",
   "version": "2.7.11"
  }
 },
 "nbformat": 4,
 "nbformat_minor": 0
}
