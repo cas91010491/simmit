{
 "cells": [
  {
   "cell_type": "markdown",
   "metadata": {},
   "source": [
    "# Mechanical properties of composites using Micromechanics"
   ]
  },
  {
   "cell_type": "code",
   "execution_count": 1,
   "metadata": {
    "collapsed": false
   },
   "outputs": [],
   "source": [
    "%matplotlib inline\n",
    "\n",
    "import numpy as np\n",
    "from numpy.linalg import inv\n",
    "import pandas as pd\n",
    "import matplotlib.pyplot as plt\n",
    "from simmit import smartplus as sim\n",
    "from simmit import identify as iden\n",
    "import os\n",
    "import itertools\n",
    "\n",
    "dir = os.path.dirname(os.path.realpath('__file__'))"
   ]
  },
  {
   "cell_type": "markdown",
   "metadata": {},
   "source": [
    "## Problem 1:\n",
    "\n",
    "Consider a 2-phase composite, with an Al matrix containing Al2O3 spherical inhomogeneities, with the following elastic constants for each phase:\n",
    "\n",
    "$E_{Al} = 70000 \\quad \\nu_{Al} = 0.33$\n",
    "\n",
    "$E_{Al2O3} = 370000 \\quad \\nu_{Al2O3} = 0.22$\n",
    "\n",
    "The volume fraction of the Alumina phase is 0.1\n",
    "\n",
    "1. Determine the components of the strain concentration (localization) tensor for the Alumina phase, according to the Mori-Tanaka approximation.\n",
    "2. Determine the components of the effective elastic stiffness tensor of the composite, using the Mori-Tanaka approximation.\n",
    "3. Deduce the effective Young modulus and the effective Poisson ratio\n"
   ]
  },
  {
   "cell_type": "markdown",
   "metadata": {},
   "source": [
    "### Preliminaries"
   ]
  },
  {
   "cell_type": "code",
   "execution_count": 2,
   "metadata": {
    "collapsed": false,
    "scrolled": true
   },
   "outputs": [],
   "source": [
    "E_Al = 70000 \n",
    "nu_Al = 0.33\n",
    "E_Al2O3 = 370000\n",
    "nu_Al2O3 = 0.22\n",
    "## Volume fraction of particles\n",
    "c = 0.1\n",
    "\n",
    "L_Al = sim.L_iso(E_Al,nu_Al,'Enu')\n",
    "M_Al = sim.M_iso(E_Al,nu_Al,'Enu')\n",
    "L_Al2O3 = sim.L_iso(E_Al2O3,nu_Al2O3,'Enu')\n",
    "\n",
    "S = sim.Eshelby_sphere(nu_Al)\n",
    "#S_num = sim.Eshelby(L_Al,1,1,1,50,50)\n",
    "I = np.eye(6)"
   ]
  },
  {
   "cell_type": "markdown",
   "metadata": {
    "collapsed": false
   },
   "source": [
    "### Answer to question 1"
   ]
  },
  {
   "cell_type": "code",
   "execution_count": 6,
   "metadata": {
    "collapsed": false,
    "scrolled": true
   },
   "outputs": [
    {
     "name": "stdout",
     "output_type": "stream",
     "text": [
      "[[ 0.3658  0.033   0.033   0.      0.      0.    ]\n",
      " [ 0.033   0.3658  0.033   0.      0.      0.    ]\n",
      " [ 0.033   0.033   0.3658  0.      0.      0.    ]\n",
      " [ 0.      0.      0.      0.3328  0.      0.    ]\n",
      " [ 0.      0.      0.      0.      0.3328  0.    ]\n",
      " [ 0.      0.      0.      0.      0.      0.3328]]\n"
     ]
    }
   ],
   "source": [
    "T_Al2O3 = inv(I+np.dot(S,np.dot(M_Al,L_Al2O3-L_Al)))\n",
    "sumT = c*T_Al2O3+(1-c)*I;\n",
    "invsumT = inv(sumT);\n",
    "\n",
    "A_Al = np.dot(I,invsumT)\n",
    "A_Al2O3= np.dot(T_Al2O3,invsumT)\n",
    "\n",
    "print np.array_str(A_Al2O3, precision=4)"
   ]
  },
  {
   "cell_type": "markdown",
   "metadata": {
    "collapsed": false
   },
   "source": [
    "### Answer to question 2"
   ]
  },
  {
   "cell_type": "code",
   "execution_count": 4,
   "metadata": {
    "collapsed": false
   },
   "outputs": [
    {
     "name": "stdout",
     "output_type": "stream",
     "text": [
      "[[ 115824.2    54850.04   54850.04       0.         0.         0.  ]\n",
      " [  54850.04  115824.2    54850.04       0.         0.         0.  ]\n",
      " [  54850.04   54850.04  115824.2        0.         0.         0.  ]\n",
      " [      0.         0.         0.     30487.08       0.         0.  ]\n",
      " [      0.         0.         0.         0.     30487.08       0.  ]\n",
      " [      0.         0.         0.         0.         0.     30487.08]]\n"
     ]
    }
   ],
   "source": [
    "L_eff = (1-c)*np.dot(A_Al,L_Al) + c*np.dot(A_Al2O3,L_Al2O3)\n",
    "print np.array_str(L_eff, precision=2)"
   ]
  },
  {
   "cell_type": "markdown",
   "metadata": {},
   "source": [
    "### Answer to question 3"
   ]
  },
  {
   "cell_type": "code",
   "execution_count": 10,
   "metadata": {
    "collapsed": false
   },
   "outputs": [
    {
     "name": "stdout",
     "output_type": "stream",
     "text": [
      "{'props': array([  8.05695979e+04,   3.21372670e-01]), 'maj_sym': 1, 'umat_type': 'ELISO', 'axis': 0}\n"
     ]
    }
   ],
   "source": [
    "d = sim.check_symetries(L_eff)\n",
    "print d"
   ]
  },
  {
   "cell_type": "markdown",
   "metadata": {},
   "source": [
    "## Validation using simmit"
   ]
  },
  {
   "cell_type": "code",
   "execution_count": null,
   "metadata": {
    "collapsed": true
   },
   "outputs": [],
   "source": []
  }
 ],
 "metadata": {
  "kernelspec": {
   "display_name": "Python 2",
   "language": "python",
   "name": "python2"
  },
  "language_info": {
   "codemirror_mode": {
    "name": "ipython",
    "version": 2
   },
   "file_extension": ".py",
   "mimetype": "text/x-python",
   "name": "python",
   "nbconvert_exporter": "python",
   "pygments_lexer": "ipython2",
   "version": "2.7.11"
  }
 },
 "nbformat": 4,
 "nbformat_minor": 0
}
