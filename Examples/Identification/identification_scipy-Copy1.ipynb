{
 "cells": [
  {
   "cell_type": "code",
   "execution_count": 1,
   "metadata": {
    "collapsed": false
   },
   "outputs": [],
   "source": [
    "%matplotlib inline\n",
    "\n",
    "import numpy as np\n",
    "import matplotlib.pyplot as plt\n",
    "from simmit import smartplus as sim\n",
    "from simmit import identify as iden\n",
    "import pandas as pd\n",
    "import os\n",
    "from shutil import copyfile\n",
    "\n",
    "from scipy.optimize import minimize\n",
    "\n",
    "dir = os.path.dirname(os.path.realpath('__file__'))"
   ]
  },
  {
   "cell_type": "markdown",
   "metadata": {},
   "source": [
    "    number = mnumber;\n",
    "    value = mvalue;\n",
    "    input_values = arma2numpy::array2vec(minput_values);\n",
    "    key = mkey;\n",
    "    ninput_files = mninput_files;\n",
    "    input_files = arma2numpy::py_list_to_std_vector_string(minput_files);"
   ]
  },
  {
   "cell_type": "code",
   "execution_count": 6,
   "metadata": {
    "collapsed": false
   },
   "outputs": [
    {
     "name": "stdout",
     "output_type": "stream",
     "text": [
      "Optimization terminated successfully.\n",
      "         Current function value: 0.000000\n",
      "         Iterations: 278\n",
      "         Function evaluations: 578\n",
      " final_simplex: (array([[  3.10339954e+04,   4.56900294e+03,   6.50004710e-02,\n",
      "          2.65090413e-01,   1.99999810e+03],\n",
      "       [  3.10339954e+04,   4.56900294e+03,   6.50004710e-02,\n",
      "          2.65090413e-01,   1.99999810e+03],\n",
      "       [  3.10339954e+04,   4.56900294e+03,   6.50004710e-02,\n",
      "          2.65090413e-01,   1.99999810e+03],\n",
      "       [  3.10339954e+04,   4.56900294e+03,   6.50004710e-02,\n",
      "          2.65090413e-01,   1.99999810e+03],\n",
      "       [  3.10339954e+04,   4.56900294e+03,   6.50004710e-02,\n",
      "          2.65090413e-01,   1.99999810e+03],\n",
      "       [  3.10339954e+04,   4.56900294e+03,   6.50004710e-02,\n",
      "          2.65090413e-01,   1.99999810e+03]]), array([  7.02717999e-12,   7.02717999e-12,   7.02717999e-12,\n",
      "         7.02717999e-12,   7.02717999e-12,   7.02717999e-12]))\n",
      "           fun: 7.027179987906417e-12\n",
      "       message: 'Optimization terminated successfully.'\n",
      "          nfev: 578\n",
      "           nit: 278\n",
      "        status: 0\n",
      "       success: True\n",
      "             x: array([  3.10339954e+04,   4.56900294e+03,   6.50004710e-02,\n",
      "         2.65090413e-01,   1.99999810e+03])\n"
     ]
    }
   ],
   "source": [
    "nparams = 5\n",
    "\n",
    "param_list = iden.read_parameters(nparams)\n",
    "\n",
    "#The array of parameters\n",
    "p = np.zeros(nparams)\n",
    "\n",
    "for param in param_list:\n",
    "    param.value = (param.min_value + param.max_value)/2.0\n",
    "    p[param.number] = param.value\n",
    "\n",
    "#outputfile = dir + '/' + sim_file\n",
    "#pathfile = dir + '/path.txt'\n",
    "\n",
    "#Replace the constants\n",
    "res = minimize(iden.cost_solver, p,  method='nelder-mead', options={'xtol': 1e-8, 'disp': True})\n",
    "#res = minimize(sim_solver, p,  method='Powell', options={'xtol': 1e-8, 'disp': True})\n",
    "#res = minimize(sim_solver, p, method='CG')\n",
    "#res = minimize(sim_solver, p,  jac=None, hess=None, method='BFGS', options={'disp': True})\n",
    "\n",
    "print(res)\n"
   ]
  },
  {
   "cell_type": "code",
   "execution_count": 8,
   "metadata": {
    "collapsed": false
   },
   "outputs": [
    {
     "name": "stdout",
     "output_type": "stream",
     "text": [
      "25000.0\n",
      "4500.0\n",
      "0.155\n",
      "0.155\n",
      "4500.0\n"
     ]
    }
   ],
   "source": [
    "print(param_list[0].value)\n",
    "print(param_list[1].value)\n",
    "print(param_list[2].value)\n",
    "print(param_list[3].value)\n",
    "print(param_list[4].value)"
   ]
  },
  {
   "cell_type": "code",
   "execution_count": null,
   "metadata": {
    "collapsed": true
   },
   "outputs": [],
   "source": []
  }
 ],
 "metadata": {
  "kernelspec": {
   "display_name": "Python 2",
   "language": "python",
   "name": "python2"
  },
  "language_info": {
   "codemirror_mode": {
    "name": "ipython",
    "version": 2
   },
   "file_extension": ".py",
   "mimetype": "text/x-python",
   "name": "python",
   "nbconvert_exporter": "python",
   "pygments_lexer": "ipython2",
   "version": "2.7.11"
  }
 },
 "nbformat": 4,
 "nbformat_minor": 0
}
