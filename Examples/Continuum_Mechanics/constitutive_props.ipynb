{
 "cells": [
  {
   "cell_type": "markdown",
   "metadata": {},
   "source": [
    "# constitutive : The Constitutive Library"
   ]
  },
  {
   "cell_type": "code",
   "execution_count": 1,
   "metadata": {
    "collapsed": false
   },
   "outputs": [],
   "source": [
    "%matplotlib inline\n",
    "\n",
    "import numpy as np\n",
    "import matplotlib.pyplot as plt\n",
    "from simmit import smartplus as sim\n",
    "import os"
   ]
  },
  {
   "cell_type": "markdown",
   "metadata": {},
   "source": [
    "## L_iso\n",
    "\n",
    "Provides the elastic stiffness tensor for an isotropic material.\n",
    "The two first arguments are a couple of elastic properties. The third argument specifies which couple has been provided and the nature and order of coefficients.\n",
    "Exhaustive list of possible third argument :\n",
    "‘Enu’,’nuE,’Kmu’,’muK’, ‘KG’, ‘GK’, ‘lambdamu’, ‘mulambda’, ‘lambdaG’, ‘Glambda’.\n",
    "Return a numpy ndarray.\n",
    "Example :"
   ]
  },
  {
   "cell_type": "code",
   "execution_count": 2,
   "metadata": {
    "collapsed": false
   },
   "outputs": [
    {
     "name": "stdout",
     "output_type": "stream",
     "text": [
      "[[ 94230.7692  40384.6154  40384.6154      0.          0.          0.    ]\n",
      " [ 40384.6154  94230.7692  40384.6154      0.          0.          0.    ]\n",
      " [ 40384.6154  40384.6154  94230.7692      0.          0.          0.    ]\n",
      " [     0.          0.          0.      26923.0769      0.          0.    ]\n",
      " [     0.          0.          0.          0.      26923.0769      0.    ]\n",
      " [     0.          0.          0.          0.          0.      26923.0769]]\n",
      "ELISO\n",
      "[  7.00000000e+04   3.00000000e-01]\n",
      "[  7.00000000e+04   3.00000000e-01]\n"
     ]
    }
   ],
   "source": [
    "E = 70000.0\n",
    "nu = 0.3\n",
    "L = sim.L_iso(E,nu,\"Enu\")\n",
    "print np.array_str(L, precision=4, suppress_small=True)\n",
    "\n",
    "d = sim.check_symetries(L)\n",
    "print(d['umat_type'])\n",
    "print(d['props'])\n",
    "\n",
    "x = sim.L_iso_props(L)\n",
    "print(x)"
   ]
  },
  {
   "cell_type": "markdown",
   "metadata": {},
   "source": [
    "## M_iso\n",
    "\n",
    "Provides the elastic compliance tensor for an isotropic material.\n",
    "The two first arguments are a couple of elastic properties. The third argument specify which couple has been provided and the nature and order of coefficients.\n",
    "Exhaustive list of possible third argument :\n",
    "‘Enu’,’nuE,’Kmu’,’muK’, ‘KG’, ‘GK’, ‘lambdamu’, ‘mulambda’, ‘lambdaG’, ‘Glambda’."
   ]
  },
  {
   "cell_type": "code",
   "execution_count": 3,
   "metadata": {
    "collapsed": false,
    "scrolled": true
   },
   "outputs": [
    {
     "name": "stdout",
     "output_type": "stream",
     "text": [
      "[[  1.43e-05  -4.29e-06  -4.29e-06   0.00e+00   0.00e+00   0.00e+00]\n",
      " [ -4.29e-06   1.43e-05  -4.29e-06   0.00e+00   0.00e+00   0.00e+00]\n",
      " [ -4.29e-06  -4.29e-06   1.43e-05   0.00e+00   0.00e+00   0.00e+00]\n",
      " [  0.00e+00   0.00e+00   0.00e+00   3.71e-05   0.00e+00   0.00e+00]\n",
      " [  0.00e+00   0.00e+00   0.00e+00   0.00e+00   3.71e-05   0.00e+00]\n",
      " [  0.00e+00   0.00e+00   0.00e+00   0.00e+00   0.00e+00   3.71e-05]]\n",
      "ELISO\n",
      "[  7.00000000e+04   3.00000000e-01]\n",
      "[  7.00000000e+04   3.00000000e-01]\n"
     ]
    }
   ],
   "source": [
    "E = 70000.0\n",
    "nu = 0.3\n",
    "M = sim.M_iso(E,nu,\"Enu\")\n",
    "print np.array_str(M, precision=2)\n",
    "\n",
    "L_inv = np.linalg.inv(M)\n",
    "d = sim.check_symetries(L_inv)\n",
    "print(d['umat_type'])\n",
    "print(d['props'])\n",
    "\n",
    "x = sim.M_iso_props(M)\n",
    "print(x)\n"
   ]
  },
  {
   "cell_type": "markdown",
   "metadata": {},
   "source": [
    "## L_cubic\n",
    "\n",
    "Provides the elastic stiffness tensor for a cubic material. Arguments are the stiffness coefficients C11, C12 and C44, or the elastic constants E, nu, G\n",
    "Exhaustive list of possible third argument : ‘Cii’,’EnuG, the by-default argument is 'Cii'"
   ]
  },
  {
   "cell_type": "code",
   "execution_count": 4,
   "metadata": {
    "collapsed": false
   },
   "outputs": [
    {
     "name": "stdout",
     "output_type": "stream",
     "text": [
      "[[ 94230.77  40384.62  40384.62      0.        0.        0.  ]\n",
      " [ 40384.62  94230.77  40384.62      0.        0.        0.  ]\n",
      " [ 40384.62  40384.62  94230.77      0.        0.        0.  ]\n",
      " [     0.        0.        0.    23000.        0.        0.  ]\n",
      " [     0.        0.        0.        0.    23000.        0.  ]\n",
      " [     0.        0.        0.        0.        0.    23000.  ]]\n",
      "ELCUB\n",
      "[  7.00000000e+04   3.00000000e-01   2.30000000e+04]\n",
      "[  7.00000000e+04   3.00000000e-01   2.30000000e+04]\n"
     ]
    }
   ],
   "source": [
    "E = 70000.0\n",
    "nu = 0.3\n",
    "G = 23000.0\n",
    "L = sim.L_cubic(E,nu,G,\"EnuG\")\n",
    "print np.array_str(L, precision=2)\n",
    "\n",
    "d = sim.check_symetries(L)\n",
    "print(d['umat_type'])\n",
    "print(d['props'])\n",
    "\n",
    "x = sim.L_cubic_props(L)\n",
    "print(x)\n"
   ]
  },
  {
   "cell_type": "markdown",
   "metadata": {},
   "source": [
    "## M_cubic\n",
    "\n",
    "Provides the elastic compliance tensor for a cubic material. Arguments are the stiffness coefficients C11, C12 and C44, or the elastic constants E, nu, G\n",
    "Exhaustive list of possible third argument : ‘Cii’,’EnuG, the by-default argument is 'Cii'"
   ]
  },
  {
   "cell_type": "code",
   "execution_count": 5,
   "metadata": {
    "collapsed": false
   },
   "outputs": [
    {
     "name": "stdout",
     "output_type": "stream",
     "text": [
      "[[  1.43e-05  -4.29e-06  -4.29e-06   0.00e+00   0.00e+00   0.00e+00]\n",
      " [ -4.29e-06   1.43e-05  -4.29e-06   0.00e+00   0.00e+00   0.00e+00]\n",
      " [ -4.29e-06  -4.29e-06   1.43e-05   0.00e+00   0.00e+00   0.00e+00]\n",
      " [  0.00e+00   0.00e+00   0.00e+00   4.35e-05   0.00e+00   0.00e+00]\n",
      " [  0.00e+00   0.00e+00   0.00e+00   0.00e+00   4.35e-05   0.00e+00]\n",
      " [  0.00e+00   0.00e+00   0.00e+00   0.00e+00   0.00e+00   4.35e-05]]\n",
      "ELCUB\n",
      "[  7.00000000e+04   3.00000000e-01   2.30000000e+04]\n",
      "[  7.00000000e+04   3.00000000e-01   2.30000000e+04]\n"
     ]
    }
   ],
   "source": [
    "E = 70000.0\n",
    "nu = 0.3\n",
    "G = 23000.0\n",
    "M = sim.M_cubic(E,nu,G,\"EnuG\")\n",
    "print np.array_str(M, precision=2)\n",
    "\n",
    "L = np.linalg.inv(M)\n",
    "d = sim.check_symetries(L)\n",
    "print(d['umat_type'])\n",
    "print(d['props'])\n",
    "\n",
    "x = sim.L_cubic_props(L)\n",
    "print(x)"
   ]
  },
  {
   "cell_type": "markdown",
   "metadata": {},
   "source": [
    "## L_isotrans\n",
    "\n",
    "Provides the elastic stiffness tensor for an isotropic transverse material.\n",
    "Arguments are longitudinal Young modulus EL, transverse young modulus, Poisson’s ratio for loading along the longitudinal axis nuTL, Poisson’s ratio for loading along the transverse axis nuTT, shear modulus GLT and the axis of symmetry."
   ]
  },
  {
   "cell_type": "code",
   "execution_count": 6,
   "metadata": {
    "collapsed": false
   },
   "outputs": [
    {
     "name": "stdout",
     "output_type": "stream",
     "text": [
      "[[ 22954.82   7570.21   8547.01      0.        0.        0.  ]\n",
      " [  7570.21  22954.82   8547.01      0.        0.        0.  ]\n",
      " [  8547.01   8547.01  74786.32      0.        0.        0.  ]\n",
      " [     0.        0.        0.     7692.31      0.        0.  ]\n",
      " [     0.        0.        0.        0.    12000.        0.  ]\n",
      " [     0.        0.        0.        0.        0.    12000.  ]]\n",
      "ELIST\n",
      "3\n",
      "[  7.00e+04   2.00e+04   8.00e-02   3.00e-01   1.20e+04]\n",
      "[  7.00e+04   2.00e+04   8.00e-02   3.00e-01   1.20e+04]\n"
     ]
    }
   ],
   "source": [
    "EL = 70000.0\n",
    "ET = 20000.0\n",
    "nuTL = 0.08\n",
    "nuTT = 0.3\n",
    "GLT = 12000.0\n",
    "axis = 3\n",
    "L = sim.L_isotrans(EL,ET,nuTL,nuTT,GLT,axis)\n",
    "print np.array_str(L, precision=2)\n",
    "\n",
    "d = sim.check_symetries(L)\n",
    "print(d['umat_type'])\n",
    "print(d['axis'])\n",
    "print np.array_str(d['props'], precision=2)\n",
    "\n",
    "x = sim.L_isotrans_props(L,axis)\n",
    "print np.array_str(x, precision=2)"
   ]
  },
  {
   "cell_type": "markdown",
   "metadata": {},
   "source": [
    "    bp::def(\"L_iso\", L_iso);\n",
    "    bp::def(\"M_iso\", M_iso);\n",
    "    bp::def(\"L_cubic\", L_cubic);\n",
    "    bp::def(\"M_cubic\", M_cubic);\n",
    "    bp::def(\"L_ortho\", L_ortho);\n",
    "    bp::def(\"M_ortho\", M_ortho);\n",
    "    bp::def(\"L_isotrans\", L_isotrans);\n",
    "    bp::def(\"M_isotrans\", M_isotrans);\n",
    "    \n",
    "    bp::def(\"check_symetries\", check_symetries);\n",
    "    bp::def(\"L_iso_props\", L_iso_props);\n",
    "    bp::def(\"M_iso_props\", M_iso_props);\n",
    "    bp::def(\"L_isotrans_props\", L_isotrans_props);\n",
    "    bp::def(\"M_isotrans_props\", M_isotrans_props);\n",
    "    bp::def(\"L_cubic_props\", L_cubic_props);\n",
    "    bp::def(\"M_cubic_props\", M_cubic_props);\n",
    "    bp::def(\"L_ortho_props\", L_ortho_props);\n",
    "    bp::def(\"M_ortho_props\", M_ortho_props);\n",
    "    bp::def(\"M_aniso_props\", M_aniso_props);"
   ]
  },
  {
   "cell_type": "code",
   "execution_count": 7,
   "metadata": {
    "collapsed": false
   },
   "outputs": [
    {
     "name": "stdout",
     "output_type": "stream",
     "text": [
      "[ 1.  1.  1.  0.  0.  0.]\n"
     ]
    }
   ],
   "source": [
    "v = sim.Ith()\n",
    "print v"
   ]
  },
  {
   "cell_type": "markdown",
   "metadata": {},
   "source": [
    "## Ir2()\n",
    "\n",
    "Provides the vector $I_{r2} = \\left( \\begin{array}{ccc} 1 \\\\ 1 \\\\ 1 \\\\ 2 \\\\ 2 \\\\ 2 \\end{array} \\right)$. Return a vec.\n",
    "This vector is usefull when transferring from \"stress\"-type Voigt conventions to \"strain\"-type.\n",
    "Example:"
   ]
  },
  {
   "cell_type": "code",
   "execution_count": 8,
   "metadata": {
    "collapsed": false
   },
   "outputs": [
    {
     "name": "stdout",
     "output_type": "stream",
     "text": [
      "[ 1.  1.  1.  2.  2.  2.]\n"
     ]
    }
   ],
   "source": [
    "v = sim.Ir2()\n",
    "print v"
   ]
  },
  {
   "cell_type": "markdown",
   "metadata": {
    "collapsed": true
   },
   "source": [
    "## Ir05()\n",
    "  </h3> Provides the vector $I_{r05} = \\left( \\begin{array}{ccc} 1 \\\\ 1 \\\\ 1 \\\\ 0.5 \\\\ 0.5 \\\\ 0.5 \\end{array} \\right)$. Return a vec. Example: "
   ]
  },
  {
   "cell_type": "code",
   "execution_count": 9,
   "metadata": {
    "collapsed": false
   },
   "outputs": [
    {
     "name": "stdout",
     "output_type": "stream",
     "text": [
      "[ 1.   1.   1.   0.5  0.5  0.5]\n"
     ]
    }
   ],
   "source": [
    "v = sim.Ir05()\n",
    "print v"
   ]
  },
  {
   "cell_type": "code",
   "execution_count": null,
   "metadata": {
    "collapsed": true
   },
   "outputs": [],
   "source": []
  }
 ],
 "metadata": {
  "kernelspec": {
   "display_name": "Python 2",
   "language": "python",
   "name": "python2"
  },
  "language_info": {
   "codemirror_mode": {
    "name": "ipython",
    "version": 2
   },
   "file_extension": ".py",
   "mimetype": "text/x-python",
   "name": "python",
   "nbconvert_exporter": "python",
   "pygments_lexer": "ipython2",
   "version": "2.7.11"
  }
 },
 "nbformat": 4,
 "nbformat_minor": 0
}
