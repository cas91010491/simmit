{
 "cells": [
  {
   "cell_type": "markdown",
   "metadata": {},
   "source": [
    "# Composites simulation :  plies with damage & plasticity"
   ]
  },
  {
   "cell_type": "code",
   "execution_count": 1,
   "metadata": {
    "collapsed": false
   },
   "outputs": [],
   "source": [
    "%matplotlib inline\n",
    "\n",
    "import numpy as np\n",
    "import pandas as pd\n",
    "import pylab\n",
    "import matplotlib.pyplot as plt\n",
    "from simmit import smartplus as sim\n",
    "import os\n",
    "\n",
    "dir = os.path.dirname(os.path.realpath('__file__'))"
   ]
  },
  {
   "cell_type": "markdown",
   "metadata": {},
   "source": [
    "We need to import here the data, modify them if needed and proceed with\n",
    "There are 17 parameters, that define the damage deterioration of the material,\n",
    "\n",
    "Parameters 1-7 are the material properties and are constant per each material.\n",
    "\n",
    "Parameters 8-17 define the damage in the shear direction coefficients used in the Ladeveze-Le Dantec model.\n",
    "\n",
    "1. $E_L$ $\\qquad$Longitudinal Young's modulus\n",
    "\n",
    "2. $E_T$ $\\qquad$Transverse Young's modulus\n",
    "\n",
    "3. $\\nu_{TL}$\t$\\qquad$Poisson Ratio transverse/longitudinal direction\n",
    "\n",
    "4. $\\nu_{TT}$\t$\\qquad$Poisson Ratio transverse/transverse direction\n",
    "\n",
    "5. $G_{LT}$\t$\\qquad$In-plane shear modulus\n",
    "\n",
    "6. $\\alpha_L$\t$\\qquad$CTE (Coefficient of thermal expansion) in the longitudinal direction\n",
    "\n",
    "7. $\\alpha_T$\t$\\qquad$CTE (Coefficient of thermal expansion) in the transverse direction\n",
    "\n",
    "8. $Y_{{12}_0}$\t$\\qquad$Critical driving force for damage in the shear direction\n",
    "\n",
    "9. $Y_{{12}_c}$\t$\\qquad$Damage - driving force relation\n",
    "\n",
    "10. $Y_{{22}_0}$$\\qquad$Critical driving force for damage in the transverse direction\n",
    "\n",
    "11. $Y_{{22}_c}$$\\qquad$Damage - driving force relation\n",
    "\n",
    "12. $Y_{{22}_u}$$\\qquad$Ultimate damage driving force threshold\n",
    "\n",
    "13. $b$\t$\\qquad$shear - transverse damage coupling parameter\n",
    "\n",
    "14. $A$\t$\\qquad$shear - transverse plasticty coupling parameter (\"equivalent to $a^2$ in Le Dantec\")\n",
    "\n",
    "15. $\\sigma_{{ts}_0}$$\\qquad$Yield limit for the onset of plasticity (Equivalent to $R_e$) in the shear/transverse (to fiber) directions\n",
    "\n",
    "16. $\\alpha_{ts}$$\\qquad$Exponent\n",
    "\n",
    "17. $\\beta_{ts}$\t$\\qquad$Hardening coefficient\n",
    "\n",
    "\n",
    "\n"
   ]
  },
  {
   "cell_type": "code",
   "execution_count": 2,
   "metadata": {
    "collapsed": false
   },
   "outputs": [
    {
     "data": {
      "text/html": [
       "<div>\n",
       "<table border=\"1\" class=\"dataframe\">\n",
       "  <thead>\n",
       "    <tr style=\"text-align: right;\">\n",
       "      <th></th>\n",
       "      <th>Number</th>\n",
       "      <th>umat</th>\n",
       "      <th>save</th>\n",
       "      <th>c</th>\n",
       "      <th>psi_mat</th>\n",
       "      <th>theta_mat</th>\n",
       "      <th>phi_mat</th>\n",
       "      <th>psi_geom</th>\n",
       "      <th>theta_geom</th>\n",
       "      <th>phi_geom</th>\n",
       "      <th>nprops</th>\n",
       "      <th>nstatev</th>\n",
       "      <th>props</th>\n",
       "    </tr>\n",
       "  </thead>\n",
       "  <tbody>\n",
       "    <tr>\n",
       "      <th>0</th>\n",
       "      <td>0</td>\n",
       "      <td>LLDM0</td>\n",
       "      <td>1</td>\n",
       "      <td>0.5</td>\n",
       "      <td>45</td>\n",
       "      <td>0</td>\n",
       "      <td>0</td>\n",
       "      <td>0.0</td>\n",
       "      <td>90.0</td>\n",
       "      <td>-90.0</td>\n",
       "      <td>17</td>\n",
       "      <td>10</td>\n",
       "      <td>150000</td>\n",
       "    </tr>\n",
       "    <tr>\n",
       "      <th>1</th>\n",
       "      <td>1</td>\n",
       "      <td>LLDM0</td>\n",
       "      <td>1</td>\n",
       "      <td>0.5</td>\n",
       "      <td>-45</td>\n",
       "      <td>0</td>\n",
       "      <td>0</td>\n",
       "      <td>0.0</td>\n",
       "      <td>90.0</td>\n",
       "      <td>-90.0</td>\n",
       "      <td>17</td>\n",
       "      <td>10</td>\n",
       "      <td>150000</td>\n",
       "    </tr>\n",
       "  </tbody>\n",
       "</table>\n",
       "</div>"
      ],
      "text/plain": [
       "   Number   umat  save    c  psi_mat  theta_mat  phi_mat  psi_geom  \\\n",
       "0       0  LLDM0     1  0.5       45          0        0       0.0   \n",
       "1       1  LLDM0     1  0.5      -45          0        0       0.0   \n",
       "\n",
       "   theta_geom  phi_geom  nprops  nstatev   props  \n",
       "0        90.0     -90.0      17       10  150000  \n",
       "1        90.0     -90.0      17       10  150000  "
      ]
     },
     "execution_count": 2,
     "metadata": {},
     "output_type": "execute_result"
    }
   ],
   "source": [
    "umat_name = 'MIPLN' #This is the 5 character code for the periodic homogenization for multlayered composite\n",
    "nstatev = 0 #The number of scalar variables required, everything is stored in sub-phases statevs\n",
    "\n",
    "rho = 1.12 #The density of the material (overall)\n",
    "c_p = 1.64 #The specific heat capacity (overall)\n",
    "\n",
    "nphases = 2 #The number of phases\n",
    "num_file = 0 #The num of the file that contains the subphases\n",
    "\n",
    "psi_rve = 0.\n",
    "theta_rve = 0.\n",
    "phi_rve = 0.\n",
    "\n",
    "props = np.array([nphases, num_file])\n",
    "\n",
    "NPhases_file = dir + '/data/Nlayers0.dat'\n",
    "NPhases = pd.read_csv(NPhases_file, delimiter=r'\\s+', index_col=False, engine='python')\n",
    "\n",
    "NPhases[::]"
   ]
  },
  {
   "cell_type": "code",
   "execution_count": 4,
   "metadata": {
    "collapsed": false,
    "scrolled": false
   },
   "outputs": [
    {
     "data": {
      "image/png": "[encoded data removed]",
      "text/plain": [
       "<matplotlib.figure.Figure at 0x10c735f50>"
      ]
     },
     "metadata": {},
     "output_type": "display_data"
    }
   ],
   "source": [
    "path_data = 'data'\n",
    "path_results = 'results'\n",
    "pathfile = 'co_pm45.txt'\n",
    "outputfile = 'results_PLN.txt'\n",
    "\n",
    "sim.solver(umat_name, props, nstatev, psi_rve, theta_rve, phi_rve, rho, c_p, path_data, path_results, pathfile, outputfile)\n",
    "\n",
    "outputfile_macro = dir + '/' + path_results + '/results_PLN_global-0.txt'\n",
    "outputfile_micro1 = dir + '/' + path_results + '/results_PLN_global-0-0.txt'\n",
    "outputfile_micro2 = dir + '/' + path_results + '/results_PLN_global-0-1.txt'\n",
    "outputfile_micro3 = dir + '/t300'\n",
    "\n",
    "fig = plt.figure()\n",
    "\n",
    "e11, e22, e33, e12, e13, e23, s11, s22, s33, s12, s13, s23 = np.loadtxt(outputfile_macro, usecols=(8,9,10,11,12,13,14,15,16,17,18,19), unpack=True)\n",
    "plt.grid(True)\n",
    "plt.plot(e11,s11, c='black')\n",
    "\n",
    "e11, e22, e33, e12, e13, e23, s11, s22, s33, s12, s13, s23 = np.loadtxt(outputfile_micro1, usecols=(8,9,10,11,12,13,14,15,16,17,18,19), unpack=True)\n",
    "plt.grid(True)\n",
    "plt.plot(e11,s11, c='red')\n",
    "\n",
    "e11, e22, e33, e12, e13, e23, s11, s22, s33, s12, s13, s23 = np.loadtxt(outputfile_micro2, usecols=(8,9,10,11,12,13,14,15,16,17,18,19), unpack=True)\n",
    "plt.grid(True)\n",
    "plt.plot(e11,s11, c='blue')\n",
    "\n",
    "e11,s11 = np.loadtxt(outputfile_micro3, usecols=(0,1), unpack=True)\n",
    "plt.grid(True)\n",
    "plt.plot(e11,s11, c='green')\n",
    "\n",
    "plt.xlabel('Strain')\n",
    "plt.ylabel('Stress (MPa)')\n",
    "\n",
    "plt.show()\n"
   ]
  },
  {
   "cell_type": "code",
   "execution_count": null,
   "metadata": {
    "collapsed": false
   },
   "outputs": [],
   "source": [
    "#pylab.rcParams['figure.figsize'] = (24.0, 5.0) #configure the figure output size\n",
    "\n",
    "outputfile_micro1 = dir + '/results_PLN_local-0-0.txt'\n",
    "outputfile_micro2 = dir + '/results_PLN_local-0-1.txt'\n",
    "\n",
    "fig = plt.figure()\n",
    "\n",
    "e11, e22, e33, e12, e13, e23, s11, s22, s33, s12, s13, s23 = np.loadtxt(outputfile_micro1, usecols=(8,9,10,11,12,13,14,15,16,17,18,19), unpack=True)\n",
    "plt.grid(True)\n",
    "plt.plot(e11,s11, c='red')\n",
    "\n",
    "e11, e22, e33, e12, e13, e23, s11, s22, s33, s12, s13, s23 = np.loadtxt(outputfile_micro2, usecols=(8,9,10,11,12,13,14,15,16,17,18,19), unpack=True)\n",
    "plt.grid(True)\n",
    "plt.plot(e11,s11, c='blue')\n",
    "\n",
    "plt.xlabel('Strain')\n",
    "plt.ylabel('Stress (MPa)')\n",
    "\n",
    "plt.show()\n",
    "\n",
    "e11, e22, e33, e12, e13, e23, s11, s22, s33, s12, s13, s23 = np.loadtxt(outputfile_micro1, usecols=(8,9,10,11,12,13,14,15,16,17,18,19), unpack=True)\n",
    "plt.grid(True)\n",
    "plt.plot(e12,s12, c='red')\n",
    "e11, e22, e33, e12, e13, e23, s11, s22, s33, s12, s13, s23 = np.loadtxt(outputfile_micro2, usecols=(8,9,10,11,12,13,14,15,16,17,18,19), unpack=True)\n",
    "plt.grid(True)\n",
    "plt.plot(e12,s12, c='blue')\n",
    "\n",
    "plt.xlabel('Strain')\n",
    "plt.ylabel('Stress (MPa)')\n",
    "\n",
    "plt.show()\n",
    "\n",
    "\n",
    "e11, e22, e33, e12, e13, e23, s11, s22, s33, s12, s13, s23 = np.loadtxt(outputfile_micro1, usecols=(8,9,10,11,12,13,14,15,16,17,18,19), unpack=True)\n",
    "plt.grid(True)\n",
    "plt.plot(e22,s22, c='red')\n",
    "e11, e22, e33, e12, e13, e23, s11, s22, s33, s12, s13, s23 = np.loadtxt(outputfile_micro2, usecols=(8,9,10,11,12,13,14,15,16,17,18,19), unpack=True)\n",
    "plt.grid(True)\n",
    "plt.plot(e22,s22, c='blue')\n",
    "plt.xlabel('Strain')\n",
    "plt.ylabel('Stress (MPa)')\n",
    "\n",
    "plt.show()"
   ]
  },
  {
   "cell_type": "markdown",
   "metadata": {},
   "source": []
  },
  {
   "cell_type": "code",
   "execution_count": null,
   "metadata": {
    "collapsed": true
   },
   "outputs": [],
   "source": []
  },
  {
   "cell_type": "code",
   "execution_count": null,
   "metadata": {
    "collapsed": true
   },
   "outputs": [],
   "source": []
  },
  {
   "cell_type": "code",
   "execution_count": null,
   "metadata": {
    "collapsed": true
   },
   "outputs": [],
   "source": []
  },
  {
   "cell_type": "code",
   "execution_count": null,
   "metadata": {
    "collapsed": true
   },
   "outputs": [],
   "source": []
  },
  {
   "cell_type": "code",
   "execution_count": null,
   "metadata": {
    "collapsed": true
   },
   "outputs": [],
   "source": []
  },
  {
   "cell_type": "code",
   "execution_count": null,
   "metadata": {
    "collapsed": true
   },
   "outputs": [],
   "source": []
  },
  {
   "cell_type": "code",
   "execution_count": null,
   "metadata": {
    "collapsed": true
   },
   "outputs": [],
   "source": []
  },
  {
   "cell_type": "code",
   "execution_count": null,
   "metadata": {
    "collapsed": true
   },
   "outputs": [],
   "source": []
  }
 ],
 "metadata": {
  "kernelspec": {
   "display_name": "Python 2",
   "language": "python",
   "name": "python2"
  },
  "language_info": {
   "codemirror_mode": {
    "name": "ipython",
    "version": 2
   },
   "file_extension": ".py",
   "mimetype": "text/x-python",
   "name": "python",
   "nbconvert_exporter": "python",
   "pygments_lexer": "ipython2",
   "version": "2.7.11"
  }
 },
 "nbformat": 4,
 "nbformat_minor": 0
}
