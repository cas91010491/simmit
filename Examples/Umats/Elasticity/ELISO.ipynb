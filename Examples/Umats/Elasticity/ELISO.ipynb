{
 "cells": [
  {
   "cell_type": "markdown",
   "metadata": {},
   "source": [
    "# Isotropic linear elasticity"
   ]
  },
  {
   "cell_type": "code",
   "execution_count": 1,
   "metadata": {
    "collapsed": false
   },
   "outputs": [],
   "source": [
    "%matplotlib inline\n",
    "\n",
    "import numpy as np\n",
    "import matplotlib.pyplot as plt\n",
    "from simmit import smartplus as sim\n",
    "import os"
   ]
  },
  {
   "cell_type": "markdown",
   "metadata": {},
   "source": [
    "In thermoelastic isotropic materials three parameters are required: \n",
    "      \n",
    "1. The Young modulus $E$,\n",
    "2. The Poisson ratio $\\nu$,\n",
    "3. The coefficient of thermal expansion $\\alpha$.\n",
    "\n",
    "The elastic stiffness tensor and the thermal expansion coefficients tensor are written in the Voigt notation formalism as\n",
    "\n",
    "$$\\boldsymbol{L}=\\left(\\begin{matrix} L_{1111} & L_{1122} & L_{1122} & 0 & 0 & 0 \\\\ L_{1122} & L_{1111} & L_{1122} & 0 & 0 & 0 \\\\ L_{1122} & L_{1122} & L_{1111} & 0 & 0 & 0 \\\\ 0 & 0 & 0 & L_{1212} & 0 & 0 \\\\ 0 & 0 & 0 & 0 & L_{1212} & 0 \\\\ 0 & 0 & 0 & 0 & 0 & L_{1212} \\end{matrix}\\right), \\quad \\boldsymbol{\\alpha}=\\left(\\begin{matrix} \\alpha & 0 & 0 \\\\ 0 & \\alpha & 0 \\\\ 0 & 0 & \\alpha \\end{matrix}\\right),$$\n",
    "\n",
    "with \n",
    "$$L_{1111}=\\frac{E(1-\\nu)}{(1+\\nu)(1-2\\nu)}, \\quad L_{1122}=\\frac{E\\nu}{(1+\\nu)(1-2\\nu)}, \\quad L_{1212}=\\frac{E}{2(1+\\nu)}.$$\n",
    "\n",
    "Details on the the elastic stiffness tensor of isotropic media can be found in Lai et al 2010. The tangent stiffness tensor in this case is $\\boldsymbol{L}^t=\\boldsymbol{L}$. Moreover, the increment of the elastic strain is given by\n",
    "\n",
    "$$\\Delta\\varepsilon^{\\textrm{el}}_{ij}=\\Delta\\varepsilon^{\\textrm{tot}}_{ij}-\\alpha\\Delta T\\delta_{ij},$$\n",
    "\n",
    "where $\\delta_{ij}$ implies the Kronecker delta operator. In the 1D case only one component of stress is computed, through the relation \n",
    "\n",
    "$$\\sigma^{\\textrm{fin}}_{11}=\\sigma^{\\textrm{init}}_{11}+E\\Delta\\varepsilon^{\\textrm{el}}_{11}.$$\n",
    "\n",
    "In the plane stress case only three components of stress are computed, through the relations \n",
    "\n",
    "$$\\left(\\begin{matrix} \\sigma^{\\textrm{fin}}_{11} \\\\ \\sigma^{\\textrm{fin}}_{22} \\\\ \\sigma^{\\textrm{fin}}_{12} \\end{matrix}\\right) =\\left(\\begin{matrix} \\sigma^{\\textrm{init}}_{11} \\\\ \\sigma^{\\textrm{init}}_{22} \\\\ \\sigma^{\\textrm{init}}_{12} \\end{matrix}\\right)+\\frac{E}{1-\\nu^2} \\left(\\begin{matrix} 1 & \\nu & 0 \\\\ \\nu & 1 & 0 \\\\ 0 & 0 & \\frac{1-\\nu}{2} \\end{matrix}\\right) \\left(\\begin{matrix} \\Delta\\varepsilon^{\\textrm{el}}_{11} \\\\ \\Delta\\varepsilon^{\\textrm{el}}_{22} \\\\ 2\\Delta\\varepsilon^{\\textrm{el}}_{12} \\end{matrix}\\right).$$\n",
    "\n",
    "In the generalized plane strain/3D analysis case the stress tensor is computed through the relation\n",
    "$$\\sigma^{\\textrm{fin}}_{ij}=\\sigma^{\\textrm{init}}_{ij}+L_{ijkl}~\\Delta\\varepsilon^{\\textrm{el}}_{kl}.$$"
   ]
  },
  {
   "cell_type": "code",
   "execution_count": 3,
   "metadata": {
    "collapsed": false
   },
   "outputs": [
    {
     "data": {
      "image/png": "[encoded data removed]",
      "text/plain": [
       "<matplotlib.figure.Figure at 0x10e7f8ed0>"
      ]
     },
     "metadata": {},
     "output_type": "display_data"
    }
   ],
   "source": [
    "umat_name = 'ELISO' #This is the 5 character code for the elastic-isotropic subroutine\n",
    "nstatev = 1 #The number of scalar variables required, only the initial temperature is stored here\n",
    "\n",
    "rho = 1.12 #The density of the material \n",
    "c_p = 1.64 #The specific heat capacity\n",
    "\n",
    "E = 700000.\n",
    "nu = 0.2\n",
    "alpha = 1.E-5\n",
    "\n",
    "psi_rve = 0.\n",
    "theta_rve = 0.\n",
    "phi_rve = 0.\n",
    "\n",
    "props = np.array([E, nu, alpha])\n",
    "\n",
    "dir = os.path.dirname(os.path.realpath('__file__'))\n",
    "pathfile = dir + '/path.txt'\n",
    "outputfile = dir + '/results_ELISO.txt'\n",
    "sim.solver(umat_name, props, nstatev, psi_rve, theta_rve, phi_rve, rho, c_p, pathfile, outputfile)\n",
    "outputfile = dir + '/results_ELISO_global-0.txt'\n",
    "\n",
    "fig = plt.figure()\n",
    "\n",
    "e11, e22, e33, e12, e13, e23, s11, s22, s33, s12, s13, s23 = np.loadtxt(outputfile, usecols=(8,9,10,11,12,13,14,15,16,17,18,19), unpack=True)\n",
    "plt.grid(True)\n",
    "\n",
    "plt.plot(e11,s11, c='blue')\n",
    "plt.xlabel('Strain')\n",
    "plt.ylabel('Stress (MPa)')\n",
    "\n",
    "plt.show()\n"
   ]
  },
  {
   "cell_type": "markdown",
   "metadata": {
    "collapsed": false
   },
   "source": [
    "Quick verification, we will take the slope of the stress-strain curve and find out if it does correspond to E. For that one can take the last value of s11 and e11"
   ]
  },
  {
   "cell_type": "code",
   "execution_count": 30,
   "metadata": {
    "collapsed": false
   },
   "outputs": [
    {
     "name": "stdout",
     "output_type": "stream",
     "text": [
      "70000.0\n",
      "0.3\n"
     ]
    }
   ],
   "source": [
    "sigma_verif = np.amax(s11)\n",
    "eps_verif1 = np.amax(e11)\n",
    "eps_verif2 = np.amin(e22)\n",
    "\n",
    "E_verif = sigma_verif/eps_verif1\n",
    "nu_verif = -eps_verif2/eps_verif1\n",
    "\n",
    "print(E_verif)\n",
    "print(nu_verif)"
   ]
  },
  {
   "cell_type": "markdown",
   "metadata": {},
   "source": []
  }
 ],
 "metadata": {
  "kernelspec": {
   "display_name": "Python 2",
   "language": "python",
   "name": "python2"
  },
  "language_info": {
   "codemirror_mode": {
    "name": "ipython",
    "version": 2
   },
   "file_extension": ".py",
   "mimetype": "text/x-python",
   "name": "python",
   "nbconvert_exporter": "python",
   "pygments_lexer": "ipython2",
   "version": "2.7.11"
  }
 },
 "nbformat": 4,
 "nbformat_minor": 0
}
