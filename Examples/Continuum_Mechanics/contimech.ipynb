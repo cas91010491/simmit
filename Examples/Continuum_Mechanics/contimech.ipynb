{
 "cells": [
  {
   "cell_type": "markdown",
   "metadata": {},
   "source": [
    "# contimech : tools and functions useful in Continuum Mechanics"
   ]
  },
  {
   "cell_type": "code",
   "execution_count": 1,
   "metadata": {
    "collapsed": false
   },
   "outputs": [],
   "source": [
    "%matplotlib inline\n",
    "\n",
    "import numpy as np\n",
    "import matplotlib.pyplot as plt\n",
    "from simmit import smartplus as sim\n",
    "import os"
   ]
  },
  {
   "cell_type": "markdown",
   "metadata": {},
   "source": [
    "## tr(vec)\n",
    "\n",
    "Provides the trace of a second order tensor written as a vector v in the SMART+ formalism. Return a double. Example:"
   ]
  },
  {
   "cell_type": "code",
   "execution_count": 2,
   "metadata": {
    "collapsed": false
   },
   "outputs": [
    {
     "name": "stdout",
     "output_type": "stream",
     "text": [
      "[ 0.28777037  0.55493192  0.7106877   0.96855799  0.07231218  0.7315952 ]\n",
      "1.55338999261\n"
     ]
    }
   ],
   "source": [
    "v = np.random.rand(6)\n",
    "trace = sim.tr(v)\n",
    "print v\n",
    "print trace"
   ]
  },
  {
   "cell_type": "markdown",
   "metadata": {},
   "source": [
    "## dev(vec)\n",
    "  \n",
    "Provides the deviatoric part of a second order tensor written as a vector v in the SMART+ formalism. Return a vec. Example: "
   ]
  },
  {
   "cell_type": "code",
   "execution_count": 3,
   "metadata": {
    "collapsed": false
   },
   "outputs": [
    {
     "name": "stdout",
     "output_type": "stream",
     "text": [
      "[ 0.40330907  0.43654552  0.03692462  0.84959309  0.01720095  0.57147467]\n",
      "[ 0.11104933  0.14428579 -0.25533512  0.84959309  0.01720095  0.57147467]\n"
     ]
    }
   ],
   "source": [
    "v = np.random.rand(6)\n",
    "v_dev = sim.dev(v)\n",
    "print v\n",
    "print v_dev"
   ]
  },
  {
   "cell_type": "markdown",
   "metadata": {},
   "source": [
    "## Mises_stress(vec)\n",
    "\n",
    "Provides the Von Mises stress $\\sigma^{Mises}$ of a second order stress tensor written as a vector v in the SMART+ formalism. Return a double. "
   ]
  },
  {
   "cell_type": "code",
   "execution_count": 4,
   "metadata": {
    "collapsed": false
   },
   "outputs": [
    {
     "name": "stdout",
     "output_type": "stream",
     "text": [
      "[ 0.08265583  0.46738729  0.2036261   0.05221762  0.20770369  0.79026151]\n",
      "1.45851065101\n"
     ]
    }
   ],
   "source": [
    "v = np.random.rand(6)\n",
    "Mises_sig = sim.Mises_stress(v)\n",
    "print v\n",
    "print Mises_sig"
   ]
  },
  {
   "cell_type": "markdown",
   "metadata": {},
   "source": [
    "## Mises_strain(vec)\n",
    "Provides the Von Mises strain $\\varepsilon^{Mises}$ of a second order stress tensor written as a vector v in the SMART+ formalism. Return a double. "
   ]
  },
  {
   "cell_type": "code",
   "execution_count": 5,
   "metadata": {
    "collapsed": false
   },
   "outputs": [
    {
     "name": "stdout",
     "output_type": "stream",
     "text": [
      "[ 0.23840514  0.66176294  0.22875825  0.23593975  0.64093744  0.96164564]\n",
      "0.738416328564\n"
     ]
    }
   ],
   "source": [
    "v = np.random.rand(6)\n",
    "Mises_eps = sim.Mises_strain(v)\n",
    "print v\n",
    "print Mises_eps"
   ]
  },
  {
   "cell_type": "markdown",
   "metadata": {},
   "source": [
    "## eta_stress(vec)\n",
    "Provides the stress flow:\n",
    "    \n",
    "$$\\eta_{stress}=\\frac{3/2\\sigma_{dev}}{\\sigma_{Mises}}$$\n",
    "\n",
    "from a second order stress tensor written as a vector v in the SMART+ formalism (i.e. the shear terms are multiplied by 2, providing shear angles). Return a vec. \n",
    "  "
   ]
  },
  {
   "cell_type": "code",
   "execution_count": 6,
   "metadata": {
    "collapsed": false
   },
   "outputs": [
    {
     "name": "stdout",
     "output_type": "stream",
     "text": [
      "[ 0.49763588  0.28708324  0.72151363  0.60466712  0.59883081  0.25298088]\n",
      "[-0.00420851 -0.203707    0.20791551  1.1458434   1.1347836   0.47939843]\n"
     ]
    }
   ],
   "source": [
    "v = np.random.rand(6)\n",
    "sigma_f = sim.eta_stress(v)\n",
    "print v\n",
    "print sigma_f"
   ]
  },
  {
   "cell_type": "markdown",
   "metadata": {
    "collapsed": true
   },
   "source": [
    "## eta_strain(vec)\n",
    "Provides the strain flow \n",
    "\n",
    "$$\\eta_{strain}=\\frac{2/3\\varepsilon_{dev}}{\\varepsilon_{Mises}}$$\n",
    "\n",
    "from a second order strain tensor written as a vector v in the SMART+ formalism (i.e. the shear terms are multiplied by 2, providing shear angles). Return a vec. "
   ]
  },
  {
   "cell_type": "code",
   "execution_count": 7,
   "metadata": {
    "collapsed": false
   },
   "outputs": [
    {
     "name": "stdout",
     "output_type": "stream",
     "text": [
      "[ 0.1048527   0.45000922  0.38179737  0.78738433  0.17847086  0.07292651]\n",
      "[-0.2692624   0.17891713  0.09034527  1.0224044   0.23174121  0.09469376]\n"
     ]
    }
   ],
   "source": [
    "v = np.random.rand(6)\n",
    "eps_f = sim.eta_strain(v)\n",
    "print v\n",
    "print eps_f"
   ]
  },
  {
   "cell_type": "markdown",
   "metadata": {},
   "source": [
    "## v2t_stress(vec)\n",
    "Converts a second order stress tensor written as a vector v in the SMART+ formalism into a second order stress tensor written as a matrix m. Return a mat. "
   ]
  },
  {
   "cell_type": "code",
   "execution_count": 8,
   "metadata": {
    "collapsed": false
   },
   "outputs": [
    {
     "name": "stdout",
     "output_type": "stream",
     "text": [
      "[ 0.78149732  0.57208072  0.81330331  0.80857062  0.80308309  0.64530481]\n",
      "[[ 0.78149732  0.80857062  0.80308309]\n",
      " [ 0.80857062  0.57208072  0.64530481]\n",
      " [ 0.80308309  0.64530481  0.81330331]]\n"
     ]
    }
   ],
   "source": [
    "v = np.random.rand(6)\n",
    "m = sim.v2t_stress(v);\n",
    "print v\n",
    "print m"
   ]
  },
  {
   "cell_type": "markdown",
   "metadata": {},
   "source": [
    "## t2v_stress(vec)\n",
    "Converts a second order stress tensor written as a matrix m in the SMART+ formalism into a second order stress tensor written as a vector v. Return a vec. "
   ]
  },
  {
   "cell_type": "code",
   "execution_count": 9,
   "metadata": {
    "collapsed": false
   },
   "outputs": [
    {
     "name": "stdout",
     "output_type": "stream",
     "text": [
      "[[ 0.55364159  0.35478884  0.36243601]\n",
      " [ 0.35478884  0.06697403  0.19396412]\n",
      " [ 0.36243601  0.19396412  0.17517464]]\n",
      "[ 0.55364159  0.06697403  0.17517464  0.35478884  0.36243601  0.19396412]\n"
     ]
    }
   ],
   "source": [
    "m = np.random.rand(3,3)\n",
    "m_symm = (m + m.T)/2\n",
    "v = sim.t2v_stress(m_symm);\n",
    "print m_symm\n",
    "print v"
   ]
  },
  {
   "cell_type": "markdown",
   "metadata": {},
   "source": [
    "## v2t_strain(vec)\n",
    "Converts a second order strain tensor written as a vector v in the SMART+ formalism into a second order strain tensor written as a matrix m. Return a mat. "
   ]
  },
  {
   "cell_type": "code",
   "execution_count": 10,
   "metadata": {
    "collapsed": false
   },
   "outputs": [
    {
     "name": "stdout",
     "output_type": "stream",
     "text": [
      "[ 0.00950847  0.77374737  0.33445427  0.29650873  0.79819359  0.11979222]\n",
      "[[ 0.00950847  0.14825437  0.3990968 ]\n",
      " [ 0.14825437  0.77374737  0.05989611]\n",
      " [ 0.3990968   0.05989611  0.33445427]]\n"
     ]
    }
   ],
   "source": [
    "v = np.random.rand(6)\n",
    "m = sim.v2t_strain(v);\n",
    "print v\n",
    "print m"
   ]
  },
  {
   "cell_type": "markdown",
   "metadata": {},
   "source": [
    "## t2v_strain(vec)\n",
    "\n",
    "Converts a second order strain tensor written as a matrix m in the SMART+ formalism into a second order strain tensor written as a vector v. Return a vec. "
   ]
  },
  {
   "cell_type": "code",
   "execution_count": 11,
   "metadata": {
    "collapsed": false
   },
   "outputs": [
    {
     "name": "stdout",
     "output_type": "stream",
     "text": [
      "[[ 0.75617204  0.56086584  0.10789849]\n",
      " [ 0.56086584  0.52855813  0.65860435]\n",
      " [ 0.10789849  0.65860435  0.43186393]]\n",
      "[ 0.75617204  0.52855813  0.43186393  1.12173167  0.21579698  1.3172087 ]\n"
     ]
    }
   ],
   "source": [
    "m = np.random.rand(3,3)\n",
    "m_symm = (m + m.T)/2\n",
    "v = sim.t2v_strain(m_symm);\n",
    "print m_symm\n",
    "print v"
   ]
  },
  {
   "cell_type": "markdown",
   "metadata": {},
   "source": [
    "## J2_stress(vec)\n",
    "\n",
    "Provides the second invariant of a second order stress tensor written as a vector v in the SMART+ formalism. Return a double. \n",
    "\n",
    "$$ J_2 (\\boldsymbol{\\sigma}) = \\frac{1}{2} \\sigma_{ij} \\sigma_{ij} $$"
   ]
  },
  {
   "cell_type": "code",
   "execution_count": 12,
   "metadata": {
    "collapsed": false
   },
   "outputs": [
    {
     "name": "stdout",
     "output_type": "stream",
     "text": [
      "[ 0.20629024  0.73186445  0.01382952  0.55772089  0.60645481  0.36546341]\n",
      "0.950544125031\n"
     ]
    }
   ],
   "source": [
    "v = np.random.rand(6)\n",
    "J2 = sim.J2_stress(v)\n",
    "print v\n",
    "print J2"
   ]
  },
  {
   "cell_type": "markdown",
   "metadata": {},
   "source": [
    "## J2_strain(vec)\n",
    "Provides the second invariant of a second order strain tensor written as a vector v in the SMART+ formalism. Return a vec. \n",
    "\n",
    "$$ J_2 (\\boldsymbol{\\varepsilon}) = \\frac{1}{2} \\varepsilon_{ij} \\varepsilon_{ij} $$"
   ]
  },
  {
   "cell_type": "code",
   "execution_count": 13,
   "metadata": {
    "collapsed": false
   },
   "outputs": [
    {
     "name": "stdout",
     "output_type": "stream",
     "text": [
      "[ 0.58021933  0.68753395  0.78512884  0.16526677  0.90063365  0.9848156 ]\n",
      "0.462583810197\n"
     ]
    }
   ],
   "source": [
    "v = np.random.rand(6)\n",
    "J2 = sim.J2_strain(v)\n",
    "print v\n",
    "print J2"
   ]
  },
  {
   "cell_type": "markdown",
   "metadata": {},
   "source": [
    "## J3_stress(vec)\n",
    "Provides the third invariant of a second order stress tensor written as a vector v in the SMART+ formalism. Return a double. \n",
    "\n",
    "$$ J_3 (\\boldsymbol{\\sigma}) = \\frac{1}{2} \\sigma_{ij} \\sigma_{jk} \\sigma_{ki} $$"
   ]
  },
  {
   "cell_type": "code",
   "execution_count": 14,
   "metadata": {
    "collapsed": false
   },
   "outputs": [
    {
     "name": "stdout",
     "output_type": "stream",
     "text": [
      "[ 0.9077335   0.0125445   0.60970762  0.46758587  0.88186709  0.81557739]\n",
      "0.753375029015\n"
     ]
    }
   ],
   "source": [
    "v = np.random.rand(6)\n",
    "J3 = sim.J3_stress(v)\n",
    "print v\n",
    "print J3"
   ]
  },
  {
   "cell_type": "markdown",
   "metadata": {},
   "source": [
    "## J3_strain(vec)\n",
    "Provides the third invariant of a second order strain tensor written as a vector v in the SMART+ formalism. Return a vec. \n",
    "\n",
    "$$ J_3 (\\boldsymbol{\\varepsilon}) = \\frac{1}{2} \\varepsilon_{ij} \\varepsilon_{jk} \\varepsilon_{ki} $$\n"
   ]
  },
  {
   "cell_type": "code",
   "execution_count": 15,
   "metadata": {
    "collapsed": false
   },
   "outputs": [
    {
     "name": "stdout",
     "output_type": "stream",
     "text": [
      "[ 0.39472022  0.9450546   0.3415536   0.48283776  0.29197769  0.57909501]\n",
      "0.0528158566489\n"
     ]
    }
   ],
   "source": [
    "v = np.random.rand(6)\n",
    "J3 = sim.J3_strain(v)\n",
    "print v\n",
    "print J3"
   ]
  },
  {
   "cell_type": "code",
   "execution_count": null,
   "metadata": {
    "collapsed": true
   },
   "outputs": [],
   "source": []
  }
 ],
 "metadata": {
  "kernelspec": {
   "display_name": "Python 2",
   "language": "python",
   "name": "python2"
  },
  "language_info": {
   "codemirror_mode": {
    "name": "ipython",
    "version": 2
   },
   "file_extension": ".py",
   "mimetype": "text/x-python",
   "name": "python",
   "nbconvert_exporter": "python",
   "pygments_lexer": "ipython2",
   "version": "2.7.11"
  }
 },
 "nbformat": 4,
 "nbformat_minor": 0
}
