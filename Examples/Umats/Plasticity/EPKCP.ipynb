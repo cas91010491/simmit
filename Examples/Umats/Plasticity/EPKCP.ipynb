{
 "cells": [
  {
   "cell_type": "markdown",
   "metadata": {},
   "source": [
    "# Plasticity with isotropic hardening"
   ]
  },
  {
   "cell_type": "code",
   "execution_count": 2,
   "metadata": {
    "collapsed": false
   },
   "outputs": [],
   "source": [
    "%matplotlib inline\n",
    "\n",
    "import pylab\n",
    "import numpy as np\n",
    "import matplotlib.pyplot as plt\n",
    "from simmit import smartplus as sim\n",
    "import os"
   ]
  },
  {
   "cell_type": "markdown",
   "metadata": {},
   "source": [
    "The elastic-plastic (isotropic hardening) constitutive law implemented in SMART+ is a rate independent, isotropic, von Mises type material with power-law isotropic hardening. Six parameters are required: \n",
    "1. The Young modulus $E$,\n",
    "2. The Poisson ratio $\\nu$,\n",
    "3. The coefficient of thermal expansion $\\alpha$,\n",
    "4. The von Mises equivalent yield stress limit $\\sigma_{Y}$,\n",
    "5. The hardening parameter $k$,\n",
    "6. The hardening exponent $m$.\n",
    "\n",
    "The constitutive law is given by the set of equations \n",
    "\n",
    "$$\\begin{matrix} {\\sigma}_{ij}=L_{ijkl}\\left({\\varepsilon}^{\\textrm{tot}}_{kl}-\\alpha_{kl}\\left(T-T^{\\textrm{ref}}\\right)-{\\varepsilon}^{\\textrm{p}}_{kl}\\right),\\\\\n",
    "\\dot{\\varepsilon}^{\\textrm{p}}_{ij}=\\dot{p}\\Lambda_{ij}, \\quad \\Lambda_{ij}=\\frac{3}{2}\\frac{\\sigma'_{ij}}{\\overline{\\sigma}}, \\quad \\sigma'_{ij}=\\sigma_{ij}-\\frac{1}{3}\\sigma_{kk}\\delta_{ij}, \\quad \\overline{\\sigma}=\\sqrt{\\frac{3}{2}\\sigma'_{kl}\\sigma'_{kl}},\\\\ \\Phi=\\overline{\\sigma}-\\sigma_{Y}-kp^m\\leq 0, \\quad \\dot{p}\\geq0,~~~ \\dot{p}~\\Phi=0, \\end{matrix}$$\n",
    "\n",
    "where ${\\varepsilon}^{\\textrm{p}}_{ij}$ is the plastic strain tensor, $p$ is the plastic multiplier, $\\sigma'_{ij}$ is the deviatoric part of the stress and $\\overline{\\sigma}$ is the von Mises equivalent stress (Lemaitre and Chaboche, 2002). Moreover, $T^{\\textrm{ref}}$ is a reference temperature (usually the temperature at the beginning of the analysis). Finally, $\\delta_{ij}$ denotes the \n",
    "\n",
    "In SMART+ the elastoplastic material constitutive law is implemented using a *return mapping algorithm*. The updated stress is provided for 1D, plane stress, and generalized plane strain/3D analysis according to the forms of elastic isotropic materials.\n",
    "\n",
    "As a start we should input the name of the UMAT as well as the list of parameters"
   ]
  },
  {
   "cell_type": "code",
   "execution_count": 6,
   "metadata": {
    "collapsed": false
   },
   "outputs": [
    {
     "data": {
      "image/png": "[encoded data removed]",
      "text/plain": [
       "<matplotlib.figure.Figure at 0x111389c10>"
      ]
     },
     "metadata": {},
     "output_type": "display_data"
    }
   ],
   "source": [
    "umat_name = 'EPKCP' #This is the 5 character code for the elastic-plastic subroutine\n",
    "nstatev = 14 #The number of scalar variables required, only the initial temperature is stored here\n",
    "\n",
    "rho = 1.12 #The density of the material \n",
    "c_p = 1.64 #The specific heat capacity\n",
    "\n",
    "E = 70000.\n",
    "nu = 0.3\n",
    "alpha = 1.E-5\n",
    "sigma_Y = 200\n",
    "H = 150\n",
    "beta = 0.3\n",
    "k_kin = 2000.0\n",
    "\n",
    "psi_rve = 0.\n",
    "theta_rve = 0.\n",
    "phi_rve = 0.\n",
    "\n",
    "props = np.array([E, nu, alpha, sigma_Y, H, beta, k_kin])\n",
    "\n",
    "dir = os.path.dirname(os.path.realpath('__file__'))\n",
    "pathfile = dir + '/path_1.txt'\n",
    "outputfile_1 = dir + '/results_EPKCP_1.txt'\n",
    "sim.solver(umat_name, props, nstatev, psi_rve, theta_rve, phi_rve, rho, c_p, pathfile, outputfile_1)\n",
    "outputfile_1 = dir + '/results_EPKCP_1_global-0.txt'\n",
    "\n",
    "pathfile = dir + '/path_2.txt'\n",
    "outputfile_2 = dir + '/results_EPKCP_2.txt'\n",
    "sim.solver(umat_name, props, nstatev, psi_rve, theta_rve, phi_rve, rho, c_p, pathfile, outputfile_2)\n",
    "outputfile_2 = dir + '/results_EPKCP_2_global-0.txt'\n",
    "\n",
    "pathfile = dir + '/path_3.txt'\n",
    "outputfile_3 = dir + '/results_EPKCP_3.txt'\n",
    "sim.solver(umat_name, props, nstatev, psi_rve, theta_rve, phi_rve, rho, c_p, pathfile, outputfile_3)\n",
    "outputfile_3 = dir + '/results_EPKCP_3_global-0.txt'\n",
    "\n",
    "fig = plt.figure()\n",
    "pylab.rcParams['figure.figsize'] = (24.0, 5.0) #configure the figure output size\n",
    "\n",
    "ax = fig.add_subplot(1, 3, 1)\n",
    "\n",
    "e11, e22, e33, e12, e13, e23, s11, s22, s33, s12, s13, s23 = np.loadtxt(outputfile_1, usecols=(8,9,10,11,12,13,14,15,16,17,18,19), unpack=True)\n",
    "\n",
    "plt.grid(True)\n",
    "plt.tick_params(axis='both', which='major', labelsize=15)\n",
    "plt.xlabel('Strain', size = 15)\n",
    "plt.ylabel('Stress (MPa)', size = 15)\n",
    "plt.plot(e11,s11, c='black', label='direction 1')\n",
    "plt.legend(loc=2)\n",
    "\n",
    "ax = fig.add_subplot(1, 3, 2)\n",
    "\n",
    "e11, e22, e33, e12, e13, e23, s11, s22, s33, s12, s13, s23 = np.loadtxt(outputfile_2, usecols=(8,9,10,11,12,13,14,15,16,17,18,19), unpack=True)\n",
    "\n",
    "plt.grid(True)\n",
    "plt.tick_params(axis='both', which='major', labelsize=15)\n",
    "plt.xlabel('Shear strain', size = 15)\n",
    "plt.ylabel('Shear stress (MPa)',size = 15)\n",
    "plt.plot(e12,s12, c='black', label='direction 1')\n",
    "plt.legend(loc=2)\n",
    "\n",
    "ax = fig.add_subplot(1, 3, 3)\n",
    "\n",
    "e11, e22, e33, e12, e13, e23, s11, s22, s33, s12, s13, s23 = np.loadtxt(outputfile_3, usecols=(8,9,10,11,12,13,14,15,16,17,18,19), unpack=True)\n",
    "\n",
    "plt.grid(True)\n",
    "plt.tick_params(axis='both', which='major', labelsize=15)\n",
    "plt.xlabel('Strain', size = 15)\n",
    "plt.ylabel('Stress (MPa)',size = 15)\n",
    "plt.plot(e11,s11, c='black', label='direction 1')\n",
    "plt.legend(loc=2)\n",
    "\n",
    "plt.show()"
   ]
  },
  {
   "cell_type": "markdown",
   "metadata": {
    "collapsed": false
   },
   "source": [
    "Quick verification, we can find the uniaxial stress-strain explicitely and compare it with the previous results, for the case 1"
   ]
  },
  {
   "cell_type": "code",
   "execution_count": 30,
   "metadata": {
    "collapsed": false
   },
   "outputs": [
    {
     "name": "stdout",
     "output_type": "stream",
     "text": [
      "70000.0\n",
      "0.3\n"
     ]
    }
   ],
   "source": [
    "sigma_verif = np.amax(s11)\n",
    "eps_verif1 = np.amax(e11)\n",
    "\n",
    "E_verif = sigma_verif/eps_verif1\n",
    "nu_verif = -eps_verif2/eps_verif1\n",
    "\n",
    "print(E_verif)\n",
    "print(nu_verif)"
   ]
  },
  {
   "cell_type": "markdown",
   "metadata": {},
   "source": []
  }
 ],
 "metadata": {
  "kernelspec": {
   "display_name": "Python 2",
   "language": "python",
   "name": "python2"
  },
  "language_info": {
   "codemirror_mode": {
    "name": "ipython",
    "version": 2
   },
   "file_extension": ".py",
   "mimetype": "text/x-python",
   "name": "python",
   "nbconvert_exporter": "python",
   "pygments_lexer": "ipython2",
   "version": "2.7.11"
  }
 },
 "nbformat": 4,
 "nbformat_minor": 0
}
