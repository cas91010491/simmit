{
 "cells": [
  {
   "cell_type": "markdown",
   "metadata": {},
   "source": [
    "# Composites simulation :  perform parametric analyses"
   ]
  },
  {
   "cell_type": "code",
   "execution_count": 1,
   "metadata": {
    "collapsed": false
   },
   "outputs": [],
   "source": [
    "%matplotlib inline\n",
    "\n",
    "import numpy as np\n",
    "import pandas as pd\n",
    "import matplotlib.pyplot as plt\n",
    "from simmit import smartplus as sim\n",
    "from simmit import identify as iden\n",
    "import os\n",
    "import itertools\n",
    "\n",
    "dir = os.path.dirname(os.path.realpath('__file__'))"
   ]
  },
  {
   "cell_type": "markdown",
   "metadata": {},
   "source": [
    "We need to import here the data, modify them if needed and proceed"
   ]
  },
  {
   "cell_type": "code",
   "execution_count": 2,
   "metadata": {
    "collapsed": false
   },
   "outputs": [
    {
     "data": {
      "text/html": [
       "<div>\n",
       "<table border=\"1\" class=\"dataframe\">\n",
       "  <thead>\n",
       "    <tr style=\"text-align: right;\">\n",
       "      <th></th>\n",
       "      <th>Number</th>\n",
       "      <th>Coatingof</th>\n",
       "      <th>umat</th>\n",
       "      <th>save</th>\n",
       "      <th>c</th>\n",
       "      <th>psi_mat</th>\n",
       "      <th>theta_mat</th>\n",
       "      <th>phi_mat</th>\n",
       "      <th>a1</th>\n",
       "      <th>a2</th>\n",
       "      <th>a3</th>\n",
       "      <th>psi_geom</th>\n",
       "      <th>theta_geom</th>\n",
       "      <th>phi_geom</th>\n",
       "      <th>nprops</th>\n",
       "      <th>nstatev</th>\n",
       "      <th>props</th>\n",
       "    </tr>\n",
       "  </thead>\n",
       "  <tbody>\n",
       "    <tr>\n",
       "      <th>0</th>\n",
       "      <td>0</td>\n",
       "      <td>0</td>\n",
       "      <td>ELISO</td>\n",
       "      <td>1</td>\n",
       "      <td>@2p</td>\n",
       "      <td>0.</td>\n",
       "      <td>0.0</td>\n",
       "      <td>0.0</td>\n",
       "      <td>1</td>\n",
       "      <td>1</td>\n",
       "      <td>1</td>\n",
       "      <td>0.</td>\n",
       "      <td>0.0</td>\n",
       "      <td>0.0</td>\n",
       "      <td>3</td>\n",
       "      <td>1</td>\n",
       "      <td>3450</td>\n",
       "    </tr>\n",
       "    <tr>\n",
       "      <th>1</th>\n",
       "      <td>1</td>\n",
       "      <td>0</td>\n",
       "      <td>ELISO</td>\n",
       "      <td>1</td>\n",
       "      <td>@3p</td>\n",
       "      <td>@0p</td>\n",
       "      <td>0.0</td>\n",
       "      <td>0.0</td>\n",
       "      <td>@1p</td>\n",
       "      <td>1</td>\n",
       "      <td>1</td>\n",
       "      <td>@0p</td>\n",
       "      <td>0.0</td>\n",
       "      <td>0.0</td>\n",
       "      <td>3</td>\n",
       "      <td>1</td>\n",
       "      <td>73000</td>\n",
       "    </tr>\n",
       "  </tbody>\n",
       "</table>\n",
       "</div>"
      ],
      "text/plain": [
       "   Number  Coatingof   umat  save    c psi_mat  theta_mat  phi_mat   a1  a2  \\\n",
       "0       0          0  ELISO     1  @2p      0.        0.0      0.0    1   1   \n",
       "1       1          0  ELISO     1  @3p     @0p        0.0      0.0  @1p   1   \n",
       "\n",
       "   a3 psi_geom  theta_geom  phi_geom  nprops  nstatev  props  \n",
       "0   1       0.         0.0       0.0       3        1   3450  \n",
       "1   1      @0p         0.0       0.0       3        1  73000  "
      ]
     },
     "execution_count": 2,
     "metadata": {},
     "output_type": "execute_result"
    }
   ],
   "source": [
    "umat_name = 'MIMTN' #This is the 5 character code for the Mori-Tanaka homogenization for composites with a matrix and ellipsoidal reinforcments\n",
    "nstatev = 0\n",
    "\n",
    "nphases = 2 #The number of phases\n",
    "num_file = 0 #The num of the file that contains the subphases\n",
    "int1 = 50\n",
    "int2 = 50\n",
    "n_matrix = 0\n",
    "\n",
    "props = np.array([nphases, num_file, int1, int2, n_matrix])\n",
    "\n",
    "NPhases_file = dir + '/keys/Nellipsoids0.dat'\n",
    "NPhases = pd.read_csv(NPhases_file, delimiter=r'\\s+', index_col=False, engine='python')\n",
    "NPhases[::]\n"
   ]
  },
  {
   "cell_type": "code",
   "execution_count": 3,
   "metadata": {
    "collapsed": false,
    "scrolled": true
   },
   "outputs": [
    {
     "data": {
      "image/png": "[encoded data removed]",
      "text/plain": [
       "<matplotlib.figure.Figure at 0x10c0c9210>"
      ]
     },
     "metadata": {},
     "output_type": "display_data"
    }
   ],
   "source": [
    "path_data = dir + '/data'\n",
    "path_keys = dir + '/keys'\n",
    "pathfile = 'path.txt'\n",
    "outputfile = 'results_PLN.txt'\n",
    "\n",
    "nparams = 4\n",
    "\n",
    "param_list = iden.read_parameters(nparams)\n",
    "\n",
    "psi_rve = 0.\n",
    "theta_rve = 0.\n",
    "phi_rve = 0.\n",
    "\n",
    "alpha = np.arange(0.,91.,1)\n",
    "param_list[1].value = 100 \n",
    "param_list[2].value = 0.4 \n",
    "param_list[3].value = 1.0 - param_list[2].value\n",
    "\n",
    "E_L = np.zeros(len(alpha))\n",
    "fig = plt.figure()\n",
    "\n",
    "umat_name = 'MIMTN' #This is the 5 character code for the Mori-Tanaka homogenization for composites with a matrix and ellipsoidal reinforcments\n",
    "for i, x in enumerate (alpha):\n",
    " \n",
    "    param_list[0].value = x\n",
    "    \n",
    "    iden.copy_parameters(param_list, path_keys, path_data)\n",
    "    iden.apply_parameters(param_list, path_data)\n",
    "\n",
    "    L = sim.L_eff(umat_name, props, nstatev, psi_rve, theta_rve, phi_rve, path_data)\n",
    "    p = sim.L_ortho_props(L)\n",
    "    E_L[i] = p[0]\n",
    "\n",
    "\n",
    "plt.plot(alpha,E_L, c='black')\n",
    "np.savetxt('E_L-angle_MT.txt', np.transpose([alpha,E_L]), fmt='%1.8e')\n",
    "\n",
    "umat_name = 'MISCN' #This is the 5 character code for the Mori-Tanaka homogenization for composites with a matrix and ellipsoidal reinforcments\n",
    "for i, x in enumerate (alpha):\n",
    " \n",
    "    param_list[0].value = x\n",
    "    \n",
    "    iden.copy_parameters(param_list, path_keys, path_data)\n",
    "    iden.apply_parameters(param_list, path_data)\n",
    "\n",
    "    L = sim.L_eff(umat_name, props, nstatev, psi_rve, theta_rve, phi_rve, path_data)\n",
    "    p = sim.L_ortho_props(L)\n",
    "    E_L[i] = p[0]\n",
    "\n",
    "\n",
    "plt.plot(alpha,E_L, c='red')\n",
    "np.savetxt('E_L-angle_SC.txt', np.transpose([alpha,E_L]), fmt='%1.8e')\n",
    "\n",
    "\n",
    "plt.show()"
   ]
  },
  {
   "cell_type": "markdown",
   "metadata": {
    "collapsed": false
   },
   "source": [
    "Now let's study the evolution of the concentration"
   ]
  },
  {
   "cell_type": "code",
   "execution_count": 4,
   "metadata": {
    "collapsed": false
   },
   "outputs": [
    {
     "data": {
      "image/png": "[encoded data removed]",
      "text/plain": [
       "<matplotlib.figure.Figure at 0x10c206b10>"
      ]
     },
     "metadata": {},
     "output_type": "display_data"
    }
   ],
   "source": [
    "param_list[0].value = 0.0\n",
    "param_list[1].value = 100\n",
    "\n",
    "c = np.arange(0.,1.01,0.01)\n",
    "E_L = np.zeros(len(c))\n",
    "E_T = np.zeros(len(c))\n",
    "\n",
    "umat_name = 'MIMTN' #This is the 5 character code for the Mori-Tanaka homogenization for composites with a matrix and ellipsoidal reinforcments\n",
    "for i, x in enumerate (c):\n",
    " \n",
    "    param_list[3].value = x\n",
    "    param_list[2].value = 1.0 - param_list[3].value \n",
    "    \n",
    "    iden.copy_parameters(param_list, path_keys, path_data)\n",
    "    iden.apply_parameters(param_list, path_data)\n",
    "\n",
    "    L = sim.L_eff(umat_name, props, nstatev, psi_rve, theta_rve, phi_rve, path_data)\n",
    "    p = sim.L_ortho_props(L)\n",
    "    E_L[i] = p[0]\n",
    "    E_T[i] = p[1]   \n",
    "\n",
    "fig = plt.figure()\n",
    "np.savetxt('E-concentration_MT.txt', np.transpose([c,E_L,E_T]), fmt='%1.8e')\n",
    "plt.plot(c,E_L, c='black')\n",
    "plt.plot(c,E_T, c='black', label='Mori-Tanaka')\n",
    "\n",
    "umat_name = 'MISCN' #This is the 5 character code for the Mori-Tanaka homogenization for composites with a matrix and ellipsoidal reinforcments\n",
    "for i, x in enumerate (c):\n",
    " \n",
    "    param_list[3].value = x\n",
    "    param_list[2].value = 1.0 - param_list[3].value \n",
    "    \n",
    "    iden.copy_parameters(param_list, path_keys, path_data)\n",
    "    iden.apply_parameters(param_list, path_data)\n",
    "\n",
    "    L = sim.L_eff(umat_name, props, nstatev, psi_rve, theta_rve, phi_rve, path_data)\n",
    "    p = sim.L_ortho_props(L)\n",
    "    E_L[i] = p[0]\n",
    "    E_T[i] = p[1]   \n",
    "    \n",
    "np.savetxt('E-concentration_SC.txt', np.transpose([c,E_L,E_T]), fmt='%1.8e')\n",
    "plt.plot(c,E_L, c='red')\n",
    "plt.plot(c,E_T, c='red', label='self-consistent')\n",
    "plt.xlabel('volume fraction $c$', size=12)\n",
    "plt.ylabel('Young modulus', size=12) \n",
    "\n",
    "plt.show()\n"
   ]
  },
  {
   "cell_type": "code",
   "execution_count": null,
   "metadata": {
    "collapsed": true
   },
   "outputs": [],
   "source": []
  }
 ],
 "metadata": {
  "kernelspec": {
   "display_name": "Python 2",
   "language": "python",
   "name": "python2"
  },
  "language_info": {
   "codemirror_mode": {
    "name": "ipython",
    "version": 2
   },
   "file_extension": ".py",
   "mimetype": "text/x-python",
   "name": "python",
   "nbconvert_exporter": "python",
   "pygments_lexer": "ipython2",
   "version": "2.7.11"
  }
 },
 "nbformat": 4,
 "nbformat_minor": 0
}
