{
 "cells": [
  {
   "cell_type": "markdown",
   "metadata": {},
   "source": [
    "# Mechanical properties of composites using Micromechanics"
   ]
  },
  {
   "cell_type": "code",
   "execution_count": 1,
   "metadata": {
    "collapsed": false
   },
   "outputs": [],
   "source": [
    "%matplotlib inline\n",
    "\n",
    "import numpy as np\n",
    "from numpy.linalg import inv\n",
    "import pandas as pd\n",
    "import matplotlib.pyplot as plt\n",
    "from simmit import smartplus as sim\n",
    "from simmit import identify as iden\n",
    "import os\n",
    "import itertools\n",
    "\n",
    "dir = os.path.dirname(os.path.realpath('__file__'))"
   ]
  },
  {
   "cell_type": "markdown",
   "metadata": {},
   "source": [
    "## Problem 1:\n",
    "\n",
    "Consider a 2-phase composite, with an Al matrix containing Al2O3 spherical inhomogeneities, with the following elastic constants for each phase:\n",
    "\n",
    "$E_{Al} = 70000 \\quad \\nu_{Al} = 0.33$\n",
    "\n",
    "$E_{Al2O3} = 370000 \\quad \\nu_{Al2O3} = 0.22$\n",
    "\n",
    "The volume fraction of the Alumina phase is 0.1\n",
    "\n",
    "1. Determine the components of the strain concentration (localization) tensor for the Alumina phase, according to the Mori-Tanaka approximation.\n",
    "2. Determine the components of the effective elastic stiffness tensor of the composite, using the Mori-Tanaka approximation.\n",
    "3. Deduce the effective Young modulus and the effective Poisson ratio\n"
   ]
  },
  {
   "cell_type": "markdown",
   "metadata": {},
   "source": [
    "### Preliminaries"
   ]
  },
  {
   "cell_type": "code",
   "execution_count": 2,
   "metadata": {
    "collapsed": false,
    "scrolled": true
   },
   "outputs": [],
   "source": []
  },
  {
   "cell_type": "markdown",
   "metadata": {
    "collapsed": false
   },
   "source": [
    "### Answer to question 1"
   ]
  },
  {
   "cell_type": "code",
   "execution_count": 16,
   "metadata": {
    "collapsed": false,
    "scrolled": true
   },
   "outputs": [
    {
     "name": "stdout",
     "output_type": "stream",
     "text": [
      "[[ 0.3658  0.033   0.033   0.      0.      0.    ]\n",
      " [ 0.033   0.3658  0.033   0.      0.      0.    ]\n",
      " [ 0.033   0.033   0.3658  0.      0.      0.    ]\n",
      " [ 0.      0.      0.      0.3328  0.      0.    ]\n",
      " [ 0.      0.      0.      0.      0.3328  0.    ]\n",
      " [ 0.      0.      0.      0.      0.      0.3328]]\n"
     ]
    }
   ],
   "source": []
  },
  {
   "cell_type": "markdown",
   "metadata": {
    "collapsed": false
   },
   "source": [
    "### Answer to question 2"
   ]
  },
  {
   "cell_type": "code",
   "execution_count": 41,
   "metadata": {
    "collapsed": false
   },
   "outputs": [
    {
     "name": "stdout",
     "output_type": "stream",
     "text": [
      "[[ 115824.2    54850.04   54850.04       0.         0.         0.  ]\n",
      " [  54850.04  115824.2    54850.04       0.         0.         0.  ]\n",
      " [  54850.04   54850.04  115824.2        0.         0.         0.  ]\n",
      " [      0.         0.         0.     30487.08       0.         0.  ]\n",
      " [      0.         0.         0.         0.     30487.08       0.  ]\n",
      " [      0.         0.         0.         0.         0.     30487.08]]\n"
     ]
    }
   ],
   "source": []
  },
  {
   "cell_type": "markdown",
   "metadata": {},
   "source": [
    "### Answer to question 3"
   ]
  },
  {
   "cell_type": "code",
   "execution_count": 30,
   "metadata": {
    "collapsed": false
   },
   "outputs": [
    {
     "name": "stdout",
     "output_type": "stream",
     "text": [
      "[  8.05695979e+04   3.21372670e-01]\n",
      "Young modulus ="
     ]
    },
    {
     "name": "stderr",
     "output_type": "stream",
     "text": [
      "/usr/local/lib/python2.7/site-packages/ipykernel/__main__.py:3: DeprecationWarning: using a non-integer number instead of an integer will result in an error in the future\n",
      "  app.launch_new_instance()\n"
     ]
    },
    {
     "ename": "IndexError",
     "evalue": "only integers, slices (`:`), ellipsis (`...`), numpy.newaxis (`None`) and integer or boolean arrays are valid indices",
     "output_type": "error",
     "traceback": [
      "\u001b[0;31m---------------------------------------------------------------------------\u001b[0m",
      "\u001b[0;31mIndexError\u001b[0m                                Traceback (most recent call last)",
      "\u001b[0;32m<ipython-input-30-6e586685476b>\u001b[0m in \u001b[0;36m<module>\u001b[0;34m()\u001b[0m\n\u001b[1;32m      1\u001b[0m \u001b[0md\u001b[0m \u001b[0;34m=\u001b[0m \u001b[0msim\u001b[0m\u001b[0;34m.\u001b[0m\u001b[0mL_iso_props\u001b[0m\u001b[0;34m(\u001b[0m\u001b[0mL_eff\u001b[0m\u001b[0;34m)\u001b[0m\u001b[0;34m\u001b[0m\u001b[0m\n\u001b[1;32m      2\u001b[0m \u001b[0;32mprint\u001b[0m \u001b[0md\u001b[0m\u001b[0;34m\u001b[0m\u001b[0m\n\u001b[0;32m----> 3\u001b[0;31m \u001b[0;32mprint\u001b[0m \u001b[0;34m'Young modulus ='\u001b[0m\u001b[0;34m,\u001b[0m\u001b[0md\u001b[0m\u001b[0;34m[\u001b[0m\u001b[0;34m'props'\u001b[0m\u001b[0;34m]\u001b[0m\u001b[0;34m[\u001b[0m\u001b[0;36m0\u001b[0m\u001b[0;34m]\u001b[0m\u001b[0;34m\u001b[0m\u001b[0m\n\u001b[0m\u001b[1;32m      4\u001b[0m \u001b[0;32mprint\u001b[0m \u001b[0;34m'Poisson ratio ='\u001b[0m\u001b[0;34m,\u001b[0m\u001b[0md\u001b[0m\u001b[0;34m[\u001b[0m\u001b[0;34m'props'\u001b[0m\u001b[0;34m]\u001b[0m\u001b[0;34m[\u001b[0m\u001b[0;36m1\u001b[0m\u001b[0;34m]\u001b[0m\u001b[0;34m\u001b[0m\u001b[0m\n",
      "\u001b[0;31mIndexError\u001b[0m: only integers, slices (`:`), ellipsis (`...`), numpy.newaxis (`None`) and integer or boolean arrays are valid indices"
     ]
    }
   ],
   "source": []
  },
  {
   "cell_type": "markdown",
   "metadata": {},
   "source": [
    "## Validation using simmit"
   ]
  },
  {
   "cell_type": "code",
   "execution_count": 47,
   "metadata": {
    "collapsed": false
   },
   "outputs": [
    {
     "name": "stdout",
     "output_type": "stream",
     "text": [
      "[[  1.158e+05   5.485e+04   5.485e+04   1.893e-13   1.162e-14  -3.746e-15]\n",
      " [  5.485e+04   1.158e+05   5.485e+04  -1.493e-13   8.909e-15  -1.643e-14]\n",
      " [  5.485e+04   5.485e+04   1.158e+05   7.467e-15   2.057e-14   8.852e-15]\n",
      " [  1.893e-13  -1.493e-13   7.467e-15   3.049e+04   3.454e-15  -4.330e-16]\n",
      " [  1.162e-14   8.909e-15   2.057e-14   3.454e-15   3.049e+04   6.207e-15]\n",
      " [ -3.746e-15  -1.643e-14   8.852e-15  -4.330e-16   6.207e-15   3.049e+04]]\n",
      "80569.5979292\n",
      "0.321372670019\n"
     ]
    }
   ],
   "source": [
    "path_data = dir + '/data'\n",
    "nstatev = 0\n",
    "\n",
    "psi_rve = 0.\n",
    "theta_rve = 0.\n",
    "phi_rve = 0.\n",
    "\n",
    "umat_name = 'MIMTN'\n",
    "#Props\n",
    "nphases = 2 #The number of phases\n",
    "num_file = 0 #The num of the file that contains the subphases\n",
    "int1 = 50\n",
    "int2 = 50\n",
    "n_matrix = 0\n",
    "\n",
    "props = np.array([nphases, num_file, int1, int2, n_matrix])\n",
    "L_eff = sim.L_eff(umat_name, props, nstatev, psi_rve, theta_rve, phi_rve, path_data)\n",
    "print np.array_str(L_eff, precision=3)\n",
    "d = sim.L_iso_props(L_eff)\n",
    "print d[0]\n",
    "print d[1]"
   ]
  },
  {
   "cell_type": "code",
   "execution_count": null,
   "metadata": {
    "collapsed": true
   },
   "outputs": [],
   "source": []
  }
 ],
 "metadata": {
  "kernelspec": {
   "display_name": "Python 2",
   "language": "python",
   "name": "python2"
  },
  "language_info": {
   "codemirror_mode": {
    "name": "ipython",
    "version": 2
   },
   "file_extension": ".py",
   "mimetype": "text/x-python",
   "name": "python",
   "nbconvert_exporter": "python",
   "pygments_lexer": "ipython2",
   "version": "2.7.11"
  }
 },
 "nbformat": 4,
 "nbformat_minor": 0
}
