{
 "cells": [
  {
   "cell_type": "markdown",
   "metadata": {},
   "source": [
    "# constitutive : The Constitutive Library"
   ]
  },
  {
   "cell_type": "code",
   "execution_count": 1,
   "metadata": {
    "collapsed": false
   },
   "outputs": [],
   "source": [
    "%matplotlib inline\n",
    "\n",
    "import numpy as np\n",
    "import matplotlib.pyplot as plt\n",
    "from simmit import smartplus as sim\n",
    "import os"
   ]
  },
  {
   "cell_type": "markdown",
   "metadata": {},
   "source": [
    "## L_iso\n",
    "\n",
    "Provides the elastic stiffness tensor for an isotropic material.\n",
    "The two first arguments are a couple of elastic properties. The third argument specifies which couple has been provided and the nature and order of coefficients.\n",
    "Exhaustive list of possible third argument :\n",
    "‘Enu’,’nuE,’Kmu’,’muK’, ‘KG’, ‘GK’, ‘lambdamu’, ‘mulambda’, ‘lambdaG’, ‘Glambda’.\n",
    "Return a numpy ndarray.\n",
    "Example :"
   ]
  },
  {
   "cell_type": "code",
   "execution_count": 2,
   "metadata": {
    "collapsed": false
   },
   "outputs": [
    {
     "name": "stdout",
     "output_type": "stream",
     "text": [
      "[[ 94230.7692  40384.6154  40384.6154      0.          0.          0.    ]\n",
      " [ 40384.6154  94230.7692  40384.6154      0.          0.          0.    ]\n",
      " [ 40384.6154  40384.6154  94230.7692      0.          0.          0.    ]\n",
      " [     0.          0.          0.      26923.0769      0.          0.    ]\n",
      " [     0.          0.          0.          0.      26923.0769      0.    ]\n",
      " [     0.          0.          0.          0.          0.      26923.0769]]\n",
      "ELISO\n",
      "[  7.00000000e+04   3.00000000e-01]\n",
      "[  7.00000000e+04   3.00000000e-01]\n"
     ]
    }
   ],
   "source": [
    "E = 70000.0\n",
    "nu = 0.3\n",
    "L = sim.L_iso(E,nu,\"Enu\")\n",
    "print np.array_str(L, precision=4, suppress_small=True)\n",
    "\n",
    "d = sim.check_symetries(L)\n",
    "print(d['umat_type'])\n",
    "print(d['props'])\n",
    "\n",
    "x = sim.L_iso_props(L)\n",
    "print(x)"
   ]
  },
  {
   "cell_type": "markdown",
   "metadata": {},
   "source": [
    "## M_iso\n",
    "\n",
    "Provides the elastic compliance tensor for an isotropic material.\n",
    "The two first arguments are a couple of elastic properties. The third argument specify which couple has been provided and the nature and order of coefficients.\n",
    "Exhaustive list of possible third argument :\n",
    "‘Enu’,’nuE,’Kmu’,’muK’, ‘KG’, ‘GK’, ‘lambdamu’, ‘mulambda’, ‘lambdaG’, ‘Glambda’."
   ]
  },
  {
   "cell_type": "code",
   "execution_count": 3,
   "metadata": {
    "collapsed": false,
    "scrolled": true
   },
   "outputs": [
    {
     "name": "stdout",
     "output_type": "stream",
     "text": [
      "[[  1.43e-05  -4.29e-06  -4.29e-06   0.00e+00   0.00e+00   0.00e+00]\n",
      " [ -4.29e-06   1.43e-05  -4.29e-06   0.00e+00   0.00e+00   0.00e+00]\n",
      " [ -4.29e-06  -4.29e-06   1.43e-05   0.00e+00   0.00e+00   0.00e+00]\n",
      " [  0.00e+00   0.00e+00   0.00e+00   3.71e-05   0.00e+00   0.00e+00]\n",
      " [  0.00e+00   0.00e+00   0.00e+00   0.00e+00   3.71e-05   0.00e+00]\n",
      " [  0.00e+00   0.00e+00   0.00e+00   0.00e+00   0.00e+00   3.71e-05]]\n",
      "ELISO\n",
      "[  7.00000000e+04   3.00000000e-01]\n",
      "[  7.00000000e+04   3.00000000e-01]\n"
     ]
    }
   ],
   "source": [
    "E = 70000.0\n",
    "nu = 0.3\n",
    "M = sim.M_iso(E,nu,\"Enu\")\n",
    "print np.array_str(M, precision=2)\n",
    "\n",
    "L_inv = np.linalg.inv(M)\n",
    "d = sim.check_symetries(L_inv)\n",
    "print(d['umat_type'])\n",
    "print(d['props'])\n",
    "\n",
    "x = sim.M_iso_props(M)\n",
    "print(x)\n"
   ]
  },
  {
   "cell_type": "markdown",
   "metadata": {},
   "source": [
    "## L_cubic\n",
    "\n",
    "Provides the elastic stiffness tensor for a cubic material. Arguments are the stiffness coefficients C11, C12 and C44, or the elastic constants E, nu, G\n",
    "Exhaustive list of possible third argument : ‘Cii’,’EnuG, the by-default argument is 'Cii'"
   ]
  },
  {
   "cell_type": "code",
   "execution_count": 4,
   "metadata": {
    "collapsed": false
   },
   "outputs": [
    {
     "name": "stdout",
     "output_type": "stream",
     "text": [
      "[[ 94230.77  40384.62  40384.62      0.        0.        0.  ]\n",
      " [ 40384.62  94230.77  40384.62      0.        0.        0.  ]\n",
      " [ 40384.62  40384.62  94230.77      0.        0.        0.  ]\n",
      " [     0.        0.        0.    23000.        0.        0.  ]\n",
      " [     0.        0.        0.        0.    23000.        0.  ]\n",
      " [     0.        0.        0.        0.        0.    23000.  ]]\n",
      "ELCUB\n",
      "[  7.00000000e+04   3.00000000e-01   2.30000000e+04]\n",
      "[  7.00000000e+04   3.00000000e-01   2.30000000e+04]\n"
     ]
    }
   ],
   "source": [
    "E = 70000.0\n",
    "nu = 0.3\n",
    "G = 23000.0\n",
    "L = sim.L_cubic(E,nu,G,\"EnuG\")\n",
    "print np.array_str(L, precision=2)\n",
    "\n",
    "d = sim.check_symetries(L)\n",
    "print(d['umat_type'])\n",
    "print(d['props'])\n",
    "\n",
    "x = sim.L_cubic_props(L)\n",
    "print(x)\n"
   ]
  },
  {
   "cell_type": "markdown",
   "metadata": {},
   "source": [
    "## M_cubic\n",
    "\n",
    "Provides the elastic compliance tensor for a cubic material. Arguments are the stiffness coefficients C11, C12 and C44, or the elastic constants E, nu, G\n",
    "Exhaustive list of possible third argument : ‘Cii’,’EnuG, the by-default argument is 'Cii'"
   ]
  },
  {
   "cell_type": "code",
   "execution_count": 5,
   "metadata": {
    "collapsed": false
   },
   "outputs": [
    {
     "name": "stdout",
     "output_type": "stream",
     "text": [
      "[[  1.43e-05  -4.29e-06  -4.29e-06   0.00e+00   0.00e+00   0.00e+00]\n",
      " [ -4.29e-06   1.43e-05  -4.29e-06   0.00e+00   0.00e+00   0.00e+00]\n",
      " [ -4.29e-06  -4.29e-06   1.43e-05   0.00e+00   0.00e+00   0.00e+00]\n",
      " [  0.00e+00   0.00e+00   0.00e+00   4.35e-05   0.00e+00   0.00e+00]\n",
      " [  0.00e+00   0.00e+00   0.00e+00   0.00e+00   4.35e-05   0.00e+00]\n",
      " [  0.00e+00   0.00e+00   0.00e+00   0.00e+00   0.00e+00   4.35e-05]]\n",
      "ELCUB\n",
      "[  7.00000000e+04   3.00000000e-01   2.30000000e+04]\n",
      "[  7.00000000e+04   3.00000000e-01   2.30000000e+04]\n"
     ]
    }
   ],
   "source": [
    "E = 70000.0\n",
    "nu = 0.3\n",
    "G = 23000.0\n",
    "M = sim.M_cubic(E,nu,G,\"EnuG\")\n",
    "print np.array_str(M, precision=2)\n",
    "\n",
    "L = np.linalg.inv(M)\n",
    "d = sim.check_symetries(L)\n",
    "print(d['umat_type'])\n",
    "print(d['props'])\n",
    "\n",
    "x = sim.L_cubic_props(L)\n",
    "print(x)"
   ]
  },
  {
   "cell_type": "markdown",
   "metadata": {},
   "source": [
    "## L_isotrans\n",
    "\n",
    "Provides the elastic stiffness tensor for an isotropic transverse material.\n",
    "Arguments are longitudinal Young modulus EL, transverse young modulus, Poisson’s ratio for loading along the longitudinal axis nuTL, Poisson’s ratio for loading along the transverse axis nuTT, shear modulus GLT and the axis of symmetry."
   ]
  },
  {
   "cell_type": "code",
   "execution_count": 6,
   "metadata": {
    "collapsed": false
   },
   "outputs": [
    {
     "name": "stdout",
     "output_type": "stream",
     "text": [
      "[[ 22954.82   7570.21   8547.01      0.        0.        0.  ]\n",
      " [  7570.21  22954.82   8547.01      0.        0.        0.  ]\n",
      " [  8547.01   8547.01  74786.32      0.        0.        0.  ]\n",
      " [     0.        0.        0.     7692.31      0.        0.  ]\n",
      " [     0.        0.        0.        0.    12000.        0.  ]\n",
      " [     0.        0.        0.        0.        0.    12000.  ]]\n",
      "ELIST\n",
      "3\n",
      "[  7.00e+04   2.00e+04   8.00e-02   3.00e-01   1.20e+04]\n",
      "[  7.00e+04   2.00e+04   8.00e-02   3.00e-01   1.20e+04]\n"
     ]
    }
   ],
   "source": [
    "EL = 70000.0\n",
    "ET = 20000.0\n",
    "nuTL = 0.08\n",
    "nuTT = 0.3\n",
    "GLT = 12000.0\n",
    "axis = 3\n",
    "L = sim.L_isotrans(EL,ET,nuTL,nuTT,GLT,axis)\n",
    "print np.array_str(L, precision=2)\n",
    "\n",
    "d = sim.check_symetries(L)\n",
    "print(d['umat_type'])\n",
    "print(d['axis'])\n",
    "print np.array_str(d['props'], precision=2)\n",
    "\n",
    "x = sim.L_isotrans_props(L,axis)\n",
    "print np.array_str(x, precision=2)"
   ]
  },
  {
   "cell_type": "markdown",
   "metadata": {},
   "source": [
    "    bp::def(\"L_iso\", L_iso);\n",
    "    bp::def(\"M_iso\", M_iso);\n",
    "    bp::def(\"L_cubic\", L_cubic);\n",
    "    bp::def(\"M_cubic\", M_cubic);\n",
    "    bp::def(\"L_ortho\", L_ortho);\n",
    "    bp::def(\"M_ortho\", M_ortho);\n",
    "    bp::def(\"L_isotrans\", L_isotrans);\n",
    "    bp::def(\"M_isotrans\", M_isotrans);\n",
    "    \n",
    "    bp::def(\"check_symetries\", check_symetries);\n",
    "    bp::def(\"L_iso_props\", L_iso_props);\n",
    "    bp::def(\"M_iso_props\", M_iso_props);\n",
    "    bp::def(\"L_isotrans_props\", L_isotrans_props);\n",
    "    bp::def(\"M_isotrans_props\", M_isotrans_props);\n",
    "    bp::def(\"L_cubic_props\", L_cubic_props);\n",
    "    bp::def(\"M_cubic_props\", M_cubic_props);\n",
    "    bp::def(\"L_ortho_props\", L_ortho_props);\n",
    "    bp::def(\"M_ortho_props\", M_ortho_props);\n",
    "    bp::def(\"M_aniso_props\", M_aniso_props);"
   ]
  },
  {
   "cell_type": "markdown",
   "metadata": {
    "collapsed": false
   },
   "source": [
    "## M_isotrans\n",
    "\n",
    "Provides the elastic compliance tensor for an isotropic transverse material.\n",
    "Arguments are longitudinal Young modulus EL, transverse young modulus, Poisson’s ratio for loading along the longitudinal axis nuTL, Poisson’s ratio for loading along the transverse axis nuTT, shear modulus GLT and the axis of symmetry."
   ]
  },
  {
   "cell_type": "code",
   "execution_count": 7,
   "metadata": {
    "collapsed": false
   },
   "outputs": [
    {
     "name": "stdout",
     "output_type": "stream",
     "text": [
      "[[  5.00e-05  -1.50e-05  -4.00e-06   0.00e+00   0.00e+00   0.00e+00]\n",
      " [ -1.50e-05   5.00e-05  -4.00e-06   0.00e+00   0.00e+00   0.00e+00]\n",
      " [ -4.00e-06  -4.00e-06   1.43e-05   0.00e+00   0.00e+00   0.00e+00]\n",
      " [  0.00e+00   0.00e+00   0.00e+00   1.30e-04   0.00e+00   0.00e+00]\n",
      " [  0.00e+00   0.00e+00   0.00e+00   0.00e+00   8.33e-05   0.00e+00]\n",
      " [  0.00e+00   0.00e+00   0.00e+00   0.00e+00   0.00e+00   8.33e-05]]\n",
      "[  7.00e+04   2.00e+04   8.00e-02   3.00e-01   1.20e+04]\n"
     ]
    }
   ],
   "source": [
    "EL = 70000.0\n",
    "ET = 20000.0\n",
    "nuTL = 0.08\n",
    "nuTT = 0.3\n",
    "GLT = 12000.0\n",
    "axis = 3\n",
    "M = sim.M_isotrans(EL,ET,nuTL,nuTT,GLT,axis)\n",
    "print np.array_str(M, precision=2)\n",
    "\n",
    "x = sim.M_isotrans_props(M,axis)\n",
    "print np.array_str(x, precision=2)"
   ]
  },
  {
   "cell_type": "markdown",
   "metadata": {
    "collapsed": false
   },
   "source": [
    "## L_ortho\n",
    "\n",
    "Provides the elastic stiffness tensor for an orthotropic material.\n",
    "Arguments are either (convention 'EnuG'):\n",
    "\n",
    "1. The Young modulus of axis 1 $E_1$,\n",
    "2. The Young modulus of axis 2 $E_2$,\n",
    "3. The Young modulus of axis 3 $E_3$,\n",
    "4. The Poisson ratio of direction 1 with respect to 2 $\\nu_{12}$,\n",
    "5. The Poisson ratio of direction 1 with respect to 3 $\\nu_{13}$,\n",
    "6. The Poisson ratio of direction 2 with respect to 3 $\\nu_{13}$,\n",
    "7. The shear modulus of direction 1 with respect to 2 $G_{12}$,\n",
    "8. The shear modulus of direction 1 with respect to 3 $G_{13}$,\n",
    "9. The shear modulus of direction 2 with respect to 3 $G_{23}$,\n",
    "10. The axial coefficient of thermal expansion in direction 1 $\\alpha_1$,\n",
    "11. The axial coefficient of thermal expansion in direction 1 $\\alpha_2$,\n",
    "12. The axial coefficient of thermal expansion in direction 1 $\\alpha_3$,\n",
    "\n",
    "or the list of Cii (C11, C12, C13, C22, C23, C33, C44, C55, C66) (convention 'Cii')"
   ]
  },
  {
   "cell_type": "code",
   "execution_count": 8,
   "metadata": {
    "collapsed": false
   },
   "outputs": [
    {
     "name": "stdout",
     "output_type": "stream",
     "text": [
      "[[ 4537.59   228.65   298.33     0.       0.       0.  ]\n",
      " [  228.65  2583.23   920.72     0.       0.       0.  ]\n",
      " [  298.33   920.72  3038.57     0.       0.       0.  ]\n",
      " [    0.       0.       0.    2200.       0.       0.  ]\n",
      " [    0.       0.       0.       0.    2100.       0.  ]\n",
      " [    0.       0.       0.       0.       0.    2400.  ]]\n",
      "ELORT\n",
      "0\n",
      "[  4.50e+03   2.30e+03   2.70e+03   6.00e-02   8.00e-02   3.00e-01\n",
      "   2.20e+03   2.10e+03   2.40e+03]\n",
      "[  4.50e+03   2.30e+03   2.70e+03   6.00e-02   8.00e-02   3.00e-01\n",
      "   2.20e+03   2.10e+03   2.40e+03]\n"
     ]
    }
   ],
   "source": [
    "E_1 = 4500.0\n",
    "E_2 = 2300.0\n",
    "E_3 = 2700.0\n",
    "nu_12 = 0.06\n",
    "nu_13 = 0.08\n",
    "nu_23 = 0.3\n",
    "G_12 = 2200.0\n",
    "G_13 = 2100.0\n",
    "G_23 = 2400.0\n",
    "\n",
    "L = sim.L_ortho(E_1,E_2,E_3,nu_12,nu_13,nu_23,G_12,G_13,G_23,'EnuG')\n",
    "print np.array_str(L, precision=2)\n",
    "\n",
    "d = sim.check_symetries(L)\n",
    "print(d['umat_type'])\n",
    "print(d['axis'])\n",
    "print np.array_str(d['props'], precision=2)\n",
    "\n",
    "x = sim.L_ortho_props(L)\n",
    "print np.array_str(x, precision=2)"
   ]
  },
  {
   "cell_type": "markdown",
   "metadata": {
    "collapsed": false
   },
   "source": [
    "## M_ortho\n",
    "\n",
    "Provides the elastic compliance tensor for an orthotropic material.\n",
    "Arguments are either (convention 'EnuG'):\n",
    "\n",
    "1. The Young modulus of axis 1 $E_1$,\n",
    "2. The Young modulus of axis 2 $E_2$,\n",
    "3. The Young modulus of axis 3 $E_3$,\n",
    "4. The Poisson ratio of direction 1 with respect to 2 $\\nu_{12}$,\n",
    "5. The Poisson ratio of direction 1 with respect to 3 $\\nu_{13}$,\n",
    "6. The Poisson ratio of direction 2 with respect to 3 $\\nu_{13}$,\n",
    "7. The shear modulus of direction 1 with respect to 2 $G_{12}$,\n",
    "8. The shear modulus of direction 1 with respect to 3 $G_{13}$,\n",
    "9. The shear modulus of direction 2 with respect to 3 $G_{23}$,\n",
    "10. The axial coefficient of thermal expansion in direction 1 $\\alpha_1$,\n",
    "11. The axial coefficient of thermal expansion in direction 1 $\\alpha_2$,\n",
    "12. The axial coefficient of thermal expansion in direction 1 $\\alpha_3$,\n",
    "\n",
    "or the list of Cii (C11, C12, C13, C22, C23, C33, C44, C55, C66) (convention 'Cii')"
   ]
  },
  {
   "cell_type": "code",
   "execution_count": 9,
   "metadata": {
    "collapsed": false
   },
   "outputs": [
    {
     "name": "stdout",
     "output_type": "stream",
     "text": [
      "[[  2.22e-04  -1.33e-05  -1.78e-05   0.00e+00   0.00e+00   0.00e+00]\n",
      " [ -1.33e-05   4.35e-04  -1.30e-04   0.00e+00   0.00e+00   0.00e+00]\n",
      " [ -1.78e-05  -1.30e-04   3.70e-04   0.00e+00   0.00e+00   0.00e+00]\n",
      " [  0.00e+00   0.00e+00   0.00e+00   4.55e-04   0.00e+00   0.00e+00]\n",
      " [  0.00e+00   0.00e+00   0.00e+00   0.00e+00   4.76e-04   0.00e+00]\n",
      " [  0.00e+00   0.00e+00   0.00e+00   0.00e+00   0.00e+00   4.17e-04]]\n",
      "[  4.50e+03   2.30e+03   2.70e+03   6.00e-02   8.00e-02   3.00e-01\n",
      "   2.20e+03   2.10e+03   2.40e+03]\n"
     ]
    }
   ],
   "source": [
    "E_1 = 4500.0\n",
    "E_2 = 2300.0\n",
    "E_3 = 2700.0\n",
    "nu_12 = 0.06\n",
    "nu_13 = 0.08\n",
    "nu_23 = 0.3\n",
    "G_12 = 2200.0\n",
    "G_13 = 2100.0\n",
    "G_23 = 2400.0\n",
    "\n",
    "M = sim.M_ortho(E_1,E_2,E_3,nu_12,nu_13,nu_23,G_12,G_13,G_23,'EnuG')\n",
    "print np.array_str(M, precision=2)\n",
    "\n",
    "x = sim.M_ortho_props(M)\n",
    "print np.array_str(x, precision=2)"
   ]
  },
  {
   "cell_type": "code",
   "execution_count": null,
   "metadata": {
    "collapsed": true
   },
   "outputs": [],
   "source": []
  }
 ],
 "metadata": {
  "kernelspec": {
   "display_name": "Python 2",
   "language": "python",
   "name": "python2"
  },
  "language_info": {
   "codemirror_mode": {
    "name": "ipython",
    "version": 2
   },
   "file_extension": ".py",
   "mimetype": "text/x-python",
   "name": "python",
   "nbconvert_exporter": "python",
   "pygments_lexer": "ipython2",
   "version": "2.7.11"
  }
 },
 "nbformat": 4,
 "nbformat_minor": 0
}
