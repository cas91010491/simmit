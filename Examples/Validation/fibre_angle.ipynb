{
 "cells": [
  {
   "cell_type": "markdown",
   "metadata": {},
   "source": [
    "# Composites simulation :  plastic plies"
   ]
  },
  {
   "cell_type": "code",
   "execution_count": 1,
   "metadata": {
    "collapsed": false
   },
   "outputs": [],
   "source": [
    "%matplotlib inline\n",
    "\n",
    "import numpy as np\n",
    "import pandas as pd\n",
    "import matplotlib.pyplot as plt\n",
    "from simmit import smartplus as sim\n",
    "import os\n",
    "\n",
    "dir = os.path.dirname(os.path.realpath('__file__'))"
   ]
  },
  {
   "cell_type": "markdown",
   "metadata": {},
   "source": [
    "We need to import here the data, modify them if needed and proceed"
   ]
  },
  {
   "cell_type": "code",
   "execution_count": 19,
   "metadata": {
    "collapsed": false
   },
   "outputs": [
    {
     "data": {
      "text/html": [
       "<div>\n",
       "<table border=\"1\" class=\"dataframe\">\n",
       "  <thead>\n",
       "    <tr style=\"text-align: right;\">\n",
       "      <th></th>\n",
       "      <th>Number</th>\n",
       "      <th>Coatingof</th>\n",
       "      <th>umat</th>\n",
       "      <th>save</th>\n",
       "      <th>c</th>\n",
       "      <th>psi_mat</th>\n",
       "      <th>theta_mat</th>\n",
       "      <th>phi_mat</th>\n",
       "      <th>a1</th>\n",
       "      <th>a2</th>\n",
       "      <th>a3</th>\n",
       "      <th>psi_geom</th>\n",
       "      <th>theta_geom</th>\n",
       "      <th>phi_geom</th>\n",
       "      <th>nprops</th>\n",
       "      <th>nstatev</th>\n",
       "      <th>props</th>\n",
       "    </tr>\n",
       "  </thead>\n",
       "  <tbody>\n",
       "    <tr>\n",
       "      <th>0</th>\n",
       "      <td>1</td>\n",
       "      <td>0</td>\n",
       "      <td>ELISO</td>\n",
       "      <td>1</td>\n",
       "      <td>0.8</td>\n",
       "      <td>0.0</td>\n",
       "      <td>0.0</td>\n",
       "      <td>0.0</td>\n",
       "      <td>1</td>\n",
       "      <td>1</td>\n",
       "      <td>1</td>\n",
       "      <td>0.0</td>\n",
       "      <td>0.0</td>\n",
       "      <td>0.0</td>\n",
       "      <td>3</td>\n",
       "      <td>1</td>\n",
       "      <td>3000</td>\n",
       "    </tr>\n",
       "    <tr>\n",
       "      <th>1</th>\n",
       "      <td>0</td>\n",
       "      <td>0</td>\n",
       "      <td>ELISO</td>\n",
       "      <td>1</td>\n",
       "      <td>0.2</td>\n",
       "      <td>0.0</td>\n",
       "      <td>0.0</td>\n",
       "      <td>0.0</td>\n",
       "      <td>50</td>\n",
       "      <td>1</td>\n",
       "      <td>1</td>\n",
       "      <td>0.0</td>\n",
       "      <td>0.0</td>\n",
       "      <td>0.0</td>\n",
       "      <td>3</td>\n",
       "      <td>1</td>\n",
       "      <td>70000</td>\n",
       "    </tr>\n",
       "  </tbody>\n",
       "</table>\n",
       "</div>"
      ],
      "text/plain": [
       "   Number  Coatingof   umat  save    c  psi_mat  theta_mat  phi_mat  a1  a2  \\\n",
       "0       1          0  ELISO     1  0.8      0.0        0.0      0.0   1   1   \n",
       "1       0          0  ELISO     1  0.2      0.0        0.0      0.0  50   1   \n",
       "\n",
       "   a3  psi_geom  theta_geom  phi_geom  nprops  nstatev  props  \n",
       "0   1       0.0         0.0       0.0       3        1   3000  \n",
       "1   1       0.0         0.0       0.0       3        1  70000  "
      ]
     },
     "execution_count": 19,
     "metadata": {},
     "output_type": "execute_result"
    }
   ],
   "source": [
    "umat_name = 'MIMTN' #This is the 5 character code for the Mori-Tanaka homogenization for composites with a matrix and ellipsoidal reinforcments\n",
    "nstatev = 0\n",
    "\n",
    "rho = 1.12 #The density of the material (overall)\n",
    "c_p = 1.64 #The specific heat capacity (overall)\n",
    "\n",
    "nphases = 2 #The number of phases\n",
    "num_file = 0 #The num of the file that contains the subphases\n",
    "int1 = 100 \n",
    "int2 = 100\n",
    "\n",
    "props = np.array([nphases, num_file, int1, int2])\n",
    "\n",
    "NPhases_file = dir + '/data/Nellipsoids0.dat'\n",
    "NPhases = pd.read_csv(NPhases_file, delimiter=r'\\s+', index_col=False, engine='python')\n",
    "NPhases[::]\n"
   ]
  },
  {
   "cell_type": "code",
   "execution_count": 23,
   "metadata": {
    "collapsed": false,
    "scrolled": false
   },
   "outputs": [
    {
     "name": "stdout",
     "output_type": "stream",
     "text": [
      "19235.4661462\n",
      "[[ 19235.4661   4930.5819   4928.6981     -0.         -0.         -0.    ]\n",
      " [  4930.5819   8231.1132   5241.8693     -0.         -0.          0.    ]\n",
      " [  4928.6981   5241.8693   8231.8033      0.         -0.         -0.    ]\n",
      " [    -0.         -0.          0.       1560.2177     -0.         -0.    ]\n",
      " [    -0.         -0.         -0.         -0.       1560.3091      0.    ]\n",
      " [    -0.          0.         -0.         -0.          0.       1495.2007]]\n"
     ]
    }
   ],
   "source": [
    "path_data = 'data'\n",
    "path_results = 'results'\n",
    "pathfile = 'path.txt'\n",
    "outputfile = 'results_PLN.txt'\n",
    "\n",
    "#nparams = 1\n",
    "\n",
    "#param_list = iden.read_parameters(nparams)\n",
    "\n",
    "rho = 1.12 #The density of the material \n",
    "c_p = 1.64 #The specific heat capacity\n",
    "\n",
    "psi_rve = 0.\n",
    "theta_rve = 0.\n",
    "phi_rve = 0.\n",
    "\n",
    "L = sim.L_eff(umat_name, props, nstatev, psi_rve, theta_rve, phi_rve, rho, c_p, path_data)\n",
    "\n",
    "a = L[0,0]\n",
    "\n",
    "print a\n",
    "\n",
    "print np.array_str(L, precision=4, suppress_small=True)\n"
   ]
  },
  {
   "cell_type": "markdown",
   "metadata": {
    "collapsed": false
   },
   "source": [
    "Quick verification, we will take the slope of the stress-strain curve and find out if it does correspond to E. For that one can take the last value of s11 and e11"
   ]
  },
  {
   "cell_type": "markdown",
   "metadata": {},
   "source": []
  }
 ],
 "metadata": {
  "kernelspec": {
   "display_name": "Python 2",
   "language": "python",
   "name": "python2"
  },
  "language_info": {
   "codemirror_mode": {
    "name": "ipython",
    "version": 2
   },
   "file_extension": ".py",
   "mimetype": "text/x-python",
   "name": "python",
   "nbconvert_exporter": "python",
   "pygments_lexer": "ipython2",
   "version": "2.7.11"
  }
 },
 "nbformat": 4,
 "nbformat_minor": 0
}
