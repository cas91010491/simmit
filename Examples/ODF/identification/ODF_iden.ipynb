{
 "cells": [
  {
   "cell_type": "markdown",
   "metadata": {},
   "source": [
    "# Orientation density functions"
   ]
  },
  {
   "cell_type": "code",
   "execution_count": 1,
   "metadata": {
    "collapsed": false
   },
   "outputs": [],
   "source": [
    "%matplotlib inline\n",
    "\n",
    "import numpy as np\n",
    "import pandas as pd\n",
    "import matplotlib.pyplot as plt\n",
    "from simmit import smartplus as sim\n",
    "from simmit import identify as iden\n",
    "import os\n",
    "\n",
    "dir = os.path.dirname(os.path.realpath('__file__'))"
   ]
  },
  {
   "cell_type": "markdown",
   "metadata": {},
   "source": [
    "In this Python Notebook we will show how to properly run a simulation of a composite material, providing the ODF (orientation density function) of the reinforcments.\n",
    "\n",
    "Such identification procedure require:\n",
    "1. Proper ODF peak data\n",
    "1. Proper composite properties\n",
    "2. A proper numerical model (here a composite model for laminate constitutive model)"
   ]
  },
  {
   "cell_type": "code",
   "execution_count": 2,
   "metadata": {
    "collapsed": false
   },
   "outputs": [
    {
     "data": {
      "text/plain": [
       "[<matplotlib.lines.Line2D at 0x10f2d68d0>]"
      ]
     },
     "execution_count": 2,
     "metadata": {},
     "output_type": "execute_result"
    },
    {
     "data": {
      "image/png": "[encoded data removed]",
      "text/plain": [
       "<matplotlib.figure.Figure at 0x10f2d6090>"
      ]
     },
     "metadata": {},
     "output_type": "display_data"
    }
   ],
   "source": [
    "x = np.arange(0,182,2)\n",
    "path_data = dir + '/data/'\n",
    "peak_file = 'Npeaks0.dat'\n",
    "\n",
    "y = sim.get_densities(x, path_data, peak_file, False)\n",
    "fig = plt.figure()\n",
    "\n",
    "plt.grid(True)\n",
    "plt.plot(x,y, c='black')"
   ]
  },
  {
   "cell_type": "markdown",
   "metadata": {},
   "source": [
    "In the previous graph we can see a multi-peak ODF (peaks are modeled using PEARSONVII functions). It actually represent quite well the microstructure of injected plates.\n",
    "The next step is to discretize the ODF into phases.\n",
    "The file containing the initial 2-phase microstructure contains the following informations"
   ]
  },
  {
   "cell_type": "code",
   "execution_count": 4,
   "metadata": {
    "collapsed": false
   },
   "outputs": [
    {
     "data": {
      "text/html": [
       "<div>\n",
       "<table border=\"1\" class=\"dataframe\">\n",
       "  <thead>\n",
       "    <tr style=\"text-align: right;\">\n",
       "      <th></th>\n",
       "      <th>Number</th>\n",
       "      <th>Coatingof</th>\n",
       "      <th>umat</th>\n",
       "      <th>save</th>\n",
       "      <th>c</th>\n",
       "      <th>psi_mat</th>\n",
       "      <th>theta_mat</th>\n",
       "      <th>phi_mat</th>\n",
       "      <th>a1</th>\n",
       "      <th>a2</th>\n",
       "      <th>a3</th>\n",
       "      <th>psi_geom</th>\n",
       "      <th>theta_geom</th>\n",
       "      <th>phi_geom</th>\n",
       "      <th>nprops</th>\n",
       "      <th>nstatev</th>\n",
       "      <th>props</th>\n",
       "    </tr>\n",
       "  </thead>\n",
       "  <tbody>\n",
       "    <tr>\n",
       "      <th>0</th>\n",
       "      <td>1</td>\n",
       "      <td>0</td>\n",
       "      <td>ELISO</td>\n",
       "      <td>1</td>\n",
       "      <td>0.8</td>\n",
       "      <td>0.0</td>\n",
       "      <td>0.0</td>\n",
       "      <td>0.0</td>\n",
       "      <td>1</td>\n",
       "      <td>1</td>\n",
       "      <td>1</td>\n",
       "      <td>0.0</td>\n",
       "      <td>0.0</td>\n",
       "      <td>0.0</td>\n",
       "      <td>3</td>\n",
       "      <td>1</td>\n",
       "      <td>3000</td>\n",
       "    </tr>\n",
       "    <tr>\n",
       "      <th>1</th>\n",
       "      <td>0</td>\n",
       "      <td>0</td>\n",
       "      <td>ELISO</td>\n",
       "      <td>1</td>\n",
       "      <td>0.2</td>\n",
       "      <td>0.0</td>\n",
       "      <td>0.0</td>\n",
       "      <td>0.0</td>\n",
       "      <td>50</td>\n",
       "      <td>1</td>\n",
       "      <td>1</td>\n",
       "      <td>0.0</td>\n",
       "      <td>0.0</td>\n",
       "      <td>0.0</td>\n",
       "      <td>3</td>\n",
       "      <td>1</td>\n",
       "      <td>70000</td>\n",
       "    </tr>\n",
       "  </tbody>\n",
       "</table>\n",
       "</div>"
      ],
      "text/plain": [
       "   Number  Coatingof   umat  save    c  psi_mat  theta_mat  phi_mat  a1  a2  \\\n",
       "0       1          0  ELISO     1  0.8      0.0        0.0      0.0   1   1   \n",
       "1       0          0  ELISO     1  0.2      0.0        0.0      0.0  50   1   \n",
       "\n",
       "   a3  psi_geom  theta_geom  phi_geom  nprops  nstatev  props  \n",
       "0   1       0.0         0.0       0.0       3        1   3000  \n",
       "1   1       0.0         0.0       0.0       3        1  70000  "
      ]
     },
     "execution_count": 4,
     "metadata": {},
     "output_type": "execute_result"
    }
   ],
   "source": [
    "NPhases_file = dir + '/data/Nellipsoids0.dat'\n",
    "NPhases = pd.read_csv(NPhases_file, delimiter=r'\\s+', index_col=False, engine='python')\n",
    "NPhases[::]"
   ]
  },
  {
   "cell_type": "code",
   "execution_count": 5,
   "metadata": {
    "collapsed": false
   },
   "outputs": [],
   "source": [
    "#Number_of_parameters\n",
    "n_param = 6\n",
    "#Number_of_consts\n",
    "n_consts = 0\n",
    "#Number_of_files\n",
    "nfiles = 1\n",
    "\n",
    "#Number_of_generations\n",
    "ngen =  200\n",
    "#Aleatory/Mesh space population : 0=mesh 1=meshlimit 2=random 3=defined\n",
    "aleaspace = 2\n",
    "#Space or aleatory population : apop in case of aleatory, spop in case of mesh\n",
    "apop = 200\n",
    "#Number of \"doped\" individual\n",
    "ngboys = 1\n",
    "#Max population per subgeneration\n",
    "maxpop = 50\n",
    "#stationnarity condition\n",
    "station_nb = 20\n",
    "\n",
    "path_data = dir + '/data'\n",
    "path_keys = dir + '/keys'\n",
    "path_results = dir + '/results'\n",
    "outputfile = 'id_params.txt'\n",
    "materialfile = 'material.dat'\n",
    "simul_type = 'ODF'\n",
    "\n",
    "iden.identification(simul_type,n_param,n_consts,nfiles,ngen,aleaspace,apop,ngboys,maxpop,station_nb,path_data,path_keys,path_results,materialfile,outputfile)"
   ]
  },
  {
   "cell_type": "code",
   "execution_count": 12,
   "metadata": {
    "collapsed": false
   },
   "outputs": [],
   "source": [
    "umat_name = 'MIMTN' #This is the 5 character code for the Mori-Tanaka homogenization for composites with a matrix and ellipsoidal reinforcments\n",
    "nstatev = 0\n",
    "\n",
    "nphases = 2 #The number of phases\n",
    "num_file = 0 #The num of the file that contains the subphases\n",
    "int1 = 20 \n",
    "int2 = 20\n",
    "\n",
    "psi_rve = 0.\n",
    "theta_rve = 0.\n",
    "phi_rve = 0.\n",
    "\n",
    "props = np.array([nphases, num_file, int1, int2, 0])\n",
    "\n",
    "path_data = 'data'\n",
    "path_results = 'results'\n",
    "Nfile_init = 'Nellipsoids0.dat'\n",
    "Nfile_disc = 'Nellipsoids2.dat'\n",
    "\n",
    "nphases_rve = 36\n",
    "num_phase_disc = 1\n",
    "\n",
    "sim.ODF_discretization(nphases_rve, num_phase_disc, 0., 180., umat_name, props, path_data, peak_file, Nfile_init, Nfile_disc, 1)"
   ]
  },
  {
   "cell_type": "code",
   "execution_count": 19,
   "metadata": {
    "collapsed": false
   },
   "outputs": [
    {
     "data": {
      "image/png": "[encoded data removed]",
      "text/plain": [
       "<matplotlib.figure.Figure at 0x110ce0190>"
      ]
     },
     "metadata": {},
     "output_type": "display_data"
    }
   ],
   "source": [
    "#Plot the concentration and the angle\n",
    "NPhases_exp = dir + '/exp_data/Nellipsoids0.dat'\n",
    "NPhases_iden = dir + '/' + path_data + '/' + Nfile_disc\n",
    "c_exp, angle_exp = np.loadtxt(NPhases_file, usecols=(4,5), skiprows=2, unpack=True)\n",
    "c_iden, angle_iden = np.loadtxt(NPhases_iden, usecols=(4,5), skiprows=2, unpack=True)\n",
    "\n",
    "fig, ax1 = plt.subplots()\n",
    "ax2 = ax1.twinx()\n",
    "\n",
    "# the histogram of the data\n",
    "xs = np.arange(0,180,5)\n",
    "rects1 = ax1.bar(xs, c_exp, width=5, color='b', align='center')\n",
    "rects2 = ax1.bar(xs, c_iden, width=3, color='r', align='center')\n",
    "\n",
    "ax1.set_xlabel('X data')\n",
    "ax1.set_ylabel('Y1 data', color='g')\n",
    "ax2.set_ylabel('Y2 data', color='b')\n",
    "\n",
    "ax1.set_ylim([0,0.025])\n",
    "ax2.set_ylim([0,0.25])\n",
    "\n",
    "plt.show()\n",
    "\n",
    "#plt.grid(True)\n",
    "#plt.plot(angle,c, c='black')\n",
    "plt.show()"
   ]
  },
  {
   "cell_type": "code",
   "execution_count": null,
   "metadata": {
    "collapsed": true
   },
   "outputs": [],
   "source": []
  }
 ],
 "metadata": {
  "kernelspec": {
   "display_name": "Python 2",
   "language": "python",
   "name": "python2"
  },
  "language_info": {
   "codemirror_mode": {
    "name": "ipython",
    "version": 2
   },
   "file_extension": ".py",
   "mimetype": "text/x-python",
   "name": "python",
   "nbconvert_exporter": "python",
   "pygments_lexer": "ipython2",
   "version": "2.7.11"
  }
 },
 "nbformat": 4,
 "nbformat_minor": 0
}
