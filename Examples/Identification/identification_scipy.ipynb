{
 "cells": [
  {
   "cell_type": "code",
   "execution_count": 16,
   "metadata": {
    "collapsed": false
   },
   "outputs": [],
   "source": [
    "%matplotlib inline\n",
    "\n",
    "import numpy as np\n",
    "import matplotlib.pyplot as plt\n",
    "from simmit import smartplus as sim\n",
    "from simmit import identify as iden\n",
    "import pandas as pd\n",
    "import os\n",
    "\n",
    "from scipy.optimize import minimize\n",
    "\n",
    "dir = os.path.dirname(os.path.realpath('__file__'))"
   ]
  },
  {
   "cell_type": "markdown",
   "metadata": {},
   "source": [
    "    number = mnumber;\n",
    "    value = mvalue;\n",
    "    input_values = arma2numpy::array2vec(minput_values);\n",
    "    key = mkey;\n",
    "    ninput_files = mninput_files;\n",
    "    input_files = arma2numpy::py_list_to_std_vector_string(minput_files);"
   ]
  },
  {
   "cell_type": "code",
   "execution_count": 17,
   "metadata": {
    "collapsed": false
   },
   "outputs": [],
   "source": [
    "umat_name = 'MIPLN' #This is the 5 character code for the periodic homogenization for multlayered composite\n",
    "nstatev = 0 #The number of scalar variables required, everything is stored in sub-phases statevs\n",
    "\n",
    "rho = 1.12 #The density of the material (overall)\n",
    "c_p = 1.64 #The specific heat capacity (overall)\n",
    "\n",
    "nphases = 2 #The number of phases\n",
    "num_file = 0 #The num of the file that contains the subphases\n",
    "\n",
    "psi_rve = 0.\n",
    "theta_rve = 0.\n",
    "phi_rve = 0.\n",
    "\n",
    "props = np.array([nphases, num_file])\n",
    "\n",
    "#NPhases_file = dir + '/data/Nlayers0.dat'\n",
    "#NPhases = pd.read_csv(NPhases_file, delimiter=r'\\s+', index_col=False, engine='python')\n",
    "#NPhases[::]"
   ]
  },
  {
   "cell_type": "code",
   "execution_count": 18,
   "metadata": {
    "collapsed": false
   },
   "outputs": [],
   "source": [
    "def sim_solver ( p ):\n",
    "    \n",
    "    num_path = 'num_data'\n",
    "    sim_file = 'simul.txt'\n",
    "    sim_file_root = sim_file[:-4]\n",
    "    sim_file_exten = sim_file[-4:]    \n",
    "    \n",
    "    for param in param_list:\n",
    "        param.value = p[param.number]\n",
    "    \n",
    "    for n_simul in range(0, nfiles):\n",
    "        for const in const_list:\n",
    "            const.value = const.input_values[n_simul]\n",
    "            \n",
    "        iden.copy_constants(const_list, path_keys, path_data)\n",
    "        iden.copy_parameters(param_list, path_keys, path_data)\n",
    "\n",
    "        iden.apply_constants(const_list, path_data)\n",
    "        iden.apply_parameters(param_list, path_data)\n",
    "\n",
    "        outputfile = dir + '/' + num_path + '/' + sim_file_root + str(n_simul+1) + sim_file_exten;\n",
    "        pathfile = 'path_id_' + str(n_simul+1) + '.txt';\n",
    "        sim.solver(umat_name, props, nstatev, psi_rve, theta_rve, phi_rve, rho, c_p, pathfile, outputfile)\n",
    "        \n",
    "    return iden.calc_cost(nfiles, sim_file)"
   ]
  },
  {
   "cell_type": "code",
   "execution_count": 19,
   "metadata": {
    "collapsed": false
   },
   "outputs": [
    {
     "name": "stdout",
     "output_type": "stream",
     "text": [
      "Optimization terminated successfully.\n",
      "         Current function value: 0.000000\n",
      "         Iterations: 320\n",
      "         Function evaluations: 623\n",
      " final_simplex: (array([[  3.10340006e+04,   4.56899980e+03,   6.50004979e-02,\n",
      "          1.99999994e+03],\n",
      "       [  3.10340006e+04,   4.56899980e+03,   6.50004979e-02,\n",
      "          1.99999994e+03],\n",
      "       [  3.10340006e+04,   4.56899980e+03,   6.50004979e-02,\n",
      "          1.99999994e+03],\n",
      "       [  3.10340006e+04,   4.56899980e+03,   6.50004979e-02,\n",
      "          1.99999994e+03],\n",
      "       [  3.10340006e+04,   4.56899980e+03,   6.50004979e-02,\n",
      "          1.99999994e+03]]), array([  4.59502158e-13,   4.59502158e-13,   4.59502158e-13,\n",
      "         4.59502158e-13,   4.59502158e-13]))\n",
      "           fun: 4.5950215788184584e-13\n",
      "       message: 'Optimization terminated successfully.'\n",
      "          nfev: 623\n",
      "           nit: 320\n",
      "        status: 0\n",
      "       success: True\n",
      "             x: array([  3.10340006e+04,   4.56899980e+03,   6.50004979e-02,\n",
      "         1.99999994e+03])\n"
     ]
    }
   ],
   "source": [
    "path_data = dir + '/data/'\n",
    "path_keys = dir + '/keys/'\n",
    "nconsts = 2\n",
    "nfiles = 3\n",
    "\n",
    "nparams = 4\n",
    "\n",
    "const_list = iden.read_constants(nconsts, nfiles)\n",
    "param_list = iden.read_parameters(nparams)\n",
    "\n",
    "#The array of parameters\n",
    "p = np.zeros(nparams)\n",
    "\n",
    "for param in param_list:\n",
    "    param.value = (param.min_value + param.max_value)/2.0\n",
    "    p[param.number] = param.value\n",
    "\n",
    "#outputfile = dir + '/' + sim_file\n",
    "#pathfile = dir + '/path.txt'\n",
    "\n",
    "#Replace the constants\n",
    "res = minimize(sim_solver, p,  method='nelder-mead', options={'xtol': 1e-8, 'disp': True})\n",
    "#res = minimize(sim_solver, p,  method='BFGS', options={'disp': True})\n",
    "\n",
    "print(res)\n"
   ]
  },
  {
   "cell_type": "code",
   "execution_count": null,
   "metadata": {
    "collapsed": false
   },
   "outputs": [],
   "source": [
    "print(const_list[0].number)\n",
    "print(const_list[1].number)\n",
    "\n",
    "print(param_list[0].value)\n",
    "print(param_list[1].value)\n",
    "\n",
    "print(param_list[0].min_value)\n",
    "print(param_list[0].max_value)"
   ]
  },
  {
   "cell_type": "code",
   "execution_count": null,
   "metadata": {
    "collapsed": true
   },
   "outputs": [],
   "source": []
  }
 ],
 "metadata": {
  "kernelspec": {
   "display_name": "Python 2",
   "language": "python",
   "name": "python2"
  },
  "language_info": {
   "codemirror_mode": {
    "name": "ipython",
    "version": 2
   },
   "file_extension": ".py",
   "mimetype": "text/x-python",
   "name": "python",
   "nbconvert_exporter": "python",
   "pygments_lexer": "ipython2",
   "version": "2.7.11"
  }
 },
 "nbformat": 4,
 "nbformat_minor": 0
}
